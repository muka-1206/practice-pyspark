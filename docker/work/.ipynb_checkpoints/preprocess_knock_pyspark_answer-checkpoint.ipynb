{
 "cells": [
  {
   "cell_type": "markdown",
   "metadata": {},
   "source": [
    "# データサイエンス100本ノック（構造化データ加工編） - pySpark"
   ]
  },
  {
   "cell_type": "markdown",
   "metadata": {},
   "source": [
    "## はじめに\n",
    "- 初めに以下のセルを実行してください\n",
    "- データはデータサイエンティスト協会が用意したダミーデータです"
   ]
  },
  {
   "cell_type": "code",
   "execution_count": 148,
   "metadata": {},
   "outputs": [],
   "source": [
    "#データ読み込み\n",
    "from pyspark.sql import SparkSession\n",
    "from pyspark.context import SparkContext\n",
    "\n",
    "sc = SparkContext.getOrCreate()\n",
    "spark = SparkSession(sc)\n",
    "\n",
    "df_customer = spark.read.option(\"inferSchema\", \"true\").option(\"header\",\"True\").csv(\"./data/customer.csv\")\n",
    "df_category = spark.read.option(\"inferSchema\", \"true\").option(\"header\",\"True\").csv(\"./data/category.csv\")\n",
    "df_product = spark.read.option(\"inferSchema\", \"true\").option(\"header\",\"True\").csv(\"./data/product.csv\")\n",
    "df_receipt = spark.read.option(\"inferSchema\", \"true\").option(\"header\",\"True\").csv(\"./data/receipt.csv\")\n",
    "df_store = spark.read.option(\"inferSchema\", \"true\").option(\"header\",\"True\").csv(\"./data/store.csv\")\n",
    "df_geocode = spark.read.option(\"inferSchema\", \"true\").option(\"header\",\"True\").csv(\"./data/geocode.csv\")"
   ]
  },
  {
   "cell_type": "markdown",
   "metadata": {},
   "source": [
    "# 演習問題"
   ]
  },
  {
   "cell_type": "markdown",
   "metadata": {},
   "source": [
    "---\n",
    "> P-001: レシート明細のデータフレーム（df_receipt）から全項目の先頭10件を表示し、どのようなデータを保有しているか目視で確認せよ。"
   ]
  },
  {
   "cell_type": "code",
   "execution_count": 4,
   "metadata": {},
   "outputs": [
    {
     "name": "stdout",
     "output_type": "stream",
     "text": [
      "+---------+-----------+--------+----------+--------------+--------------+----------+--------+------+\n",
      "|sales_ymd|sales_epoch|store_cd|receipt_no|receipt_sub_no|   customer_id|product_cd|quantity|amount|\n",
      "+---------+-----------+--------+----------+--------------+--------------+----------+--------+------+\n",
      "| 20181103| 1257206400|  S14006|       112|             1|CS006214000001|P070305012|       1|   158|\n",
      "| 20181118| 1258502400|  S13008|      1132|             2|CS008415000097|P070701017|       1|    81|\n",
      "| 20170712| 1215820800|  S14028|      1102|             1|CS028414000014|P060101005|       1|   170|\n",
      "| 20190205| 1265328000|  S14042|      1132|             1|ZZ000000000000|P050301001|       1|    25|\n",
      "| 20180821| 1250812800|  S14025|      1102|             2|CS025415000050|P060102007|       1|    90|\n",
      "| 20190605| 1275696000|  S13003|      1112|             1|CS003515000195|P050102002|       1|   138|\n",
      "| 20181205| 1259971200|  S14024|      1102|             2|CS024514000042|P080101005|       1|    30|\n",
      "| 20190922| 1285113600|  S14040|      1102|             1|CS040415000178|P070501004|       1|   128|\n",
      "| 20170504| 1209859200|  S13020|      1112|             2|ZZ000000000000|P071302010|       1|   770|\n",
      "| 20191010| 1286668800|  S14027|      1102|             1|CS027514000015|P071101003|       1|   680|\n",
      "| 20190918| 1284768000|  S14025|      1182|             2|CS025415000134|P070401002|       1|   138|\n",
      "| 20171010| 1223596800|  S14021|      1162|             1|CS021515000126|P040402001|       1|   228|\n",
      "| 20180506| 1241568000|  S13039|      1112|             1|CS039414000052|P059001019|       1|   428|\n",
      "| 20190326| 1269561600|  S13016|       112|             1|CS016215000032|P091401190|       1|   780|\n",
      "| 20180329| 1238284800|  S12014|      1122|             1|ZZ000000000000|P050104001|       1|   115|\n",
      "| 20170116| 1200441600|  S13002|      1112|             1|ZZ000000000000|P080803001|       1|   100|\n",
      "| 20190621| 1277078400|  S13044|      1142|             2|ZZ000000000000|P040102001|       1|   268|\n",
      "| 20181225| 1261699200|  S13020|      1172|             2|ZZ000000000000|P071401002|       1|  1100|\n",
      "| 20190603| 1275523200|  S14026|      1182|             1|CS026515000042|P070504016|       1|   188|\n",
      "| 20190606| 1275782400|  S13044|      1122|             1|ZZ000000000000|P071102002|       1|   190|\n",
      "+---------+-----------+--------+----------+--------------+--------------+----------+--------+------+\n",
      "only showing top 20 rows\n",
      "\n"
     ]
    }
   ],
   "source": [
    "df_receipt.show(20)"
   ]
  },
  {
   "cell_type": "markdown",
   "metadata": {},
   "source": [
    "---\n",
    "> P-002: レシート明細のデータフレーム（df_receipt）から売上日（sales_ymd）、顧客ID（customer_id）、商品コード（product_cd）、売上金額（amount）の順に列を指定し、10件表示させよ。"
   ]
  },
  {
   "cell_type": "code",
   "execution_count": 5,
   "metadata": {},
   "outputs": [
    {
     "name": "stdout",
     "output_type": "stream",
     "text": [
      "+---------+--------------+----------+------+\n",
      "|sales_ymd|   customer_id|product_cd|amount|\n",
      "+---------+--------------+----------+------+\n",
      "| 20181103|CS006214000001|P070305012|   158|\n",
      "| 20181118|CS008415000097|P070701017|    81|\n",
      "| 20170712|CS028414000014|P060101005|   170|\n",
      "| 20190205|ZZ000000000000|P050301001|    25|\n",
      "| 20180821|CS025415000050|P060102007|    90|\n",
      "| 20190605|CS003515000195|P050102002|   138|\n",
      "| 20181205|CS024514000042|P080101005|    30|\n",
      "| 20190922|CS040415000178|P070501004|   128|\n",
      "| 20170504|ZZ000000000000|P071302010|   770|\n",
      "| 20191010|CS027514000015|P071101003|   680|\n",
      "+---------+--------------+----------+------+\n",
      "only showing top 10 rows\n",
      "\n"
     ]
    }
   ],
   "source": [
    "df_receipt.select(\n",
    "    \"sales_ymd\",\n",
    "    \"customer_id\",\n",
    "    \"product_cd\",\n",
    "    \"amount\"\n",
    "    ).show(10)"
   ]
  },
  {
   "cell_type": "markdown",
   "metadata": {},
   "source": [
    "---\n",
    "> P-003: レシート明細のデータフレーム（df_receipt）から売上日（sales_ymd）、顧客ID（customer_id）、商品コード（product_cd）、売上金額（amount）の順に列を指定し、10件表示させよ。ただし、sales_ymdはsales_dateに項目名を変更しながら抽出すること。"
   ]
  },
  {
   "cell_type": "code",
   "execution_count": 6,
   "metadata": {},
   "outputs": [
    {
     "name": "stdout",
     "output_type": "stream",
     "text": [
      "+----------+--------------+----------+------+\n",
      "|sales_date|   customer_id|product_cd|amount|\n",
      "+----------+--------------+----------+------+\n",
      "|  20181103|CS006214000001|P070305012|   158|\n",
      "|  20181118|CS008415000097|P070701017|    81|\n",
      "|  20170712|CS028414000014|P060101005|   170|\n",
      "|  20190205|ZZ000000000000|P050301001|    25|\n",
      "|  20180821|CS025415000050|P060102007|    90|\n",
      "|  20190605|CS003515000195|P050102002|   138|\n",
      "|  20181205|CS024514000042|P080101005|    30|\n",
      "|  20190922|CS040415000178|P070501004|   128|\n",
      "|  20170504|ZZ000000000000|P071302010|   770|\n",
      "|  20191010|CS027514000015|P071101003|   680|\n",
      "+----------+--------------+----------+------+\n",
      "only showing top 10 rows\n",
      "\n"
     ]
    }
   ],
   "source": [
    "df_receipt.select(\n",
    "    \"sales_ymd\",\n",
    "    \"customer_id\",\n",
    "    \"product_cd\",\n",
    "    \"amount\"\n",
    "    ).withColumnRenamed(\"sales_ymd\",\"sales_date\")\\\n",
    "    .show(10)"
   ]
  },
  {
   "cell_type": "markdown",
   "metadata": {},
   "source": [
    "---\n",
    "> P-004: レシート明細のデータフレーム（df_receipt）から売上日（sales_ymd）、顧客ID（customer_id）、商品コード（product_cd）、売上金額（amount）の順に列を指定し、以下の条件を満たすデータを抽出せよ。\n",
    "> - 顧客ID（customer_id）が\"CS018205000001\""
   ]
  },
  {
   "cell_type": "code",
   "execution_count": 7,
   "metadata": {},
   "outputs": [
    {
     "name": "stdout",
     "output_type": "stream",
     "text": [
      "+---------+--------------+----------+------+\n",
      "|sales_ymd|   customer_id|product_cd|amount|\n",
      "+---------+--------------+----------+------+\n",
      "| 20180911|CS018205000001|P071401012|  2200|\n",
      "| 20180414|CS018205000001|P060104007|   600|\n",
      "| 20170614|CS018205000001|P050206001|   990|\n",
      "| 20170614|CS018205000001|P060702015|   108|\n",
      "| 20190216|CS018205000001|P071005024|   102|\n",
      "| 20180414|CS018205000001|P071101002|   278|\n",
      "| 20190226|CS018205000001|P070902035|   168|\n",
      "| 20190924|CS018205000001|P060805001|   495|\n",
      "| 20190226|CS018205000001|P071401020|  2200|\n",
      "| 20180911|CS018205000001|P071401005|  1100|\n",
      "+---------+--------------+----------+------+\n",
      "only showing top 10 rows\n",
      "\n"
     ]
    }
   ],
   "source": [
    "df_receipt.where(\"customer_id == 'CS018205000001'\")\\\n",
    "    .select(\n",
    "    \"sales_ymd\",\n",
    "    \"customer_id\",\n",
    "    \"product_cd\",\n",
    "    \"amount\"\n",
    "    ).show(10)"
   ]
  },
  {
   "cell_type": "markdown",
   "metadata": {},
   "source": [
    "---\n",
    "> P-005: レシート明細のデータフレーム（df_receipt）から売上日（sales_ymd）、顧客ID（customer_id）、商品コード（product_cd）、売上金額（amount）の順に列を指定し、以下の条件を満たすデータを抽出せよ。\n",
    "> - 顧客ID（customer_id）が\"CS018205000001\"\n",
    "> - 売上金額（amount）が1,000以上"
   ]
  },
  {
   "cell_type": "code",
   "execution_count": 8,
   "metadata": {},
   "outputs": [
    {
     "name": "stdout",
     "output_type": "stream",
     "text": [
      "+---------+--------------+----------+------+\n",
      "|sales_ymd|   customer_id|product_cd|amount|\n",
      "+---------+--------------+----------+------+\n",
      "| 20180911|CS018205000001|P071401012|  2200|\n",
      "| 20190226|CS018205000001|P071401020|  2200|\n",
      "| 20180911|CS018205000001|P071401005|  1100|\n",
      "+---------+--------------+----------+------+\n",
      "\n"
     ]
    }
   ],
   "source": [
    "df_receipt.where(\"customer_id == 'CS018205000001' AND amount >= 1000\")\\\n",
    "    .select(\n",
    "    \"sales_ymd\",\n",
    "    \"customer_id\",\n",
    "    \"product_cd\",\n",
    "    \"amount\"\n",
    "    ).show(10)"
   ]
  },
  {
   "cell_type": "markdown",
   "metadata": {},
   "source": [
    "---\n",
    "> P-006: レシート明細データフレーム「df_receipt」から売上日（sales_ymd）、顧客ID（customer_id）、商品コード（product_cd）、売上数量（quantity）、売上金額（amount）の順に列を指定し、以下の条件を満たすデータを抽出せよ。\n",
    "> - 顧客ID（customer_id）が\"CS018205000001\"\n",
    "> - 売上金額（amount）が1,000以上または売上数量（quantity）が5以上"
   ]
  },
  {
   "cell_type": "code",
   "execution_count": 9,
   "metadata": {},
   "outputs": [
    {
     "name": "stdout",
     "output_type": "stream",
     "text": [
      "+---------+--------------+----------+--------+------+\n",
      "|sales_ymd|   customer_id|product_cd|quantity|amount|\n",
      "+---------+--------------+----------+--------+------+\n",
      "| 20180911|CS018205000001|P071401012|       1|  2200|\n",
      "| 20180414|CS018205000001|P060104007|       6|   600|\n",
      "| 20170614|CS018205000001|P050206001|       5|   990|\n",
      "| 20190226|CS018205000001|P071401020|       1|  2200|\n",
      "| 20180911|CS018205000001|P071401005|       1|  1100|\n",
      "+---------+--------------+----------+--------+------+\n",
      "\n"
     ]
    }
   ],
   "source": [
    "df_receipt.where(\"customer_id=='CS018205000001' AND (amount>=1000 OR quantity>=5)\")\\\n",
    "    .select(\n",
    "    \"sales_ymd\",\n",
    "    \"customer_id\",\n",
    "    \"product_cd\",\n",
    "    \"quantity\",\n",
    "    \"amount\"\n",
    "    ).show(10)"
   ]
  },
  {
   "cell_type": "markdown",
   "metadata": {},
   "source": [
    "---\n",
    "> P-007: レシート明細のデータフレーム（df_receipt）から売上日（sales_ymd）、顧客ID（customer_id）、商品コード（product_cd）、売上金額（amount）の順に列を指定し、以下の条件を満たすデータを抽出せよ。\n",
    "> - 顧客ID（customer_id）が\"CS018205000001\"\n",
    "> - 売上金額（amount）が1,000以上2,000以下"
   ]
  },
  {
   "cell_type": "code",
   "execution_count": 10,
   "metadata": {},
   "outputs": [
    {
     "name": "stdout",
     "output_type": "stream",
     "text": [
      "+---------+--------------+----------+------+\n",
      "|sales_ymd|   customer_id|product_cd|amount|\n",
      "+---------+--------------+----------+------+\n",
      "| 20180911|CS018205000001|P071401005|  1100|\n",
      "+---------+--------------+----------+------+\n",
      "\n"
     ]
    }
   ],
   "source": [
    "df_receipt.where(\"customer_id=='CS018205000001' AND (1000<=amount AND amount<=2000)\")\\\n",
    "    .select(\n",
    "    \"sales_ymd\",\n",
    "    \"customer_id\",\n",
    "    \"product_cd\",\n",
    "    \"amount\"\n",
    "    ).show(10)"
   ]
  },
  {
   "cell_type": "markdown",
   "metadata": {},
   "source": [
    "---\n",
    "> P-008: レシート明細のデータフレーム（df_receipt）から売上日（sales_ymd）、顧客ID（customer_id）、商品コード（product_cd）、売上金額（amount）の順に列を指定し、以下の条件を満たすデータを抽出せよ。\n",
    "> - 顧客ID（customer_id）が\"CS018205000001\"\n",
    "> - 商品コード（product_cd）が\"P071401019\"以外"
   ]
  },
  {
   "cell_type": "code",
   "execution_count": 11,
   "metadata": {},
   "outputs": [
    {
     "name": "stdout",
     "output_type": "stream",
     "text": [
      "+---------+--------------+----------+------+\n",
      "|sales_ymd|   customer_id|product_cd|amount|\n",
      "+---------+--------------+----------+------+\n",
      "| 20180911|CS018205000001|P071401012|  2200|\n",
      "| 20180414|CS018205000001|P060104007|   600|\n",
      "| 20170614|CS018205000001|P050206001|   990|\n",
      "| 20170614|CS018205000001|P060702015|   108|\n",
      "| 20190216|CS018205000001|P071005024|   102|\n",
      "| 20180414|CS018205000001|P071101002|   278|\n",
      "| 20190226|CS018205000001|P070902035|   168|\n",
      "| 20190924|CS018205000001|P060805001|   495|\n",
      "| 20190226|CS018205000001|P071401020|  2200|\n",
      "| 20180911|CS018205000001|P071401005|  1100|\n",
      "+---------+--------------+----------+------+\n",
      "only showing top 10 rows\n",
      "\n"
     ]
    }
   ],
   "source": [
    "df_receipt.where(\"customer_id=='CS018205000001' AND product_cd!='P071401019'\")\\\n",
    "    .select(\n",
    "    \"sales_ymd\",\n",
    "    \"customer_id\",\n",
    "    \"product_cd\",\n",
    "    \"amount\"\n",
    "    ).show(10)"
   ]
  },
  {
   "cell_type": "markdown",
   "metadata": {},
   "source": [
    "---\n",
    "> P-009: 以下の処理において、出力結果を変えずにORをANDに書き換えよ。\n",
    "\n",
    "```\n",
    "df_store.select(\n",
    "    \"*\"\n",
    "    ).where(\"NOT(prefecture_cd == '13' OR floor_area > 900)\")\\\n",
    "    .show(10)\n",
    "```"
   ]
  },
  {
   "cell_type": "code",
   "execution_count": 12,
   "metadata": {},
   "outputs": [
    {
     "data": {
      "text/plain": [
       "Row(store_cd='S14046', store_name='北山田店', prefecture_cd=14, prefecture='神奈川県', address='神奈川県横浜市都筑区北山田一丁目', address_kana='カナガワケンヨコハマシツヅキクキタヤマタイッチョウメ', tel_no='045-123-4049', longitude=139.5916, latitude=35.56189, floor_area=831.0)"
      ]
     },
     "execution_count": 12,
     "metadata": {},
     "output_type": "execute_result"
    }
   ],
   "source": [
    "df_store.select(\n",
    "    \"*\"\n",
    "    ).where(\"prefecture_cd != '13' AND floor_area <= 900\")\\\n",
    "    .first()"
   ]
  },
  {
   "cell_type": "markdown",
   "metadata": {},
   "source": [
    "---\n",
    "> P-010: 店舗データフレーム（df_store）から、店舗コード（store_cd）が\"S14\"で始まるものだけ全項目抽出し、10件だけ表示せよ。"
   ]
  },
  {
   "cell_type": "code",
   "execution_count": 13,
   "metadata": {},
   "outputs": [
    {
     "data": {
      "text/plain": [
       "[Row(store_cd='S14010', store_name='菊名店', prefecture_cd=14, prefecture='神奈川県', address='神奈川県横浜市港北区菊名一丁目', address_kana='カナガワケンヨコハマシコウホククキクナイッチョウメ', tel_no='045-123-4032', longitude=139.6326, latitude=35.50049, floor_area=1732.0),\n",
       " Row(store_cd='S14033', store_name='阿久和店', prefecture_cd=14, prefecture='神奈川県', address='神奈川県横浜市瀬谷区阿久和西一丁目', address_kana='カナガワケンヨコハマシセヤクアクワニシイッチョウメ', tel_no='045-123-4043', longitude=139.4961, latitude=35.45918, floor_area=1495.0),\n",
       " Row(store_cd='S14036', store_name='相模原中央店', prefecture_cd=14, prefecture='神奈川県', address='神奈川県相模原市中央二丁目', address_kana='カナガワケンサガミハラシチュウオウニチョウメ', tel_no='042-123-4045', longitude=139.3716, latitude=35.57327, floor_area=1679.0),\n",
       " Row(store_cd='S14040', store_name='長津田店', prefecture_cd=14, prefecture='神奈川県', address='神奈川県横浜市緑区長津田みなみ台五丁目', address_kana='カナガワケンヨコハマシミドリクナガツタミナミダイゴチョウメ', tel_no='045-123-4046', longitude=139.4994, latitude=35.52398, floor_area=1548.0),\n",
       " Row(store_cd='S14050', store_name='阿久和西店', prefecture_cd=14, prefecture='神奈川県', address='神奈川県横浜市瀬谷区阿久和西一丁目', address_kana='カナガワケンヨコハマシセヤクアクワニシイッチョウメ', tel_no='045-123-4053', longitude=139.4961, latitude=35.45918, floor_area=1830.0),\n",
       " Row(store_cd='S14028', store_name='二ツ橋店', prefecture_cd=14, prefecture='神奈川県', address='神奈川県横浜市瀬谷区二ツ橋町', address_kana='カナガワケンヨコハマシセヤクフタツバシチョウ', tel_no='045-123-4042', longitude=139.4963, latitude=35.46304, floor_area=1574.0),\n",
       " Row(store_cd='S14012', store_name='本牧和田店', prefecture_cd=14, prefecture='神奈川県', address='神奈川県横浜市中区本牧和田', address_kana='カナガワケンヨコハマシナカクホンモクワダ', tel_no='045-123-4034', longitude=139.6582, latitude=35.42156, floor_area=1341.0),\n",
       " Row(store_cd='S14046', store_name='北山田店', prefecture_cd=14, prefecture='神奈川県', address='神奈川県横浜市都筑区北山田一丁目', address_kana='カナガワケンヨコハマシツヅキクキタヤマタイッチョウメ', tel_no='045-123-4049', longitude=139.5916, latitude=35.56189, floor_area=831.0),\n",
       " Row(store_cd='S14022', store_name='逗子店', prefecture_cd=14, prefecture='神奈川県', address='神奈川県逗子市逗子一丁目', address_kana='カナガワケンズシシズシイッチョウメ', tel_no='046-123-4036', longitude=139.5789, latitude=35.29642, floor_area=1838.0),\n",
       " Row(store_cd='S14011', store_name='日吉本町店', prefecture_cd=14, prefecture='神奈川県', address='神奈川県横浜市港北区日吉本町四丁目', address_kana='カナガワケンヨコハマシコウホククヒヨシホンチョウヨンチョウメ', tel_no='045-123-4033', longitude=139.6316, latitude=35.54655, floor_area=890.0)]"
      ]
     },
     "execution_count": 13,
     "metadata": {},
     "output_type": "execute_result"
    }
   ],
   "source": [
    "df_store.select(\n",
    "    \"*\"\n",
    "    ).where(\"store_cd LIKE 'S14%'\")\\\n",
    "    .take(10)"
   ]
  },
  {
   "cell_type": "markdown",
   "metadata": {},
   "source": [
    "---\n",
    "> P-011: 顧客データフレーム（df_customer）から顧客ID（customer_id）の末尾が1のものだけ全項目抽出し、10件だけ表示せよ。"
   ]
  },
  {
   "cell_type": "code",
   "execution_count": 14,
   "metadata": {},
   "outputs": [
    {
     "data": {
      "text/plain": [
       "[Row(customer_id='CS037613000071', customer_name='六角 雅彦', gender_cd=9, gender='不明', birth_day='1952-04-01', age=66, postal_cd='136-0076', address='東京都江東区南砂**********', application_store_cd='S13037', application_date=20150414, status_cd='0-00000000-0'),\n",
       " Row(customer_id='CS028811000001', customer_name='堀井 かおり', gender_cd=1, gender='女性', birth_day='1933-03-27', age=86, postal_cd='245-0016', address='神奈川県横浜市泉区和泉町**********', application_store_cd='S14028', application_date=20160115, status_cd='0-00000000-0'),\n",
       " Row(customer_id='CS040412000191', customer_name='川井 郁恵', gender_cd=1, gender='女性', birth_day='1977-01-05', age=42, postal_cd='226-0021', address='神奈川県横浜市緑区北八朔町**********', application_store_cd='S14040', application_date=20151101, status_cd='1-20091025-4'),\n",
       " Row(customer_id='CS028314000011', customer_name='小菅 あおい', gender_cd=1, gender='女性', birth_day='1983-11-26', age=35, postal_cd='246-0038', address='神奈川県横浜市瀬谷区宮沢**********', application_store_cd='S14028', application_date=20151123, status_cd='1-20080426-5'),\n",
       " Row(customer_id='CS039212000051', customer_name='藤島 恵梨香', gender_cd=1, gender='女性', birth_day='1997-02-03', age=22, postal_cd='166-0001', address='東京都杉並区阿佐谷北**********', application_store_cd='S13039', application_date=20171121, status_cd='1-20100215-4'),\n",
       " Row(customer_id='CS015412000111', customer_name='松居 奈月', gender_cd=1, gender='女性', birth_day='1972-10-04', age=46, postal_cd='136-0071', address='東京都江東区亀戸**********', application_store_cd='S13015', application_date=20150629, status_cd='0-00000000-0'),\n",
       " Row(customer_id='CS004702000041', customer_name='野島 洋', gender_cd=0, gender='男性', birth_day='1943-08-24', age=75, postal_cd='176-0022', address='東京都練馬区向山**********', application_store_cd='S13004', application_date=20170218, status_cd='0-00000000-0'),\n",
       " Row(customer_id='CS041515000001', customer_name='栗田 千夏', gender_cd=1, gender='女性', birth_day='1967-01-02', age=52, postal_cd='206-0001', address='東京都多摩市和田**********', application_store_cd='S13041', application_date=20160422, status_cd='E-20100803-F'),\n",
       " Row(customer_id='CS029313000221', customer_name='北条 ひかり', gender_cd=1, gender='女性', birth_day='1987-06-19', age=31, postal_cd='279-0011', address='千葉県浦安市美浜**********', application_store_cd='S12029', application_date=20180810, status_cd='0-00000000-0'),\n",
       " Row(customer_id='CS034312000071', customer_name='望月 奈央', gender_cd=1, gender='女性', birth_day='1980-09-20', age=38, postal_cd='213-0026', address='神奈川県川崎市高津区久末**********', application_store_cd='S14034', application_date=20160106, status_cd='0-00000000-0')]"
      ]
     },
     "execution_count": 14,
     "metadata": {},
     "output_type": "execute_result"
    }
   ],
   "source": [
    "df_customer.select(\n",
    "    \"*\"\n",
    "    ).where(\"customer_id LIKE '%1'\")\\\n",
    "    .take(10)"
   ]
  },
  {
   "cell_type": "markdown",
   "metadata": {},
   "source": [
    "---\n",
    "> P-012: 店舗データフレーム（df_store）から横浜市の店舗だけ全項目表示せよ。"
   ]
  },
  {
   "cell_type": "code",
   "execution_count": 15,
   "metadata": {},
   "outputs": [
    {
     "data": {
      "text/plain": [
       "[Row(store_cd='S14010', store_name='菊名店', prefecture_cd=14, prefecture='神奈川県', address='神奈川県横浜市港北区菊名一丁目', address_kana='カナガワケンヨコハマシコウホククキクナイッチョウメ', tel_no='045-123-4032', longitude=139.6326, latitude=35.50049, floor_area=1732.0),\n",
       " Row(store_cd='S14033', store_name='阿久和店', prefecture_cd=14, prefecture='神奈川県', address='神奈川県横浜市瀬谷区阿久和西一丁目', address_kana='カナガワケンヨコハマシセヤクアクワニシイッチョウメ', tel_no='045-123-4043', longitude=139.4961, latitude=35.45918, floor_area=1495.0),\n",
       " Row(store_cd='S14040', store_name='長津田店', prefecture_cd=14, prefecture='神奈川県', address='神奈川県横浜市緑区長津田みなみ台五丁目', address_kana='カナガワケンヨコハマシミドリクナガツタミナミダイゴチョウメ', tel_no='045-123-4046', longitude=139.4994, latitude=35.52398, floor_area=1548.0),\n",
       " Row(store_cd='S14050', store_name='阿久和西店', prefecture_cd=14, prefecture='神奈川県', address='神奈川県横浜市瀬谷区阿久和西一丁目', address_kana='カナガワケンヨコハマシセヤクアクワニシイッチョウメ', tel_no='045-123-4053', longitude=139.4961, latitude=35.45918, floor_area=1830.0),\n",
       " Row(store_cd='S14028', store_name='二ツ橋店', prefecture_cd=14, prefecture='神奈川県', address='神奈川県横浜市瀬谷区二ツ橋町', address_kana='カナガワケンヨコハマシセヤクフタツバシチョウ', tel_no='045-123-4042', longitude=139.4963, latitude=35.46304, floor_area=1574.0),\n",
       " Row(store_cd='S14012', store_name='本牧和田店', prefecture_cd=14, prefecture='神奈川県', address='神奈川県横浜市中区本牧和田', address_kana='カナガワケンヨコハマシナカクホンモクワダ', tel_no='045-123-4034', longitude=139.6582, latitude=35.42156, floor_area=1341.0),\n",
       " Row(store_cd='S14046', store_name='北山田店', prefecture_cd=14, prefecture='神奈川県', address='神奈川県横浜市都筑区北山田一丁目', address_kana='カナガワケンヨコハマシツヅキクキタヤマタイッチョウメ', tel_no='045-123-4049', longitude=139.5916, latitude=35.56189, floor_area=831.0),\n",
       " Row(store_cd='S14011', store_name='日吉本町店', prefecture_cd=14, prefecture='神奈川県', address='神奈川県横浜市港北区日吉本町四丁目', address_kana='カナガワケンヨコハマシコウホククヒヨシホンチョウヨンチョウメ', tel_no='045-123-4033', longitude=139.6316, latitude=35.54655, floor_area=890.0),\n",
       " Row(store_cd='S14048', store_name='中川中央店', prefecture_cd=14, prefecture='神奈川県', address='神奈川県横浜市都筑区中川中央二丁目', address_kana='カナガワケンヨコハマシツヅキクナカガワチュウオウニチョウメ', tel_no='045-123-4051', longitude=139.5758, latitude=35.54912, floor_area=1657.0),\n",
       " Row(store_cd='S14042', store_name='新山下店', prefecture_cd=14, prefecture='神奈川県', address='神奈川県横浜市中区新山下二丁目', address_kana='カナガワケンヨコハマシナカクシンヤマシタニチョウメ', tel_no='045-123-4047', longitude=139.6593, latitude=35.43894, floor_area=1044.0),\n",
       " Row(store_cd='S14006', store_name='葛が谷店', prefecture_cd=14, prefecture='神奈川県', address='神奈川県横浜市都筑区葛が谷', address_kana='カナガワケンヨコハマシツヅキククズガヤ', tel_no='045-123-4031', longitude=139.5633, latitude=35.53573, floor_area=1886.0)]"
      ]
     },
     "execution_count": 15,
     "metadata": {},
     "output_type": "execute_result"
    }
   ],
   "source": [
    "df_store.select(\n",
    "    \"*\"\n",
    "    ).where(\"address LIKE '%横浜市%'\")\\\n",
    "    .collect()"
   ]
  },
  {
   "cell_type": "markdown",
   "metadata": {},
   "source": [
    "---\n",
    "> P-013: 顧客データフレーム（df_customer）から、ステータスコード（status_cd）の先頭がアルファベットのA〜Fで始まるデータを全項目抽出し、10件だけ表示せよ。"
   ]
  },
  {
   "cell_type": "code",
   "execution_count": 16,
   "metadata": {},
   "outputs": [
    {
     "data": {
      "text/plain": [
       "[Row(customer_id='CS031415000172', customer_name='宇多田 貴美子', gender_cd=1, gender='女性', birth_day='1976-10-04', age=42, postal_cd='151-0053', address='東京都渋谷区代々木**********', application_store_cd='S13031', application_date=20150529, status_cd='D-20100325-C'),\n",
       " Row(customer_id='CS015414000103', customer_name='奥野 陽子', gender_cd=1, gender='女性', birth_day='1977-08-09', age=41, postal_cd='136-0073', address='東京都江東区北砂**********', application_store_cd='S13015', application_date=20150722, status_cd='B-20100609-B'),\n",
       " Row(customer_id='CS011215000048', customer_name='芦田 沙耶', gender_cd=1, gender='女性', birth_day='1992-02-01', age=27, postal_cd='223-0062', address='神奈川県横浜市港北区日吉本町**********', application_store_cd='S14011', application_date=20150228, status_cd='C-20100421-9'),\n",
       " Row(customer_id='CS029415000023', customer_name='梅田 里穂', gender_cd=1, gender='女性', birth_day='1976-01-17', age=43, postal_cd='279-0043', address='千葉県浦安市富士見**********', application_store_cd='S12029', application_date=20150610, status_cd='D-20100918-E'),\n",
       " Row(customer_id='CS035415000029', customer_name='寺沢 真希', gender_cd=9, gender='不明', birth_day='1977-09-27', age=41, postal_cd='158-0096', address='東京都世田谷区玉川台**********', application_store_cd='S13035', application_date=20141220, status_cd='F-20101029-F'),\n",
       " Row(customer_id='CS031415000106', customer_name='宇野 由美子', gender_cd=1, gender='女性', birth_day='1970-02-26', age=49, postal_cd='151-0053', address='東京都渋谷区代々木**********', application_store_cd='S13031', application_date=20150201, status_cd='F-20100511-E'),\n",
       " Row(customer_id='CS029215000025', customer_name='石倉 美帆', gender_cd=1, gender='女性', birth_day='1993-09-28', age=25, postal_cd='279-0022', address='千葉県浦安市今川**********', application_store_cd='S12029', application_date=20150708, status_cd='B-20100820-C'),\n",
       " Row(customer_id='CS033605000005', customer_name='猪股 雄太', gender_cd=0, gender='男性', birth_day='1955-12-05', age=63, postal_cd='246-0031', address='神奈川県横浜市瀬谷区瀬谷**********', application_store_cd='S14033', application_date=20150425, status_cd='F-20100917-E'),\n",
       " Row(customer_id='CS033415000229', customer_name='板垣 菜々美', gender_cd=1, gender='女性', birth_day='1977-11-07', age=41, postal_cd='246-0021', address='神奈川県横浜市瀬谷区二ツ橋町**********', application_store_cd='S14033', application_date=20150712, status_cd='F-20100326-E'),\n",
       " Row(customer_id='CS008415000145', customer_name='黒谷 麻緒', gender_cd=1, gender='女性', birth_day='1977-06-27', age=41, postal_cd='157-0067', address='東京都世田谷区喜多見**********', application_store_cd='S13008', application_date=20150829, status_cd='F-20100622-F')]"
      ]
     },
     "execution_count": 16,
     "metadata": {},
     "output_type": "execute_result"
    }
   ],
   "source": [
    "from pyspark.sql.functions import col\n",
    "df_customer.select(\n",
    "    \"*\"\n",
    "    ).where(col(\"status_cd\").rlike(\"^[A-F]\"))\\\n",
    "    .take(10)"
   ]
  },
  {
   "cell_type": "markdown",
   "metadata": {},
   "source": [
    "---\n",
    "> P-014: 顧客データフレーム（df_customer）から、ステータスコード（status_cd）の末尾が数字の1〜9で終わるデータを全項目抽出し、10件だけ表示せよ。"
   ]
  },
  {
   "cell_type": "code",
   "execution_count": 17,
   "metadata": {},
   "outputs": [
    {
     "data": {
      "text/plain": [
       "[Row(customer_id='CS001215000145', customer_name='田崎 美紀', gender_cd=1, gender='女性', birth_day='1995-03-29', age=24, postal_cd='144-0055', address='東京都大田区仲六郷**********', application_store_cd='S13001', application_date=20170605, status_cd='6-20090929-2'),\n",
       " Row(customer_id='CS033513000180', customer_name='安斎 遥', gender_cd=1, gender='女性', birth_day='1962-07-11', age=56, postal_cd='241-0823', address='神奈川県横浜市旭区善部町**********', application_store_cd='S14033', application_date=20150728, status_cd='6-20080506-5'),\n",
       " Row(customer_id='CS011215000048', customer_name='芦田 沙耶', gender_cd=1, gender='女性', birth_day='1992-02-01', age=27, postal_cd='223-0062', address='神奈川県横浜市港北区日吉本町**********', application_store_cd='S14011', application_date=20150228, status_cd='C-20100421-9'),\n",
       " Row(customer_id='CS040412000191', customer_name='川井 郁恵', gender_cd=1, gender='女性', birth_day='1977-01-05', age=42, postal_cd='226-0021', address='神奈川県横浜市緑区北八朔町**********', application_store_cd='S14040', application_date=20151101, status_cd='1-20091025-4'),\n",
       " Row(customer_id='CS009315000023', customer_name='皆川 文世', gender_cd=1, gender='女性', birth_day='1980-04-15', age=38, postal_cd='154-0012', address='東京都世田谷区駒沢**********', application_store_cd='S13009', application_date=20150319, status_cd='5-20080322-1'),\n",
       " Row(customer_id='CS015315000033', customer_name='福士 璃奈子', gender_cd=1, gender='女性', birth_day='1983-03-17', age=36, postal_cd='135-0043', address='東京都江東区塩浜**********', application_store_cd='S13015', application_date=20141024, status_cd='4-20080219-3'),\n",
       " Row(customer_id='CS023513000066', customer_name='神戸 そら', gender_cd=1, gender='女性', birth_day='1961-12-17', age=57, postal_cd='210-0005', address='神奈川県川崎市川崎区東田町**********', application_store_cd='S14023', application_date=20150915, status_cd='5-20100524-9'),\n",
       " Row(customer_id='CS035513000134', customer_name='市川 美帆', gender_cd=1, gender='女性', birth_day='1960-03-27', age=59, postal_cd='156-0053', address='東京都世田谷区桜**********', application_store_cd='S13035', application_date=20150227, status_cd='8-20100711-9'),\n",
       " Row(customer_id='CS001515000263', customer_name='高松 夏空', gender_cd=1, gender='女性', birth_day='1962-11-09', age=56, postal_cd='144-0051', address='東京都大田区西蒲田**********', application_store_cd='S13001', application_date=20160812, status_cd='1-20100804-1'),\n",
       " Row(customer_id='CS040314000027', customer_name='鶴田 きみまろ', gender_cd=9, gender='不明', birth_day='1986-03-26', age=33, postal_cd='226-0027', address='神奈川県横浜市緑区長津田**********', application_store_cd='S14040', application_date=20150122, status_cd='2-20080426-4')]"
      ]
     },
     "execution_count": 17,
     "metadata": {},
     "output_type": "execute_result"
    }
   ],
   "source": [
    "df_customer.select(\n",
    "    \"*\"\n",
    "    ).where(col(\"status_cd\").rlike(\"[1-9]$\"))\\\n",
    "    .take(10)"
   ]
  },
  {
   "cell_type": "markdown",
   "metadata": {},
   "source": [
    "---\n",
    "> P-015: 顧客データフレーム（df_customer）から、ステータスコード（status_cd）の先頭がアルファベットのA〜Fで始まり、末尾が数字の1〜9で終わるデータを全項目抽出し、10件だけ表示せよ。"
   ]
  },
  {
   "cell_type": "code",
   "execution_count": 18,
   "metadata": {},
   "outputs": [
    {
     "data": {
      "text/plain": [
       "[Row(customer_id='CS011215000048', customer_name='芦田 沙耶', gender_cd=1, gender='女性', birth_day='1992-02-01', age=27, postal_cd='223-0062', address='神奈川県横浜市港北区日吉本町**********', application_store_cd='S14011', application_date=20150228, status_cd='C-20100421-9'),\n",
       " Row(customer_id='CS022513000105', customer_name='島村 貴美子', gender_cd=1, gender='女性', birth_day='1962-03-12', age=57, postal_cd='249-0002', address='神奈川県逗子市山の根**********', application_store_cd='S14022', application_date=20150320, status_cd='A-20091115-7'),\n",
       " Row(customer_id='CS001515000096', customer_name='水野 陽子', gender_cd=9, gender='不明', birth_day='1960-11-29', age=58, postal_cd='144-0053', address='東京都大田区蒲田本町**********', application_store_cd='S13001', application_date=20150614, status_cd='A-20100724-7'),\n",
       " Row(customer_id='CS013615000053', customer_name='西脇 季衣', gender_cd=1, gender='女性', birth_day='1953-10-18', age=65, postal_cd='261-0026', address='千葉県千葉市美浜区幕張西**********', application_store_cd='S12013', application_date=20150128, status_cd='B-20100329-6'),\n",
       " Row(customer_id='CS020412000161', customer_name='小宮 薫', gender_cd=1, gender='女性', birth_day='1974-05-21', age=44, postal_cd='174-0042', address='東京都板橋区東坂下**********', application_store_cd='S13020', application_date=20150822, status_cd='B-20081021-3'),\n",
       " Row(customer_id='CS001215000097', customer_name='竹中 あさみ', gender_cd=1, gender='女性', birth_day='1990-07-25', age=28, postal_cd='146-0095', address='東京都大田区多摩川**********', application_store_cd='S13001', application_date=20170315, status_cd='A-20100211-2'),\n",
       " Row(customer_id='CS035212000007', customer_name='内村 恵梨香', gender_cd=1, gender='女性', birth_day='1990-12-04', age=28, postal_cd='152-0023', address='東京都目黒区八雲**********', application_store_cd='S13035', application_date=20151013, status_cd='B-20101018-6'),\n",
       " Row(customer_id='CS002515000386', customer_name='野田 コウ', gender_cd=1, gender='女性', birth_day='1963-05-30', age=55, postal_cd='185-0013', address='東京都国分寺市西恋ケ窪**********', application_store_cd='S13002', application_date=20160410, status_cd='C-20100127-8'),\n",
       " Row(customer_id='CS001615000372', customer_name='稲垣 寿々花', gender_cd=1, gender='女性', birth_day='1956-10-29', age=62, postal_cd='144-0035', address='東京都大田区南蒲田**********', application_store_cd='S13001', application_date=20170403, status_cd='A-20100104-1'),\n",
       " Row(customer_id='CS032512000121', customer_name='松井 知世', gender_cd=1, gender='女性', birth_day='1962-09-04', age=56, postal_cd='210-0011', address='神奈川県川崎市川崎区富士見**********', application_store_cd='S13032', application_date=20150727, status_cd='A-20100103-5')]"
      ]
     },
     "execution_count": 18,
     "metadata": {},
     "output_type": "execute_result"
    }
   ],
   "source": [
    "df_customer.select(\n",
    "    \"*\"\n",
    "    ).where(col(\"status_cd\").rlike(\"^[A-F].*[1-9]$\"))\\\n",
    "    .take(10)"
   ]
  },
  {
   "cell_type": "markdown",
   "metadata": {},
   "source": [
    "---\n",
    "> P-016: 店舗データフレーム（df_store）から、電話番号（tel_no）が3桁-3桁-4桁のデータを全項目表示せよ。"
   ]
  },
  {
   "cell_type": "code",
   "execution_count": 19,
   "metadata": {},
   "outputs": [
    {
     "data": {
      "text/plain": [
       "[Row(store_cd='S12014', store_name='千草台店', prefecture_cd=12, prefecture='千葉県', address='千葉県千葉市稲毛区千草台一丁目', address_kana='チバケンチバシイナゲクチグサダイイッチョウメ', tel_no='043-123-4003', longitude=140.118, latitude=35.63559, floor_area=1698.0),\n",
       " Row(store_cd='S13002', store_name='国分寺店', prefecture_cd=13, prefecture='東京都', address='東京都国分寺市本多二丁目', address_kana='トウキョウトコクブンジシホンダニチョウメ', tel_no='042-123-4008', longitude=139.4802, latitude=35.70566, floor_area=1735.0),\n",
       " Row(store_cd='S14010', store_name='菊名店', prefecture_cd=14, prefecture='神奈川県', address='神奈川県横浜市港北区菊名一丁目', address_kana='カナガワケンヨコハマシコウホククキクナイッチョウメ', tel_no='045-123-4032', longitude=139.6326, latitude=35.50049, floor_area=1732.0),\n",
       " Row(store_cd='S14033', store_name='阿久和店', prefecture_cd=14, prefecture='神奈川県', address='神奈川県横浜市瀬谷区阿久和西一丁目', address_kana='カナガワケンヨコハマシセヤクアクワニシイッチョウメ', tel_no='045-123-4043', longitude=139.4961, latitude=35.45918, floor_area=1495.0),\n",
       " Row(store_cd='S14036', store_name='相模原中央店', prefecture_cd=14, prefecture='神奈川県', address='神奈川県相模原市中央二丁目', address_kana='カナガワケンサガミハラシチュウオウニチョウメ', tel_no='042-123-4045', longitude=139.3716, latitude=35.57327, floor_area=1679.0),\n",
       " Row(store_cd='S14040', store_name='長津田店', prefecture_cd=14, prefecture='神奈川県', address='神奈川県横浜市緑区長津田みなみ台五丁目', address_kana='カナガワケンヨコハマシミドリクナガツタミナミダイゴチョウメ', tel_no='045-123-4046', longitude=139.4994, latitude=35.52398, floor_area=1548.0),\n",
       " Row(store_cd='S14050', store_name='阿久和西店', prefecture_cd=14, prefecture='神奈川県', address='神奈川県横浜市瀬谷区阿久和西一丁目', address_kana='カナガワケンヨコハマシセヤクアクワニシイッチョウメ', tel_no='045-123-4053', longitude=139.4961, latitude=35.45918, floor_area=1830.0),\n",
       " Row(store_cd='S13052', store_name='森野店', prefecture_cd=13, prefecture='東京都', address='東京都町田市森野三丁目', address_kana='トウキョウトマチダシモリノサンチョウメ', tel_no='042-123-4030', longitude=139.4383, latitude=35.55293, floor_area=1087.0),\n",
       " Row(store_cd='S14028', store_name='二ツ橋店', prefecture_cd=14, prefecture='神奈川県', address='神奈川県横浜市瀬谷区二ツ橋町', address_kana='カナガワケンヨコハマシセヤクフタツバシチョウ', tel_no='045-123-4042', longitude=139.4963, latitude=35.46304, floor_area=1574.0),\n",
       " Row(store_cd='S14012', store_name='本牧和田店', prefecture_cd=14, prefecture='神奈川県', address='神奈川県横浜市中区本牧和田', address_kana='カナガワケンヨコハマシナカクホンモクワダ', tel_no='045-123-4034', longitude=139.6582, latitude=35.42156, floor_area=1341.0)]"
      ]
     },
     "execution_count": 19,
     "metadata": {},
     "output_type": "execute_result"
    }
   ],
   "source": [
    "df_store.select(\n",
    "    \"*\"\n",
    "    ).where(col(\"tel_no\").rlike(\"[0-9]{3}-[0-9]{3}-[0-9]{4}\"))\\\n",
    "    .take(10)"
   ]
  },
  {
   "cell_type": "markdown",
   "metadata": {},
   "source": [
    "---\n",
    "> P-17: 顧客データフレーム（df_customer）を生年月日（birth_day）で高齢順にソートし、先頭10件を全項目表示せよ。"
   ]
  },
  {
   "cell_type": "code",
   "execution_count": 20,
   "metadata": {},
   "outputs": [
    {
     "name": "stdout",
     "output_type": "stream",
     "text": [
      "+--------------+-------------+---------+------+----------+---+---------+--------------------------------+--------------------+----------------+------------+\n",
      "|   customer_id|customer_name|gender_cd|gender| birth_day|age|postal_cd|                         address|application_store_cd|application_date|   status_cd|\n",
      "+--------------+-------------+---------+------+----------+---+---------+--------------------------------+--------------------+----------------+------------+\n",
      "|CS003813000014|  村山 菜々美|        1|  女性|1928-11-26| 90| 182-0007|    東京都調布市菊野台**********|              S13003|        20160214|0-00000000-0|\n",
      "|CS026813000004|    吉村 朝陽|        1|  女性|1928-12-14| 90| 251-0043| 神奈川県藤沢市辻堂元町******...|              S14026|        20150723|0-00000000-0|\n",
      "|CS018811000003|    熊沢 美里|        1|  女性|1929-01-07| 90| 204-0004|      東京都清瀬市野塩**********|              S13018|        20150403|0-00000000-0|\n",
      "|CS027803000004|    内村 拓郎|        0|  男性|1929-01-12| 90| 251-0031|神奈川県藤沢市鵠沼藤が谷*****...|              S14027|        20151227|0-00000000-0|\n",
      "|CS013801000003|    天野 拓郎|        0|  男性|1929-01-15| 90| 274-0824|    千葉県船橋市前原東**********|              S12013|        20160120|0-00000000-0|\n",
      "|CS001814000022|    鶴田 里穂|        1|  女性|1929-01-28| 90| 144-0045|    東京都大田区南六郷**********|              S13001|        20161012|A-20090415-7|\n",
      "|CS016815000002|    山元 美紀|        1|  女性|1929-02-22| 90| 184-0005|    東京都小金井市桜町**********|              S13016|        20150629|C-20090923-C|\n",
      "|CS009815000003|    中田 里穂|        1|  女性|1929-04-08| 89| 154-0014|    東京都世田谷区新町**********|              S13009|        20150421|D-20091021-E|\n",
      "|CS012813000013|    宇野 南朋|        1|  女性|1929-04-09| 89| 231-0806|神奈川県横浜市中区本牧町*****...|              S14012|        20150712|0-00000000-0|\n",
      "|CS005813000015|  金谷 恵梨香|        1|  女性|1929-04-09| 89| 165-0032|      東京都中野区鷺宮**********|              S13005|        20150506|0-00000000-0|\n",
      "+--------------+-------------+---------+------+----------+---+---------+--------------------------------+--------------------+----------------+------------+\n",
      "only showing top 10 rows\n",
      "\n"
     ]
    }
   ],
   "source": [
    "df_customer.sort(\"birth_day\").show(10)"
   ]
  },
  {
   "cell_type": "markdown",
   "metadata": {},
   "source": [
    "---\n",
    "> P-18: 顧客データフレーム（df_customer）を生年月日（birth_day）で若い順にソートし、先頭10件を全項目表示せよ。"
   ]
  },
  {
   "cell_type": "code",
   "execution_count": 21,
   "metadata": {},
   "outputs": [
    {
     "name": "stdout",
     "output_type": "stream",
     "text": [
      "+--------------+-------------+---------+------+----------+---+---------+---------------------------------+--------------------+----------------+------------+\n",
      "|   customer_id|customer_name|gender_cd|gender| birth_day|age|postal_cd|                          address|application_store_cd|application_date|   status_cd|\n",
      "+--------------+-------------+---------+------+----------+---+---------+---------------------------------+--------------------+----------------+------------+\n",
      "|CS035114000004|    大村 美里|        1|  女性|2007-11-25| 11| 156-0053|       東京都世田谷区桜**********|              S13035|        20150619|6-20091205-6|\n",
      "|CS022103000002|  福山 はじめ|        9|  不明|2007-10-02| 11| 249-0006|     神奈川県逗子市逗子**********|              S14022|        20160909|0-00000000-0|\n",
      "|CS002113000009|  柴田 真悠子|        1|  女性|2007-09-17| 11| 184-0014|  東京都小金井市貫井南町******...|              S13002|        20160304|0-00000000-0|\n",
      "|CS004115000014|    松井 京子|        1|  女性|2007-08-09| 11| 165-0031|     東京都中野区上鷺宮**********|              S13004|        20161120|1-20081231-1|\n",
      "|CS002114000010|      山内 遥|        1|  女性|2007-06-03| 11| 184-0015|  東京都小金井市貫井北町******...|              S13002|        20160920|6-20100510-1|\n",
      "|CS025115000002|    小柳 夏希|        1|  女性|2007-04-18| 11| 245-0018|神奈川県横浜市泉区上飯田町****...|              S14025|        20160116|D-20100913-D|\n",
      "|CS002113000025|  広末 まなみ|        1|  女性|2007-03-30| 12| 184-0015|  東京都小金井市貫井北町******...|              S13002|        20171030|0-00000000-0|\n",
      "|CS033112000003|    長野 美紀|        1|  女性|2007-03-22| 12| 245-0051|神奈川県横浜市戸塚区名瀬町****...|              S14033|        20150606|0-00000000-0|\n",
      "|CS007115000006|      福岡 瞬|        1|  女性|2007-03-10| 12| 285-0845|     千葉県佐倉市西志津**********|              S12007|        20151118|F-20101016-F|\n",
      "|CS014113000008|    矢口 莉緒|        1|  女性|2007-03-05| 12| 260-0041| 千葉県千葉市中央区東千葉*****...|              S12014|        20150622|3-20091108-6|\n",
      "+--------------+-------------+---------+------+----------+---+---------+---------------------------------+--------------------+----------------+------------+\n",
      "only showing top 10 rows\n",
      "\n"
     ]
    }
   ],
   "source": [
    "from pyspark.sql.functions import desc\n",
    "df_customer.sort(desc(\"birth_day\")).show(10)"
   ]
  },
  {
   "cell_type": "markdown",
   "metadata": {},
   "source": [
    "---\n",
    "> P-19: レシート明細データフレーム（df_receipt）に対し、1件あたりの売上金額（amount）が高い順にランクを付与し、先頭10件を抽出せよ。項目は顧客ID（customer_id）、売上金額（amount）、付与したランクを表示させること。なお、売上金額（amount）が等しい場合は同一順位を付与するものとする。"
   ]
  },
  {
   "cell_type": "code",
   "execution_count": 22,
   "metadata": {},
   "outputs": [
    {
     "name": "stdout",
     "output_type": "stream",
     "text": [
      "+--------------+------+----+\n",
      "|   customer_id|amount|rank|\n",
      "+--------------+------+----+\n",
      "|CS011415000006| 10925|   1|\n",
      "|ZZ000000000000|  6800|   2|\n",
      "|CS028605000002|  5780|   3|\n",
      "|CS015515000034|  5480|   4|\n",
      "|ZZ000000000000|  5480|   4|\n",
      "|ZZ000000000000|  5480|   4|\n",
      "|ZZ000000000000|  5440|   7|\n",
      "|CS021515000089|  5440|   7|\n",
      "|CS015515000083|  5280|   9|\n",
      "|CS017414000114|  5280|   9|\n",
      "+--------------+------+----+\n",
      "only showing top 10 rows\n",
      "\n"
     ]
    }
   ],
   "source": [
    "from pyspark.sql import Window\n",
    "from pyspark.sql.functions import rank\n",
    "window = Window.partitionBy().orderBy(desc(\"amount\"))\n",
    "df_receipt.select(\n",
    "    \"customer_id\",\n",
    "    \"amount\",\n",
    "    rank().over(window).alias(\"rank\")\n",
    "    ).show(10)"
   ]
  },
  {
   "cell_type": "markdown",
   "metadata": {},
   "source": [
    "---\n",
    "> P-020: レシート明細データフレーム（df_receipt）に対し、1件あたりの売上金額（amount）が高い順にランクを付与し、先頭10件を抽出せよ。項目は顧客ID（customer_id）、売上金額（amount）、付与したランクを表示させること。なお、売上金額（amount）が等しい場合でも別順位を付与すること。"
   ]
  },
  {
   "cell_type": "code",
   "execution_count": 23,
   "metadata": {},
   "outputs": [
    {
     "name": "stdout",
     "output_type": "stream",
     "text": [
      "+--------------+------+----+\n",
      "|   customer_id|amount|rank|\n",
      "+--------------+------+----+\n",
      "|CS011415000006| 10925|   1|\n",
      "|ZZ000000000000|  6800|   2|\n",
      "|CS028605000002|  5780|   3|\n",
      "|CS015515000034|  5480|   4|\n",
      "|ZZ000000000000|  5480|   5|\n",
      "|ZZ000000000000|  5480|   6|\n",
      "|ZZ000000000000|  5440|   7|\n",
      "|CS021515000089|  5440|   8|\n",
      "|CS015515000083|  5280|   9|\n",
      "|CS017414000114|  5280|  10|\n",
      "+--------------+------+----+\n",
      "only showing top 10 rows\n",
      "\n"
     ]
    }
   ],
   "source": [
    "from pyspark.sql.functions import row_number\n",
    "window = Window.partitionBy().orderBy(desc(\"amount\"))\n",
    "df_receipt.select(\n",
    "    \"customer_id\",\n",
    "    \"amount\",\n",
    "    row_number().over(window).alias(\"rank\")\n",
    "    ).show(10)"
   ]
  },
  {
   "cell_type": "markdown",
   "metadata": {},
   "source": [
    "---\n",
    "> P-021: レシート明細データフレーム（df_receipt）に対し、件数をカウントせよ。"
   ]
  },
  {
   "cell_type": "code",
   "execution_count": 24,
   "metadata": {},
   "outputs": [
    {
     "data": {
      "text/plain": [
       "104681"
      ]
     },
     "execution_count": 24,
     "metadata": {},
     "output_type": "execute_result"
    }
   ],
   "source": [
    "df_receipt.count()"
   ]
  },
  {
   "cell_type": "markdown",
   "metadata": {},
   "source": [
    "---\n",
    "> P-022: レシート明細データフレーム（df_receipt）の顧客ID（customer_id）に対し、ユニーク件数をカウントせよ。"
   ]
  },
  {
   "cell_type": "code",
   "execution_count": 25,
   "metadata": {},
   "outputs": [
    {
     "data": {
      "text/plain": [
       "8307"
      ]
     },
     "execution_count": 25,
     "metadata": {},
     "output_type": "execute_result"
    }
   ],
   "source": [
    "df_receipt.select(\"customer_id\").distinct().count()"
   ]
  },
  {
   "cell_type": "markdown",
   "metadata": {},
   "source": [
    "---\n",
    "> P-023: レシート明細データフレーム（df_receipt）に対し、店舗コード（store_cd）ごとに売上金額（amount）と売上数量（quantity）を合計せよ。"
   ]
  },
  {
   "cell_type": "code",
   "execution_count": 26,
   "metadata": {},
   "outputs": [
    {
     "name": "stdout",
     "output_type": "stream",
     "text": [
      "+--------+-----------+-------------+\n",
      "|store_cd|sum(amount)|sum(quantity)|\n",
      "+--------+-----------+-------------+\n",
      "|  S14024|     736323|         2417|\n",
      "|  S14045|     458484|         1398|\n",
      "|  S13020|     796383|         2383|\n",
      "|  S13038|     708884|         2337|\n",
      "|  S14047|     338329|         1041|\n",
      "|  S12014|     725167|         2358|\n",
      "|  S13037|     693087|         2344|\n",
      "|  S13051|     107452|          354|\n",
      "|  S12013|     787513|         2425|\n",
      "|  S14046|     412646|         1354|\n",
      "+--------+-----------+-------------+\n",
      "only showing top 10 rows\n",
      "\n"
     ]
    }
   ],
   "source": [
    "from pyspark.sql.functions import sum\n",
    "df_receipt.groupby(\"store_cd\").sum()\\\n",
    "    .select(\n",
    "        \"store_cd\",\n",
    "        \"sum(amount)\",\n",
    "        \"sum(quantity)\"\n",
    "    ).show(10)"
   ]
  },
  {
   "cell_type": "markdown",
   "metadata": {},
   "source": [
    "---\n",
    "> P-024: レシート明細データフレーム（df_receipt）に対し、顧客ID（customer_id）ごとに最も新しい売上日（sales_ymd）を求め、10件表示せよ。"
   ]
  },
  {
   "cell_type": "code",
   "execution_count": 27,
   "metadata": {},
   "outputs": [
    {
     "name": "stdout",
     "output_type": "stream",
     "text": [
      "+--------------+--------------+\n",
      "|   customer_id|max(sales_ymd)|\n",
      "+--------------+--------------+\n",
      "|CS024415000195|      20190907|\n",
      "|CS011515000044|      20181226|\n",
      "|CS017415000245|      20190615|\n",
      "|CS011512000113|      20190829|\n",
      "|CS025414000093|      20191016|\n",
      "|CS010605000007|      20181009|\n",
      "|CS011415000097|      20180909|\n",
      "|CS018515000090|      20190717|\n",
      "|CS015415000222|      20190928|\n",
      "|CS038605000003|      20190910|\n",
      "+--------------+--------------+\n",
      "only showing top 10 rows\n",
      "\n"
     ]
    }
   ],
   "source": [
    "df_receipt.select(\n",
    "    \"customer_id\",\n",
    "    \"sales_ymd\"\n",
    "    ).groupby(\"customer_id\")\\\n",
    "    .max()\\\n",
    "    .show(10)"
   ]
  },
  {
   "cell_type": "markdown",
   "metadata": {},
   "source": [
    "---\n",
    "> P-025: レシート明細データフレーム（df_receipt）に対し、顧客ID（customer_id）ごとに最も古い売上日（sales_ymd）を求め、10件表示せよ。"
   ]
  },
  {
   "cell_type": "code",
   "execution_count": 28,
   "metadata": {},
   "outputs": [
    {
     "name": "stdout",
     "output_type": "stream",
     "text": [
      "+--------------+--------------+\n",
      "|   customer_id|min(sales_ymd)|\n",
      "+--------------+--------------+\n",
      "|CS024415000195|      20170119|\n",
      "|CS011515000044|      20170505|\n",
      "|CS017415000245|      20180110|\n",
      "|CS011512000113|      20181213|\n",
      "|CS025414000093|      20170806|\n",
      "|CS010605000007|      20170125|\n",
      "|CS011415000097|      20170108|\n",
      "|CS018515000090|      20170131|\n",
      "|CS015415000222|      20170313|\n",
      "|CS038605000003|      20170321|\n",
      "+--------------+--------------+\n",
      "only showing top 10 rows\n",
      "\n"
     ]
    }
   ],
   "source": [
    "df_receipt.select(\n",
    "    \"customer_id\",\n",
    "    \"sales_ymd\"\n",
    "    ).groupby(\"customer_id\")\\\n",
    "    .min()\\\n",
    "    .show(10)"
   ]
  },
  {
   "cell_type": "markdown",
   "metadata": {},
   "source": [
    "---\n",
    "> P-026: レシート明細データフレーム（df_receipt）に対し、顧客ID（customer_id）ごとに最も新しい売上日（sales_ymd）と古い売上日を求め、両者が異なるデータを10件表示せよ。"
   ]
  },
  {
   "cell_type": "code",
   "execution_count": 29,
   "metadata": {},
   "outputs": [
    {
     "name": "stdout",
     "output_type": "stream",
     "text": [
      "+--------------+--------------+--------------+\n",
      "|   customer_id|max(sales_ymd)|min(sales_ymd)|\n",
      "+--------------+--------------+--------------+\n",
      "|CS024415000195|      20190907|      20170119|\n",
      "|CS011515000044|      20181226|      20170505|\n",
      "|CS017415000245|      20190615|      20180110|\n",
      "|CS011512000113|      20190829|      20181213|\n",
      "|CS025414000093|      20191016|      20170806|\n",
      "|CS010605000007|      20181009|      20170125|\n",
      "|CS011415000097|      20180909|      20170108|\n",
      "|CS018515000090|      20190717|      20170131|\n",
      "|CS015415000222|      20190928|      20170313|\n",
      "|CS038605000003|      20190910|      20170321|\n",
      "+--------------+--------------+--------------+\n",
      "\n"
     ]
    }
   ],
   "source": [
    "df_receipt.createOrReplaceTempView(\"receipt\")\n",
    "spark.sql(\"\"\"\n",
    "SELECT \n",
    "    customer_id, \n",
    "    MAX(sales_ymd), \n",
    "    MIN(sales_ymd)\n",
    "FROM \n",
    "    receipt\n",
    "GROUP BY \n",
    "    customer_id\n",
    "HAVING \n",
    "    MAX(sales_ymd) != MIN(sales_ymd)\n",
    "    LIMIT 10\n",
    "\"\"\").show(10)"
   ]
  },
  {
   "cell_type": "markdown",
   "metadata": {},
   "source": [
    "---\n",
    "> P-027: レシート明細データフレーム（df_receipt）に対し、店舗コード（store_cd）ごとに売上金額（amount）の平均を計算し、降順でTOP5を表示せよ。"
   ]
  },
  {
   "cell_type": "code",
   "execution_count": 30,
   "metadata": {},
   "outputs": [
    {
     "name": "stdout",
     "output_type": "stream",
     "text": [
      "+--------+------------------+\n",
      "|store_cd|       avg(amount)|\n",
      "+--------+------------------+\n",
      "|  S13052|402.86746987951807|\n",
      "|  S13015|351.11196043165467|\n",
      "|  S13003| 350.9155188246097|\n",
      "|  S14010|348.79126213592235|\n",
      "|  S13001| 348.4703862660944|\n",
      "+--------+------------------+\n",
      "only showing top 5 rows\n",
      "\n"
     ]
    }
   ],
   "source": [
    "from pyspark.sql.functions import avg\n",
    "df_receipt.select(\n",
    "    \"store_cd\",\n",
    "    \"amount\"\n",
    "    ).groupby(\"store_cd\")\\\n",
    "    .avg()\\\n",
    "    .sort(desc(\"avg(amount)\"))\\\n",
    "    .show(5)"
   ]
  },
  {
   "cell_type": "markdown",
   "metadata": {},
   "source": [
    "---\n",
    "> P-028: レシート明細データフレーム（df_receipt）に対し、店舗コード（store_cd）ごとに売上金額（amount）の中央値を計算し、降順でTOP5を表示せよ。"
   ]
  },
  {
   "cell_type": "code",
   "execution_count": 31,
   "metadata": {},
   "outputs": [
    {
     "name": "stdout",
     "output_type": "stream",
     "text": [
      "+--------+------+\n",
      "|store_cd|median|\n",
      "+--------+------+\n",
      "|  S13052|   190|\n",
      "|  S14010|   188|\n",
      "|  S14050|   185|\n",
      "|  S13018|   180|\n",
      "|  S14040|   180|\n",
      "+--------+------+\n",
      "only showing top 5 rows\n",
      "\n"
     ]
    }
   ],
   "source": [
    "import pyspark.sql.functions as F\n",
    "median = F.expr('percentile_approx(amount, 0.5)')\n",
    "df_receipt.select(\n",
    "    \"store_cd\",\n",
    "    \"amount\"\n",
    "    ).groupby(\"store_cd\")\\\n",
    "    .agg(median.alias(\"median\"))\\\n",
    "    .sort(desc(\"median\"))\\\n",
    "    .show(5)"
   ]
  },
  {
   "cell_type": "markdown",
   "metadata": {},
   "source": [
    "---\n",
    "> P-029: レシート明細データフレーム（df_receipt）に対し、店舗コード（store_cd）ごとに商品コード（product_cd）の最頻値を求めよ。"
   ]
  },
  {
   "cell_type": "code",
   "execution_count": 32,
   "metadata": {},
   "outputs": [
    {
     "name": "stdout",
     "output_type": "stream",
     "text": [
      "+--------+----------+-----+\n",
      "|store_cd|product_cd|count|\n",
      "+--------+----------+-----+\n",
      "|  S14024|P060303001|   96|\n",
      "|  S14045|P060303001|   33|\n",
      "|  S13020|P071401001|   79|\n",
      "|  S13038|P060303001|   41|\n",
      "|  S14047|P060303001|   36|\n",
      "|  S12014|P060303001|   65|\n",
      "|  S13037|P060303001|   88|\n",
      "|  S13051|P080804001|    5|\n",
      "|  S12013|P060303001|  107|\n",
      "|  S14046|P060303001|   71|\n",
      "+--------+----------+-----+\n",
      "only showing top 10 rows\n",
      "\n"
     ]
    }
   ],
   "source": [
    "# あまりよい答えではないと思います。。。\n",
    "from pyspark.sql.functions import row_number, col\n",
    "from pyspark.sql.window import Window\n",
    "\n",
    "w = Window().partitionBy(\"store_cd\").orderBy(col(\"count\").desc())\n",
    "\n",
    "df_receipt.groupby(\"store_cd\",\"product_cd\")\\\n",
    "    .count()\\\n",
    "    .withColumn(\"rn\", row_number().over(w))\\\n",
    "    .where(col(\"rn\") == 1)\\\n",
    "    .select(\"store_cd\", \"product_cd\", \"count\")\\\n",
    "    .show(10)"
   ]
  },
  {
   "cell_type": "markdown",
   "metadata": {},
   "source": [
    "---\n",
    "> P-030: レシート明細データフレーム（df_receipt）に対し、店舗コード（store_cd）ごとに売上金額（amount）の標本分散を計算し、降順でTOP5を表示せよ。"
   ]
  },
  {
   "cell_type": "code",
   "execution_count": 33,
   "metadata": {},
   "outputs": [
    {
     "name": "stdout",
     "output_type": "stream",
     "text": [
      "+--------+------------------+\n",
      "|store_cd|          variance|\n",
      "+--------+------------------+\n",
      "|  S13052|441863.25252623414|\n",
      "|  S14011|306442.24243156885|\n",
      "|  S14034|297068.39274006087|\n",
      "|  S13001| 295558.8426177121|\n",
      "|  S13015|295427.19708585314|\n",
      "|  S13035| 278121.4683233888|\n",
      "|  S14045| 266642.7122792716|\n",
      "|  S14046|264460.63579109305|\n",
      "|  S14010|258568.36391478623|\n",
      "|  S14021|254123.83834690147|\n",
      "+--------+------------------+\n",
      "only showing top 10 rows\n",
      "\n"
     ]
    }
   ],
   "source": [
    "from pyspark.sql.functions import var_samp\n",
    "df_receipt.select(\n",
    "    \"store_cd\",\n",
    "    \"amount\"\n",
    "    ).groupby(\"store_cd\")\\\n",
    "    .agg(var_samp(col(\"amount\")).alias(\"variance\"))\\\n",
    "    .sort(desc(\"variance\"))\\\n",
    "    .show(10)"
   ]
  },
  {
   "cell_type": "markdown",
   "metadata": {},
   "source": [
    "---\n",
    "> P-031: レシート明細データフレーム（df_receipt）に対し、店舗コード（store_cd）ごとに売上金額（amount）の標本標準偏差を計算し、降順でTOP5を表示せよ。"
   ]
  },
  {
   "cell_type": "code",
   "execution_count": 34,
   "metadata": {},
   "outputs": [
    {
     "name": "stdout",
     "output_type": "stream",
     "text": [
      "+--------+------------------+\n",
      "|store_cd|               std|\n",
      "+--------+------------------+\n",
      "|  S13052| 664.7279537722437|\n",
      "|  S14011| 553.5722558361906|\n",
      "|  S14034| 545.0398083994057|\n",
      "|  S13001| 543.6532374756101|\n",
      "|  S13015| 543.5321490821432|\n",
      "|  S13035| 527.3722293820455|\n",
      "|  S14045| 516.3745852375692|\n",
      "|  S14046| 514.2573633805287|\n",
      "|  S14010| 508.4961788595724|\n",
      "|  S14021|504.10697113499776|\n",
      "+--------+------------------+\n",
      "only showing top 10 rows\n",
      "\n"
     ]
    }
   ],
   "source": [
    "from pyspark.sql.functions import stddev_samp\n",
    "df_receipt.select(\n",
    "    \"store_cd\",\n",
    "    \"amount\"\n",
    "    ).groupby(\"store_cd\")\\\n",
    "    .agg(stddev_samp(col(\"amount\")).alias(\"std\"))\\\n",
    "    .sort(desc(\"std\"))\\\n",
    "    .show(10)"
   ]
  },
  {
   "cell_type": "markdown",
   "metadata": {},
   "source": [
    "---\n",
    "> P-032: レシート明細データフレーム（df_receipt）の売上金額（amount）について、25％刻みでパーセンタイル値を求めよ。"
   ]
  },
  {
   "cell_type": "code",
   "execution_count": 35,
   "metadata": {},
   "outputs": [
    {
     "data": {
      "text/plain": [
       "[102.0, 170.0, 288.0]"
      ]
     },
     "execution_count": 35,
     "metadata": {},
     "output_type": "execute_result"
    }
   ],
   "source": [
    "df_receipt.stat.approxQuantile(\"amount\", [0.25,0.5,0.75], 0) "
   ]
  },
  {
   "cell_type": "markdown",
   "metadata": {},
   "source": [
    "---\n",
    "> P-033: レシート明細データフレーム（df_receipt）に対し、店舗コード（store_cd）ごとに売上金額（amount）の平均を計算し、330以上のものを抽出せよ。"
   ]
  },
  {
   "cell_type": "code",
   "execution_count": 36,
   "metadata": {},
   "outputs": [
    {
     "name": "stdout",
     "output_type": "stream",
     "text": [
      "+--------+------------------+\n",
      "|store_cd|       avg(amount)|\n",
      "+--------+------------------+\n",
      "|  S14045| 330.0820734341253|\n",
      "|  S13020|  337.879932117098|\n",
      "|  S14047| 330.0770731707317|\n",
      "|  S12013|330.19412997903567|\n",
      "|  S14011| 335.7183333333333|\n",
      "+--------+------------------+\n",
      "only showing top 5 rows\n",
      "\n"
     ]
    }
   ],
   "source": [
    "df_receipt.select(\n",
    "    \"store_cd\",\n",
    "    \"amount\"\n",
    "    ).groupby(\"store_cd\")\\\n",
    "    .avg()\\\n",
    "    .where(\"avg(amount) >= 330\")\\\n",
    "    .show(5)"
   ]
  },
  {
   "cell_type": "markdown",
   "metadata": {},
   "source": [
    "---\n",
    "> P-034: レシート明細データフレーム（df_receipt）に対し、顧客ID（customer_id）ごとに売上金額（amount）を合計して全顧客の平均を求めよ。ただし、顧客IDが\"Z\"から始まるのものは非会員を表すため、除外して計算すること。\n"
   ]
  },
  {
   "cell_type": "code",
   "execution_count": 37,
   "metadata": {},
   "outputs": [
    {
     "name": "stdout",
     "output_type": "stream",
     "text": [
      "+-----------------+\n",
      "| avg(sum(amount))|\n",
      "+-----------------+\n",
      "|2547.742234529256|\n",
      "+-----------------+\n",
      "\n"
     ]
    }
   ],
   "source": [
    "df_receipt.where(~col(\"customer_id\").rlike(\"^Z\"))\\\n",
    "    .select(\n",
    "    \"customer_id\",\n",
    "    \"amount\"\n",
    "    ).groupby(\"customer_id\")\\\n",
    "    .sum()\\\n",
    "    .groupby()\\\n",
    "    .avg()\\\n",
    "    .show()"
   ]
  },
  {
   "cell_type": "markdown",
   "metadata": {},
   "source": [
    "---\n",
    "> P-035: レシート明細データフレーム（df_receipt）に対し、顧客ID（customer_id）ごとに売上金額（amount）を合計して全顧客の平均を求め、平均以上に買い物をしている顧客を抽出せよ。ただし、顧客IDが\"Z\"から始まるのものは非会員を表すため、除外して計算すること。なお、データは10件だけ表示させれば良い。"
   ]
  },
  {
   "cell_type": "code",
   "execution_count": 38,
   "metadata": {},
   "outputs": [
    {
     "name": "stdout",
     "output_type": "stream",
     "text": [
      "+--------------+-----------+\n",
      "|   customer_id|sum(amount)|\n",
      "+--------------+-----------+\n",
      "|CS024415000195|       4638|\n",
      "|CS025414000093|       3929|\n",
      "|CS010605000007|       6420|\n",
      "|CS011415000097|       3462|\n",
      "|CS018515000090|       3756|\n",
      "|CS015415000222|      11472|\n",
      "|CS038605000003|       2833|\n",
      "|CS049513000008|       4450|\n",
      "|CS017514000012|       4699|\n",
      "|CS020515000105|       5283|\n",
      "+--------------+-----------+\n",
      "only showing top 10 rows\n",
      "\n"
     ]
    }
   ],
   "source": [
    "avg = df_receipt.where(~col(\"customer_id\").rlike(\"^Z\"))\\\n",
    "    .select(\n",
    "    \"customer_id\",\n",
    "    \"amount\"\n",
    "    ).groupby(\"customer_id\")\\\n",
    "    .sum()\\\n",
    "    .groupby()\\\n",
    "    .avg()\\\n",
    "    .first()[0]\n",
    "    \n",
    "df_receipt.where(~col(\"customer_id\").rlike(\"^Z\"))\\\n",
    "    .select(\n",
    "    \"customer_id\",\n",
    "    \"amount\"\n",
    "    ).groupby(\"customer_id\")\\\n",
    "    .sum()\\\n",
    "    .where(col(\"sum(amount)\") >= avg)\\\n",
    "    .show(10)"
   ]
  },
  {
   "cell_type": "markdown",
   "metadata": {},
   "source": [
    "---\n",
    "> P-036: レシート明細データフレーム（df_receipt）と店舗データフレーム（df_store）を内部結合し、レシート明細データフレームの全項目と店舗データフレームの店舗名（store_name）を10件表示させよ。"
   ]
  },
  {
   "cell_type": "code",
   "execution_count": 39,
   "metadata": {},
   "outputs": [
    {
     "name": "stdout",
     "output_type": "stream",
     "text": [
      "+--------+---------+-----------+----------+--------------+--------------+----------+--------+------+----------+\n",
      "|store_cd|sales_ymd|sales_epoch|receipt_no|receipt_sub_no|   customer_id|product_cd|quantity|amount|store_name|\n",
      "+--------+---------+-----------+----------+--------------+--------------+----------+--------+------+----------+\n",
      "|  S14006| 20181103| 1257206400|       112|             1|CS006214000001|P070305012|       1|   158|  葛が谷店|\n",
      "|  S13008| 20181118| 1258502400|      1132|             2|CS008415000097|P070701017|       1|    81|    成城店|\n",
      "|  S14028| 20170712| 1215820800|      1102|             1|CS028414000014|P060101005|       1|   170|  二ツ橋店|\n",
      "|  S14042| 20190205| 1265328000|      1132|             1|ZZ000000000000|P050301001|       1|    25|  新山下店|\n",
      "|  S14025| 20180821| 1250812800|      1102|             2|CS025415000050|P060102007|       1|    90|    大和店|\n",
      "|  S13003| 20190605| 1275696000|      1112|             1|CS003515000195|P050102002|       1|   138|    狛江店|\n",
      "|  S14024| 20181205| 1259971200|      1102|             2|CS024514000042|P080101005|       1|    30|    三田店|\n",
      "|  S14040| 20190922| 1285113600|      1102|             1|CS040415000178|P070501004|       1|   128|  長津田店|\n",
      "|  S13020| 20170504| 1209859200|      1112|             2|ZZ000000000000|P071302010|       1|   770|十条仲原店|\n",
      "|  S14027| 20191010| 1286668800|      1102|             1|CS027514000015|P071101003|       1|   680|  南藤沢店|\n",
      "+--------+---------+-----------+----------+--------------+--------------+----------+--------+------+----------+\n",
      "only showing top 10 rows\n",
      "\n"
     ]
    }
   ],
   "source": [
    "df_receipt.join(df_store.select(\"store_cd\",\"store_name\"), \"store_cd\", \"inner\")\\\n",
    "    .show(10)"
   ]
  },
  {
   "cell_type": "markdown",
   "metadata": {},
   "source": [
    "---\n",
    "> P-037: 商品データフレーム（df_product）とカテゴリデータフレーム（df_category）を内部結合し、商品データフレームの全項目とカテゴリデータフレームの小区分名（category_small_name）を10件表示させよ。"
   ]
  },
  {
   "cell_type": "code",
   "execution_count": 40,
   "metadata": {},
   "outputs": [
    {
     "name": "stdout",
     "output_type": "stream",
     "text": [
      "+-----------------+----------+-----------------+------------------+----------+---------+-------------------+\n",
      "|category_small_cd|product_cd|category_major_cd|category_medium_cd|unit_price|unit_cost|category_small_name|\n",
      "+-----------------+----------+-----------------+------------------+----------+---------+-------------------+\n",
      "|            40101|P040101001|                4|               401|       198|      149|             弁当類|\n",
      "|            40101|P040101002|                4|               401|       218|      164|             弁当類|\n",
      "|            40101|P040101003|                4|               401|       230|      173|             弁当類|\n",
      "|            40101|P040101004|                4|               401|       248|      186|             弁当類|\n",
      "|            40101|P040101005|                4|               401|       268|      201|             弁当類|\n",
      "|            40101|P040101006|                4|               401|       298|      224|             弁当類|\n",
      "|            40101|P040101007|                4|               401|       338|      254|             弁当類|\n",
      "|            40101|P040101008|                4|               401|       420|      315|             弁当類|\n",
      "|            40101|P040101009|                4|               401|       498|      374|             弁当類|\n",
      "|            40101|P040101010|                4|               401|       580|      435|             弁当類|\n",
      "+-----------------+----------+-----------------+------------------+----------+---------+-------------------+\n",
      "only showing top 10 rows\n",
      "\n"
     ]
    }
   ],
   "source": [
    "df_product.join(df_category.select(\"category_small_cd\",\"category_small_name\"), \"category_small_cd\", \"inner\")\\\n",
    "    .show(10)"
   ]
  },
  {
   "cell_type": "markdown",
   "metadata": {},
   "source": [
    "---\n",
    "> P-038: 顧客データフレーム（df_customer）とレシート明細データフレーム（df_receipt）から、各顧客ごとの売上金額合計を求めよ。ただし、買い物の実績がない顧客については売上金額を0として表示させること。また、顧客は性別コード（gender_cd）が女性（1）であるものを対象とし、非会員（顧客IDが'Z'から始まるもの）は除外すること。なお、結果は10件だけ表示させれば良い。"
   ]
  },
  {
   "cell_type": "code",
   "execution_count": 41,
   "metadata": {},
   "outputs": [
    {
     "name": "stdout",
     "output_type": "stream",
     "text": [
      "+--------------+-----------+\n",
      "|   customer_id|sum(amount)|\n",
      "+--------------+-----------+\n",
      "|CS021313000114|          0|\n",
      "|CS031415000172|       5088|\n",
      "|CS028811000001|          0|\n",
      "|CS001215000145|        875|\n",
      "|CS015414000103|       3122|\n",
      "|CS033513000180|        868|\n",
      "|CS035614000014|          0|\n",
      "|CS011215000048|       3444|\n",
      "|CS009413000079|          0|\n",
      "|CS040412000191|        210|\n",
      "+--------------+-----------+\n",
      "only showing top 10 rows\n",
      "\n"
     ]
    }
   ],
   "source": [
    "df_amount = df_receipt.select(\n",
    "    \"customer_id\",\n",
    "    \"amount\"\n",
    "    ).groupby(\"customer_id\")\\\n",
    "    .sum()\n",
    "\n",
    "df_customer.where((col(\"gender_cd\")==1) & (~col(\"customer_id\").rlike(\"^Z\")))\\\n",
    "    .join(df_amount, \"customer_id\", \"left\")\\\n",
    "    .na.fill(0)\\\n",
    "    .select(\"customer_id\",\"sum(amount)\")\\\n",
    "    .show(10)"
   ]
  },
  {
   "cell_type": "markdown",
   "metadata": {},
   "source": [
    "---\n",
    "> P-039: レシート明細データフレーム（df_receipt）から売上日数の多い顧客の上位20件と、売上金額合計の多い顧客の上位20件を抽出し、完全外部結合せよ。ただし、非会員（顧客IDが'Z'から始まるもの）は除外すること。"
   ]
  },
  {
   "cell_type": "code",
   "execution_count": 42,
   "metadata": {},
   "outputs": [
    {
     "name": "stdout",
     "output_type": "stream",
     "text": [
      "+--------------+-----+-----------+\n",
      "|   customer_id|count|sum(amount)|\n",
      "+--------------+-----+-----------+\n",
      "|CS001605000009| null|      18925|\n",
      "|CS006515000023| null|      18372|\n",
      "|CS007514000094| null|      15735|\n",
      "|CS007515000107|   40|       null|\n",
      "|CS009414000059| null|      15492|\n",
      "|CS010214000002|   42|       null|\n",
      "|CS010214000010|   44|      18585|\n",
      "|CS011414000106| null|      18338|\n",
      "|CS011415000006| null|      16094|\n",
      "|CS014214000023|   38|       null|\n",
      "|CS014415000077|   38|       null|\n",
      "|CS015415000185|   44|      20153|\n",
      "|CS015515000034| null|      15300|\n",
      "|CS016415000101| null|      16348|\n",
      "|CS016415000141|   40|      18372|\n",
      "|CS017415000097|   40|      23086|\n",
      "|CS021514000008|   36|       null|\n",
      "|CS021514000045|   40|       null|\n",
      "|CS021515000089| null|      17580|\n",
      "|CS021515000172|   38|       null|\n",
      "+--------------+-----+-----------+\n",
      "only showing top 20 rows\n",
      "\n"
     ]
    }
   ],
   "source": [
    "df_freq = df_receipt.where(~col(\"customer_id\").rlike(\"^Z\"))\\\n",
    "    .select(\"customer_id\",\"sales_ymd\")\\\n",
    "    .groupby(\"customer_id\")\\\n",
    "    .count()\\\n",
    "    .sort(desc(\"count\"))\\\n",
    "    .limit(20)\n",
    "\n",
    "df_sum = df_receipt.where(~col(\"customer_id\").rlike(\"^Z\"))\\\n",
    "    .select(\"customer_id\",\"amount\")\\\n",
    "    .groupby(\"customer_id\")\\\n",
    "    .sum()\\\n",
    "    .sort(desc(\"sum(amount)\"))\\\n",
    "    .limit(20)\n",
    "\n",
    "df_freq.join(df_sum, \"customer_id\", \"outer\")\\\n",
    "    .show()"
   ]
  },
  {
   "cell_type": "markdown",
   "metadata": {},
   "source": [
    "---\n",
    "> P-040: 全ての店舗と全ての商品を組み合わせると何件のデータとなるか調査したい。店舗（df_store）と商品（df_product）を直積した件数を計算せよ。"
   ]
  },
  {
   "cell_type": "code",
   "execution_count": 43,
   "metadata": {},
   "outputs": [
    {
     "data": {
      "text/plain": [
       "531590"
      ]
     },
     "execution_count": 43,
     "metadata": {},
     "output_type": "execute_result"
    }
   ],
   "source": [
    "df_store.crossJoin(df_product).count()"
   ]
  },
  {
   "cell_type": "markdown",
   "metadata": {},
   "source": [
    "---\n",
    "> P-041: レシート明細データフレーム（df_receipt）の売上金額（amount）を日付（sales_ymd）ごとに集計し、前日からの売上金額増減を計算せよ。なお、計算結果は10件表示すればよい。"
   ]
  },
  {
   "cell_type": "code",
   "execution_count": 44,
   "metadata": {},
   "outputs": [
    {
     "name": "stdout",
     "output_type": "stream",
     "text": [
      "+---------+--------------+-----------+----------+\n",
      "|sales_ymd|sum(sales_ymd)|sum(amount)|lag amount|\n",
      "+---------+--------------+-----------+----------+\n",
      "| 20170101|    1795138989|      33723|      null|\n",
      "| 20170102|    1734628772|      24165|     33723|\n",
      "| 20170103|    1815309270|      27503|     24165|\n",
      "| 20170104|    2057350608|      36165|     27503|\n",
      "| 20170105|    1694288820|      37830|     36165|\n",
      "| 20170106|    1593438374|      32387|     37830|\n",
      "| 20170107|    1734629202|      23415|     32387|\n",
      "| 20170108|    1916160260|      24737|     23415|\n",
      "| 20170109|    1956500573|      26718|     24737|\n",
      "| 20170110|    1432077810|      20143|     26718|\n",
      "+---------+--------------+-----------+----------+\n",
      "only showing top 10 rows\n",
      "\n"
     ]
    }
   ],
   "source": [
    "from pyspark.sql.functions import lag\n",
    "window = Window.orderBy(\"sales_ymd\")  \n",
    "df_receipt.select(\"sales_ymd\",\"amount\")\\\n",
    "    .groupby(\"sales_ymd\")\\\n",
    "    .sum()\\\n",
    "    .withColumn(\"lag amount\", lag(\"sum(amount)\").over(window))\\\n",
    "    .show(10)"
   ]
  },
  {
   "cell_type": "markdown",
   "metadata": {},
   "source": [
    "---\n",
    "> P-042: レシート明細データフレーム（df_receipt）の売上金額（amount）を日付（sales_ymd）ごとに集計し、各日付のデータに対し、１日前、２日前、３日前のデータを結合せよ。結果は10件表示すればよい。"
   ]
  },
  {
   "cell_type": "code",
   "execution_count": 45,
   "metadata": {},
   "outputs": [
    {
     "name": "stdout",
     "output_type": "stream",
     "text": [
      "+---------+--------------+-----------+----------+----------+----------+\n",
      "|sales_ymd|sum(sales_ymd)|sum(amount)|1 days ago|2 days ago|3 days ago|\n",
      "+---------+--------------+-----------+----------+----------+----------+\n",
      "| 20170101|    1795138989|      33723|      null|      null|      null|\n",
      "| 20170102|    1734628772|      24165|     33723|      null|      null|\n",
      "| 20170103|    1815309270|      27503|     24165|     33723|      null|\n",
      "| 20170104|    2057350608|      36165|     27503|     24165|     33723|\n",
      "| 20170105|    1694288820|      37830|     36165|     27503|     24165|\n",
      "| 20170106|    1593438374|      32387|     37830|     36165|     27503|\n",
      "| 20170107|    1734629202|      23415|     32387|     37830|     36165|\n",
      "| 20170108|    1916160260|      24737|     23415|     32387|     37830|\n",
      "| 20170109|    1956500573|      26718|     24737|     23415|     32387|\n",
      "| 20170110|    1432077810|      20143|     26718|     24737|     23415|\n",
      "+---------+--------------+-----------+----------+----------+----------+\n",
      "only showing top 10 rows\n",
      "\n"
     ]
    }
   ],
   "source": [
    "from pyspark.sql.functions import lag\n",
    "window = Window.orderBy(\"sales_ymd\")  \n",
    "df_receipt.select(\"sales_ymd\",\"amount\")\\\n",
    "    .groupby(\"sales_ymd\")\\\n",
    "    .sum()\\\n",
    "    .select(\n",
    "    \"*\",\n",
    "    lag(\"sum(amount)\").over(window).alias(\"1 days ago\"),\n",
    "    lag(\"sum(amount)\",2).over(window).alias(\"2 days ago\"),\n",
    "    lag(\"sum(amount)\",3).over(window).alias(\"3 days ago\")\n",
    "    ).show(10)"
   ]
  },
  {
   "cell_type": "markdown",
   "metadata": {},
   "source": [
    "---\n",
    "> P-043： レシート明細データフレーム（df_receipt）と顧客データフレーム（df_customer）を結合し、性別（gender）と年代（ageから計算）ごとに売上金額（amount）を合計した売上サマリデータフレーム（df_sales_summary）を作成せよ。性別は0が男性、1が女性、9が不明を表すものとする。\n",
    ">\n",
    "> ただし、項目構成は年代、女性の売上金額、男性の売上金額、性別不明の売上金額の4項目とすること（縦に年代、横に性別のクロス集計）。また、年代は10歳ごとの階級とすること。"
   ]
  },
  {
   "cell_type": "code",
   "execution_count": 46,
   "metadata": {},
   "outputs": [
    {
     "name": "stdout",
     "output_type": "stream",
     "text": [
      "+---+------+-------+------+\n",
      "|era|  不明|   女性|  男性|\n",
      "+---+------+-------+------+\n",
      "| 10|  4317| 149836|  1591|\n",
      "| 20| 44328|1363724| 72940|\n",
      "| 30| 50441| 693047|177322|\n",
      "| 40|483512|9320791| 19355|\n",
      "| 50|342923|6685192| 54320|\n",
      "| 60| 71418| 987741|272469|\n",
      "| 70|  2427|  29764| 13435|\n",
      "| 80|  5111| 262923| 46360|\n",
      "| 90|  null|   6260|  null|\n",
      "+---+------+-------+------+\n",
      "\n"
     ]
    }
   ],
   "source": [
    "import math\n",
    "from pyspark.sql.functions import udf\n",
    "\n",
    "def calc_era(x):\n",
    "    return math.floor(x/10)*10\n",
    "calc_era_udf = udf(calc_era)\n",
    "\n",
    "df_sales_summary = df_receipt.join(df_customer, \"customer_id\", \"inner\")\\\n",
    "    .withColumn(\"era\", calc_era_udf(col(\"age\")))\\\n",
    "    .select(\"era\",\"gender\", \"amount\")\\\n",
    "    .groupby(\"era\")\\\n",
    "    .pivot(\"gender\")\\\n",
    "    .agg(sum(\"amount\"))\\\n",
    "    .sort(\"era\")\\\n",
    "\n",
    "df_sales_summary.show()"
   ]
  },
  {
   "cell_type": "markdown",
   "metadata": {},
   "source": [
    "---\n",
    "> P-044： 前設問で作成した売上サマリデータフレーム（df_sales_summary）は性別の売上を横持ちさせたものであった。このデータフレームから性別を縦持ちさせ、年代、性別コード、売上金額の3項目に変換せよ。ただし、性別コードは男性を'00'、女性を'01'、不明を'99'とする。"
   ]
  },
  {
   "cell_type": "code",
   "execution_count": 47,
   "metadata": {},
   "outputs": [
    {
     "name": "stdout",
     "output_type": "stream",
     "text": [
      "+---+------+-------+\n",
      "|era|gender| amount|\n",
      "+---+------+-------+\n",
      "| 10|    99|   4317|\n",
      "| 10|    01| 149836|\n",
      "| 10|    00|   1591|\n",
      "| 20|    99|  44328|\n",
      "| 20|    01|1363724|\n",
      "| 20|    00|  72940|\n",
      "| 30|    99|  50441|\n",
      "| 30|    01| 693047|\n",
      "| 30|    00| 177322|\n",
      "| 40|    99| 483512|\n",
      "| 40|    01|9320791|\n",
      "| 40|    00|  19355|\n",
      "| 50|    99| 342923|\n",
      "| 50|    01|6685192|\n",
      "| 50|    00|  54320|\n",
      "| 60|    99|  71418|\n",
      "| 60|    01| 987741|\n",
      "| 60|    00| 272469|\n",
      "| 70|    99|   2427|\n",
      "| 70|    01|  29764|\n",
      "| 70|    00|  13435|\n",
      "| 80|    99|   5111|\n",
      "| 80|    01| 262923|\n",
      "| 80|    00|  46360|\n",
      "| 90|    99|   null|\n",
      "| 90|    01|   6260|\n",
      "| 90|    00|   null|\n",
      "+---+------+-------+\n",
      "\n"
     ]
    }
   ],
   "source": [
    "#これもあまり明解ではない\n",
    "df_tmp = df_sales_summary.withColumnRenamed(\"男性\",\"m\")\\\n",
    "    .withColumnRenamed(\"女性\",\"f\")\\\n",
    "    .withColumnRenamed(\"不明\",\"n\")\\\n",
    "    \n",
    "column = df_tmp.columns\n",
    "df_tmp.selectExpr(\n",
    "    \"era\",\n",
    "    f\"\"\"\n",
    "    stack(\n",
    "            {len(column)-1},\n",
    "            {', '.join(f'\"{c}\", {c}' for c in column[1:])}\n",
    "        ) \n",
    "    \"\"\"\n",
    "    ).withColumnRenamed(\"col0\",\"gender\")\\\n",
    "    .withColumnRenamed(\"col1\",\"amount\")\\\n",
    "    .replace({\"m\":\"00\",\"f\":\"01\",\"n\":\"99\"})\\\n",
    "    .show(30)"
   ]
  },
  {
   "cell_type": "markdown",
   "metadata": {},
   "source": [
    "参考: https://qiita.com/calderarie/items/9acd3d77e23484bd3bad"
   ]
  },
  {
   "cell_type": "markdown",
   "metadata": {},
   "source": [
    "---\n",
    "> P-045: 顧客データフレーム（df_customer）の生年月日（birth_day）は日付型（Date）でデータを保有している。これをYYYYMMDD形式の文字列に変換し、顧客ID（customer_id）とともに抽出せよ。データは10件を抽出すれば良い。"
   ]
  },
  {
   "cell_type": "code",
   "execution_count": 48,
   "metadata": {},
   "outputs": [
    {
     "name": "stdout",
     "output_type": "stream",
     "text": [
      "+--------------+---------+\n",
      "|   customer_id|birth_day|\n",
      "+--------------+---------+\n",
      "|CS021313000114| 19810429|\n",
      "|CS037613000071| 19520401|\n",
      "|CS031415000172| 19761004|\n",
      "|CS028811000001| 19330327|\n",
      "|CS001215000145| 19950329|\n",
      "|CS020401000016| 19740915|\n",
      "|CS015414000103| 19770809|\n",
      "|CS029403000008| 19730817|\n",
      "|CS015804000004| 19310502|\n",
      "|CS033513000180| 19620711|\n",
      "+--------------+---------+\n",
      "only showing top 10 rows\n",
      "\n"
     ]
    }
   ],
   "source": [
    "#文字列の置換になるので、問題の趣旨からは外れる\n",
    "from pyspark.sql.functions import regexp_replace\n",
    "df_customer.select(\n",
    "    \"customer_id\",\n",
    "    regexp_replace(\"birth_day\", \"(\\d{4})-(\\d{2})-(\\d{2})\", \"$1$2$3\").alias(\"birth_day\")\n",
    "    ).show(10)"
   ]
  },
  {
   "cell_type": "markdown",
   "metadata": {},
   "source": [
    "---\n",
    "> P-046: 顧客データフレーム（df_customer）の申し込み日（application_date）はYYYYMMD形式の数値型でデータを保有している。これを日付型（dateやdatetime）に変換し、顧客ID（customer_id）とともに抽出せよ。データは10件を抽出すれば良い。"
   ]
  },
  {
   "cell_type": "code",
   "execution_count": 49,
   "metadata": {},
   "outputs": [
    {
     "name": "stdout",
     "output_type": "stream",
     "text": [
      "+--------------+----------------+\n",
      "|   customer_id|application_date|\n",
      "+--------------+----------------+\n",
      "|CS021313000114|      2015-09-05|\n",
      "|CS037613000071|      2015-04-14|\n",
      "|CS031415000172|      2015-05-29|\n",
      "|CS028811000001|      2016-01-15|\n",
      "|CS001215000145|      2017-06-05|\n",
      "|CS020401000016|      2015-02-25|\n",
      "|CS015414000103|      2015-07-22|\n",
      "|CS029403000008|      2015-05-15|\n",
      "|CS015804000004|      2015-06-07|\n",
      "|CS033513000180|      2015-07-28|\n",
      "+--------------+----------------+\n",
      "only showing top 10 rows\n",
      "\n"
     ]
    }
   ],
   "source": [
    "from pyspark.sql.functions import to_date\n",
    "from pyspark.sql.types import StringType\n",
    "df_customer.select(\n",
    "    \"customer_id\",\n",
    "    to_date(col(\"application_date\").cast(StringType()),\"yyyyMMdd\").alias(\"application_date\")\n",
    "    ).show(10)"
   ]
  },
  {
   "cell_type": "markdown",
   "metadata": {},
   "source": [
    "format: https://spark.apache.org/docs/latest/sql-ref-datetime-pattern.html"
   ]
  },
  {
   "cell_type": "markdown",
   "metadata": {},
   "source": [
    "---\n",
    "> P-047: レシート明細データフレーム（df_receipt）の売上日（sales_ymd）はYYYYMMDD形式の数値型でデータを保有している。これを日付型（dateやdatetime）に変換し、レシート番号(receipt_no)、レシートサブ番号（receipt_sub_no）とともに抽出せよ。データは10件を抽出すれば良い。"
   ]
  },
  {
   "cell_type": "code",
   "execution_count": 50,
   "metadata": {},
   "outputs": [
    {
     "name": "stdout",
     "output_type": "stream",
     "text": [
      "+--------------+----------------+\n",
      "|   customer_id|application_date|\n",
      "+--------------+----------------+\n",
      "|CS006214000001|      2018-11-03|\n",
      "|CS008415000097|      2018-11-18|\n",
      "|CS028414000014|      2017-07-12|\n",
      "|ZZ000000000000|      2019-02-05|\n",
      "|CS025415000050|      2018-08-21|\n",
      "|CS003515000195|      2019-06-05|\n",
      "|CS024514000042|      2018-12-05|\n",
      "|CS040415000178|      2019-09-22|\n",
      "|ZZ000000000000|      2017-05-04|\n",
      "|CS027514000015|      2019-10-10|\n",
      "+--------------+----------------+\n",
      "only showing top 10 rows\n",
      "\n"
     ]
    }
   ],
   "source": [
    "df_receipt.select(\n",
    "    \"customer_id\",\n",
    "    to_date(col(\"sales_ymd\").cast(StringType()),\"yyyyMMdd\").alias(\"application_date\")\n",
    "    ).show(10)"
   ]
  },
  {
   "cell_type": "markdown",
   "metadata": {},
   "source": [
    "---\n",
    "> P-048: レシート明細データフレーム（df_receipt）の売上エポック秒（sales_epoch）は数値型のUNIX秒でデータを保有している。これを日付型（dateやdatetime）に変換し、レシート番号(receipt_no)、レシートサブ番号（receipt_sub_no）とともに抽出せよ。データは10件を抽出すれば良い。"
   ]
  },
  {
   "cell_type": "code",
   "execution_count": 51,
   "metadata": {},
   "outputs": [
    {
     "name": "stdout",
     "output_type": "stream",
     "text": [
      "+----------+--------------+-------------------+\n",
      "|receipt_no|receipt_sub_no|         sales_date|\n",
      "+----------+--------------+-------------------+\n",
      "|       112|             1|2009-11-03 00:00:00|\n",
      "|      1132|             2|2009-11-18 00:00:00|\n",
      "|      1102|             1|2008-07-12 00:00:00|\n",
      "|      1132|             1|2010-02-05 00:00:00|\n",
      "|      1102|             2|2009-08-21 00:00:00|\n",
      "|      1112|             1|2010-06-05 00:00:00|\n",
      "|      1102|             2|2009-12-05 00:00:00|\n",
      "|      1102|             1|2010-09-22 00:00:00|\n",
      "|      1112|             2|2008-05-04 00:00:00|\n",
      "|      1102|             1|2010-10-10 00:00:00|\n",
      "+----------+--------------+-------------------+\n",
      "only showing top 10 rows\n",
      "\n"
     ]
    }
   ],
   "source": [
    "from pyspark.sql.functions import from_unixtime\n",
    "df_receipt.select(\n",
    "    \"receipt_no\",\n",
    "    \"receipt_sub_no\",\n",
    "    from_unixtime(\"sales_epoch\").alias(\"sales_date\")\n",
    "    ).show(10)"
   ]
  },
  {
   "cell_type": "markdown",
   "metadata": {},
   "source": [
    "---\n",
    "> P-049: レシート明細データフレーム（df_receipt）の売上エポック秒（sales_epoch）を日付型（timestamp型）に変換し、\"年\"だけ取り出してレシート番号(receipt_no)、レシートサブ番号（receipt_sub_no）とともに抽出せよ。データは10件を抽出すれば良い。"
   ]
  },
  {
   "cell_type": "code",
   "execution_count": 52,
   "metadata": {},
   "outputs": [
    {
     "name": "stdout",
     "output_type": "stream",
     "text": [
      "+----------+--------------+----------+\n",
      "|receipt_no|receipt_sub_no|sales_year|\n",
      "+----------+--------------+----------+\n",
      "|       112|             1|      2009|\n",
      "|      1132|             2|      2009|\n",
      "|      1102|             1|      2008|\n",
      "|      1132|             1|      2010|\n",
      "|      1102|             2|      2009|\n",
      "|      1112|             1|      2010|\n",
      "|      1102|             2|      2009|\n",
      "|      1102|             1|      2010|\n",
      "|      1112|             2|      2008|\n",
      "|      1102|             1|      2010|\n",
      "+----------+--------------+----------+\n",
      "only showing top 10 rows\n",
      "\n"
     ]
    }
   ],
   "source": [
    "from pyspark.sql.functions import year\n",
    "df_receipt.select(\n",
    "    \"receipt_no\",\n",
    "    \"receipt_sub_no\",\n",
    "    year(from_unixtime(\"sales_epoch\")).alias(\"sales_year\")\n",
    "    ).show(10)"
   ]
  },
  {
   "cell_type": "markdown",
   "metadata": {},
   "source": [
    "---\n",
    "> P-050: レシート明細データフレーム（df_receipt）の売上エポック秒（sales_epoch）を日付型（timestamp型）に変換し、\"月\"だけ取り出してレシート番号(receipt_no)、レシートサブ番号（receipt_sub_no）とともに抽出せよ。なお、\"月\"は0埋め2桁で取り出すこと。データは10件を抽出すれば良い。"
   ]
  },
  {
   "cell_type": "code",
   "execution_count": 53,
   "metadata": {},
   "outputs": [
    {
     "name": "stdout",
     "output_type": "stream",
     "text": [
      "+----------+--------------+-----------+\n",
      "|receipt_no|receipt_sub_no|sales_month|\n",
      "+----------+--------------+-----------+\n",
      "|       112|             1|         11|\n",
      "|      1132|             2|         11|\n",
      "|      1102|             1|         07|\n",
      "|      1132|             1|         02|\n",
      "|      1102|             2|         08|\n",
      "|      1112|             1|         06|\n",
      "|      1102|             2|         12|\n",
      "|      1102|             1|         09|\n",
      "|      1112|             2|         05|\n",
      "|      1102|             1|         10|\n",
      "+----------+--------------+-----------+\n",
      "only showing top 10 rows\n",
      "\n"
     ]
    }
   ],
   "source": [
    "from pyspark.sql.functions import month, format_string\n",
    "df_receipt.select(\n",
    "    \"receipt_no\",\n",
    "    \"receipt_sub_no\",\n",
    "    format_string(\"%02d\",month(from_unixtime(\"sales_epoch\"))).alias(\"sales_month\")\n",
    "    ).show(10)"
   ]
  },
  {
   "cell_type": "markdown",
   "metadata": {},
   "source": [
    "---\n",
    "> P-051: レシート明細データフレーム（df_receipt）の売上エポック秒（sales_epoch）を日付型（timestamp型）に変換し、\"日\"だけ取り出してレシート番号(receipt_no)、レシートサブ番号（receipt_sub_no）とともに抽出せよ。なお、\"日\"は0埋め2桁で取り出すこと。データは10件を抽出すれば良い。"
   ]
  },
  {
   "cell_type": "code",
   "execution_count": 54,
   "metadata": {},
   "outputs": [
    {
     "name": "stdout",
     "output_type": "stream",
     "text": [
      "+----------+--------------+---------+\n",
      "|receipt_no|receipt_sub_no|sales_day|\n",
      "+----------+--------------+---------+\n",
      "|       112|             1|       03|\n",
      "|      1132|             2|       18|\n",
      "|      1102|             1|       12|\n",
      "|      1132|             1|       05|\n",
      "|      1102|             2|       21|\n",
      "|      1112|             1|       05|\n",
      "|      1102|             2|       05|\n",
      "|      1102|             1|       22|\n",
      "|      1112|             2|       04|\n",
      "|      1102|             1|       10|\n",
      "+----------+--------------+---------+\n",
      "only showing top 10 rows\n",
      "\n"
     ]
    }
   ],
   "source": [
    "from pyspark.sql.functions import dayofmonth\n",
    "df_receipt.select(\n",
    "    \"receipt_no\",\n",
    "    \"receipt_sub_no\",\n",
    "    format_string(\"%02d\",dayofmonth(from_unixtime(\"sales_epoch\"))).alias(\"sales_day\")\n",
    "    ).show(10)"
   ]
  },
  {
   "cell_type": "markdown",
   "metadata": {},
   "source": [
    "---\n",
    "> P-052: レシート明細データフレーム（df_receipt）の売上金額（amount）を顧客ID（customer_id）ごとに合計の上、売上金額合計に対して2000円以下を0、2000円超を1に2値化し、顧客ID、売上金額合計とともに10件表示せよ。ただし、顧客IDが\"Z\"から始まるのものは非会員を表すため、除外して計算すること。"
   ]
  },
  {
   "cell_type": "code",
   "execution_count": 55,
   "metadata": {},
   "outputs": [
    {
     "name": "stdout",
     "output_type": "stream",
     "text": [
      "+--------------+-----------+----------------------+\n",
      "|   customer_id|sum(amount)|does_purchase_over2000|\n",
      "+--------------+-----------+----------------------+\n",
      "|CS024415000195|       4638|                     1|\n",
      "|CS011515000044|       2533|                     1|\n",
      "|CS017415000245|       1289|                     0|\n",
      "|CS011512000113|        686|                     0|\n",
      "|CS025414000093|       3929|                     1|\n",
      "|CS010605000007|       6420|                     1|\n",
      "|CS011415000097|       3462|                     1|\n",
      "|CS018515000090|       3756|                     1|\n",
      "|CS015415000222|      11472|                     1|\n",
      "|CS038605000003|       2833|                     1|\n",
      "+--------------+-----------+----------------------+\n",
      "only showing top 10 rows\n",
      "\n"
     ]
    }
   ],
   "source": [
    "def binalization(x):\n",
    "    if(x>2000):\n",
    "        return 1\n",
    "    else:\n",
    "        return 0\n",
    "bi = udf(binalization)\n",
    "\n",
    "df_receipt.where(~col(\"customer_id\").rlike(\"^Z\"))\\\n",
    "    .groupby(\"customer_id\")\\\n",
    "    .sum()\\\n",
    "    .select(\n",
    "    \"customer_id\",\n",
    "    \"sum(amount)\",\n",
    "    bi(col(\"sum(amount)\")).alias(\"does_purchase_over2000\")\n",
    "    ).show(10)"
   ]
  },
  {
   "cell_type": "markdown",
   "metadata": {},
   "source": [
    "---\n",
    "> P-053: 顧客データフレーム（df_customer）の郵便番号（postal_cd）に対し、東京（先頭3桁が100〜209のもの）を1、それ以外のものを0に２値化せよ。さらにレシート明細データフレーム（df_receipt）と結合し、全期間において買い物実績のある顧客数を、作成した2値ごとにカウントせよ。"
   ]
  },
  {
   "cell_type": "code",
   "execution_count": 56,
   "metadata": {},
   "outputs": [
    {
     "name": "stdout",
     "output_type": "stream",
     "text": [
      "+---------+---------------+\n",
      "|postal_cd|is_locate_tokyo|\n",
      "+---------+---------------+\n",
      "| 259-1113|              0|\n",
      "| 136-0076|              1|\n",
      "| 151-0053|              1|\n",
      "| 245-0016|              0|\n",
      "| 144-0055|              1|\n",
      "| 174-0065|              1|\n",
      "| 136-0073|              1|\n",
      "| 279-0003|              0|\n",
      "| 136-0073|              1|\n",
      "| 241-0823|              0|\n",
      "+---------+---------------+\n",
      "only showing top 10 rows\n",
      "\n"
     ]
    }
   ],
   "source": [
    "def binalization(x):\n",
    "    if(100 <= int(x[0:3]) <= 209):\n",
    "        return 1\n",
    "    else:\n",
    "        return 0\n",
    "bi = udf(binalization)\n",
    "\n",
    "df_customer.select(\n",
    "    \"postal_cd\",\n",
    "    bi(col(\"postal_cd\")).alias(\"is_locate_tokyo\")\n",
    "    ).show(10)"
   ]
  },
  {
   "cell_type": "markdown",
   "metadata": {},
   "source": [
    "---\n",
    "> P-054: 顧客データデータフレーム（df_customer）の住所（address）は、埼玉県、千葉県、東京都、神奈川県のいずれかとなっている。都道府県毎にコード値を作成し、顧客ID、住所とともに抽出せよ。値は埼玉県を11、千葉県を12、東京都を13、神奈川県を14とすること。結果は10件表示させれば良い。"
   ]
  },
  {
   "cell_type": "code",
   "execution_count": 57,
   "metadata": {},
   "outputs": [
    {
     "name": "stdout",
     "output_type": "stream",
     "text": [
      "+--------------+--------------------------------+-------------+\n",
      "|   customer_id|                         address|prefecture_cd|\n",
      "+--------------+--------------------------------+-------------+\n",
      "|CS021313000114|  神奈川県伊勢原市粟窪**********|           14|\n",
      "|CS037613000071|      東京都江東区南砂**********|           13|\n",
      "|CS031415000172|    東京都渋谷区代々木**********|           13|\n",
      "|CS028811000001|神奈川県横浜市泉区和泉町*****...|           14|\n",
      "|CS001215000145|    東京都大田区仲六郷**********|           13|\n",
      "|CS020401000016|      東京都板橋区若木**********|           13|\n",
      "|CS015414000103|      東京都江東区北砂**********|           13|\n",
      "|CS029403000008|      千葉県浦安市海楽**********|           12|\n",
      "|CS015804000004|      東京都江東区北砂**********|           13|\n",
      "|CS033513000180|神奈川県横浜市旭区善部町*****...|           14|\n",
      "+--------------+--------------------------------+-------------+\n",
      "only showing top 10 rows\n",
      "\n"
     ]
    }
   ],
   "source": [
    "def generate_code(x):\n",
    "    if(\"埼玉県\" in x):\n",
    "        return \"11\"\n",
    "    if(\"千葉県\" in x):\n",
    "        return \"12\"\n",
    "    if(\"東京都\" in x):\n",
    "        return \"13\"\n",
    "    if(\"神奈川県\" in x):\n",
    "        return \"14\"\n",
    "gen = udf(generate_code)\n",
    "\n",
    "df_customer.select(\n",
    "    \"customer_id\",\n",
    "    \"address\",\n",
    "    gen(col(\"address\")).alias(\"prefecture_cd\")\n",
    "    ).show(10)"
   ]
  },
  {
   "cell_type": "markdown",
   "metadata": {},
   "source": [
    "---\n",
    "> P-055: レシート明細データフレーム（df_receipt）の売上金額（amount）を顧客ID（customer_id）ごとに合計し、その合計金額の四分位点を求めよ。その上で、顧客ごとの売上金額合計に対して以下の基準でカテゴリ値を作成し、顧客ID、売上金額と合計ともに表示せよ。カテゴリ値は上から順に1〜4とする。結果は10件表示させれば良い。\n",
    ">\n",
    "> - 最小値以上第一四分位未満\n",
    "> - 第一四分位以上第二四分位未満\n",
    "> - 第二四分位以上第三四分位未満\n",
    "> - 第三四分位以上"
   ]
  },
  {
   "cell_type": "code",
   "execution_count": 58,
   "metadata": {},
   "outputs": [
    {
     "name": "stdout",
     "output_type": "stream",
     "text": [
      "+--------------+------+----------+\n",
      "|   customer_id|amount|percentile|\n",
      "+--------------+------+----------+\n",
      "|CS006214000001|   158|         2|\n",
      "|CS008415000097|    81|         1|\n",
      "|CS028414000014|   170|         3|\n",
      "|ZZ000000000000|    25|         1|\n",
      "|CS025415000050|    90|         1|\n",
      "|CS003515000195|   138|         2|\n",
      "|CS024514000042|    30|         1|\n",
      "|CS040415000178|   128|         2|\n",
      "|ZZ000000000000|   770|         4|\n",
      "|CS027514000015|   680|         4|\n",
      "+--------------+------+----------+\n",
      "only showing top 10 rows\n",
      "\n"
     ]
    }
   ],
   "source": [
    "percentile = df_receipt.stat.approxQuantile(\"amount\", [0.25,0.5,0.75], 0)\n",
    "def generate_percentile(x):\n",
    "    if x < percentile[0]:\n",
    "        return 1\n",
    "    elif percentile[0] <= x < percentile[1]:\n",
    "        return 2\n",
    "    elif percentile[1] <= x < percentile[2]:\n",
    "        return 3\n",
    "    elif percentile[2] <= x:\n",
    "        return 4\n",
    "    \n",
    "gen = udf(generate_percentile)\n",
    "\n",
    "df_receipt.select(\n",
    "    \"customer_id\",\n",
    "    \"amount\",\n",
    "    gen(col(\"amount\")).alias(\"percentile\")\n",
    "    ).show(10)"
   ]
  },
  {
   "cell_type": "markdown",
   "metadata": {},
   "source": [
    "---\n",
    "> P-056: 顧客データフレーム（df_customer）の年齢（age）をもとに10歳刻みで年代を算出し、顧客ID（customer_id）、生年月日（birth_day）とともに抽出せよ。ただし、60歳以上は全て60歳代とすること。年代を表すカテゴリ名は任意とする。先頭10件を表示させればよい。"
   ]
  },
  {
   "cell_type": "code",
   "execution_count": 59,
   "metadata": {},
   "outputs": [
    {
     "name": "stdout",
     "output_type": "stream",
     "text": [
      "+--------------+----------+---+---+\n",
      "|   customer_id| birth_day|age|era|\n",
      "+--------------+----------+---+---+\n",
      "|CS021313000114|1981-04-29| 37| 30|\n",
      "|CS037613000071|1952-04-01| 66| 60|\n",
      "|CS031415000172|1976-10-04| 42| 40|\n",
      "|CS028811000001|1933-03-27| 86| 60|\n",
      "|CS001215000145|1995-03-29| 24| 20|\n",
      "|CS020401000016|1974-09-15| 44| 40|\n",
      "|CS015414000103|1977-08-09| 41| 40|\n",
      "|CS029403000008|1973-08-17| 45| 40|\n",
      "|CS015804000004|1931-05-02| 87| 60|\n",
      "|CS033513000180|1962-07-11| 56| 50|\n",
      "+--------------+----------+---+---+\n",
      "only showing top 10 rows\n",
      "\n"
     ]
    }
   ],
   "source": [
    "def calc_era(x):\n",
    "    if(x>=60):\n",
    "        return 60\n",
    "    else:\n",
    "        return math.floor(x/10)*10\n",
    "calc_era_udf = udf(calc_era)\n",
    "\n",
    "df_customer.select(\n",
    "    \"customer_id\",\n",
    "    \"birth_day\",\n",
    "    \"age\",\n",
    "    calc_era_udf(col(\"age\")).alias(\"era\")\n",
    "    ).show(10)"
   ]
  },
  {
   "cell_type": "markdown",
   "metadata": {},
   "source": [
    "---\n",
    "> P-057: 前問題の抽出結果と性別（gender）を組み合わせ、新たに性別×年代の組み合わせを表すカテゴリデータを作成せよ。組み合わせを表すカテゴリの値は任意とする。先頭10件を表示させればよい。"
   ]
  },
  {
   "cell_type": "code",
   "execution_count": 60,
   "metadata": {},
   "outputs": [
    {
     "name": "stdout",
     "output_type": "stream",
     "text": [
      "+--------------+----------+---+------+---+----------+\n",
      "|   customer_id| birth_day|age|gender|era|gender+era|\n",
      "+--------------+----------+---+------+---+----------+\n",
      "|CS021313000114|1981-04-29| 37|  女性| 30|   女性,30|\n",
      "|CS037613000071|1952-04-01| 66|  不明| 60|   不明,60|\n",
      "|CS031415000172|1976-10-04| 42|  女性| 40|   女性,40|\n",
      "|CS028811000001|1933-03-27| 86|  女性| 60|   女性,60|\n",
      "|CS001215000145|1995-03-29| 24|  女性| 20|   女性,20|\n",
      "|CS020401000016|1974-09-15| 44|  男性| 40|   男性,40|\n",
      "|CS015414000103|1977-08-09| 41|  女性| 40|   女性,40|\n",
      "|CS029403000008|1973-08-17| 45|  男性| 40|   男性,40|\n",
      "|CS015804000004|1931-05-02| 87|  男性| 60|   男性,60|\n",
      "|CS033513000180|1962-07-11| 56|  女性| 50|   女性,50|\n",
      "+--------------+----------+---+------+---+----------+\n",
      "only showing top 10 rows\n",
      "\n"
     ]
    }
   ],
   "source": [
    "def generate_row(x,y):\n",
    "    return f\"{x},{y}\"\n",
    "gen = udf(generate_row)\n",
    "\n",
    "df_customer.select(\n",
    "    \"customer_id\",\n",
    "    \"birth_day\",\n",
    "    \"age\",\n",
    "    \"gender\",\n",
    "    calc_era_udf(col(\"age\")).alias(\"era\"),\n",
    "    gen(col(\"gender\"),calc_era_udf(col(\"age\"))).alias(\"gender+era\")\n",
    "    ).show(10)"
   ]
  },
  {
   "cell_type": "markdown",
   "metadata": {},
   "source": [
    "---\n",
    "> P-058: 顧客データフレーム（df_customer）の性別コード（gender_cd）をダミー変数化し、顧客ID（customer_id）とともに抽出せよ。結果は10件表示させれば良い。"
   ]
  },
  {
   "cell_type": "code",
   "execution_count": 61,
   "metadata": {},
   "outputs": [
    {
     "name": "stdout",
     "output_type": "stream",
     "text": [
      "+--------------+------+---------------+---------------+\n",
      "|   customer_id|gender|gender_dummy[0]|gender_dummy[1]|\n",
      "+--------------+------+---------------+---------------+\n",
      "|CS021313000114|  女性|            0.0|            1.0|\n",
      "|CS037613000071|  不明|            0.0|            0.0|\n",
      "|CS031415000172|  女性|            0.0|            1.0|\n",
      "|CS028811000001|  女性|            0.0|            1.0|\n",
      "|CS001215000145|  女性|            0.0|            1.0|\n",
      "|CS020401000016|  男性|            1.0|            0.0|\n",
      "|CS015414000103|  女性|            0.0|            1.0|\n",
      "|CS029403000008|  男性|            1.0|            0.0|\n",
      "|CS015804000004|  男性|            1.0|            0.0|\n",
      "|CS033513000180|  女性|            0.0|            1.0|\n",
      "+--------------+------+---------------+---------------+\n",
      "only showing top 10 rows\n",
      "\n"
     ]
    }
   ],
   "source": [
    "from pyspark.ml.feature import OneHotEncoder\n",
    "from pyspark.ml.functions import vector_to_array\n",
    "\n",
    "encoder = OneHotEncoder(inputCol=\"gender_cd\",\n",
    "                        outputCol=\"genderVec\")\n",
    "model = encoder.fit(df_customer)\n",
    "encoded = model.transform(df_customer)\n",
    "\n",
    "encoded.withColumn(\"gender_dummy\", vector_to_array(\"genderVec\"))\\\n",
    "    .select(\n",
    "    \"customer_id\",\n",
    "    \"gender\",\n",
    "    col(\"gender_dummy\")[0],\n",
    "    col(\"gender_dummy\")[1]\n",
    "    ).show(10)"
   ]
  },
  {
   "cell_type": "markdown",
   "metadata": {},
   "source": [
    "---\n",
    "> P-059: レシート明細データフレーム（df_receipt）の売上金額（amount）を顧客ID（customer_id）ごとに合計し、合計した売上金額を平均0、標準偏差1に標準化して顧客ID、売上金額合計とともに表示せよ。標準化に使用する標準偏差は、不偏標準偏差と標本標準偏差のどちらでも良いものとする。ただし、顧客IDが\"Z\"から始まるのものは非会員を表すため、除外して計算すること。結果は10件表示させれば良い。"
   ]
  },
  {
   "cell_type": "code",
   "execution_count": 62,
   "metadata": {},
   "outputs": [
    {
     "name": "stdout",
     "output_type": "stream",
     "text": [
      "+--------------+-----------+--------------------+\n",
      "|   customer_id|sum(amount)|  sum(amount)_scaled|\n",
      "+--------------+-----------+--------------------+\n",
      "|CS024415000195|       4638|  0.7682867318900658|\n",
      "|CS011515000044|       2533|-0.00541859639243...|\n",
      "|CS017415000245|       1289| -0.4626582298287443|\n",
      "|CS011512000113|        686| -0.6842944830137078|\n",
      "|CS025414000093|       3929|   0.507689545309404|\n",
      "|CS010605000007|       6420|   1.423271480108316|\n",
      "|CS011415000097|       3462| 0.33604090478307247|\n",
      "|CS018515000090|       3756|  0.4441023615598208|\n",
      "|CS015415000222|      11472|   3.280164267986318|\n",
      "|CS038605000003|       2833|     0.1048481962369|\n",
      "+--------------+-----------+--------------------+\n",
      "only showing top 10 rows\n",
      "\n"
     ]
    }
   ],
   "source": [
    "from pyspark.sql.functions import stddev\n",
    "\n",
    "avg = df_receipt.where(~col(\"customer_id\").rlike(\"^Z\"))\\\n",
    "    .select(\n",
    "    \"customer_id\",\n",
    "    \"amount\"\n",
    "    ).groupby(\"customer_id\")\\\n",
    "    .sum()\\\n",
    "    .groupby()\\\n",
    "    .avg()\\\n",
    "    .first()[0]\n",
    "\n",
    "std = df_receipt.where(~col(\"customer_id\").rlike(\"^Z\"))\\\n",
    "    .select(\n",
    "    \"customer_id\",\n",
    "    \"amount\"\n",
    "    ).groupby(\"customer_id\")\\\n",
    "    .sum()\\\n",
    "    .groupby()\\\n",
    "    .agg(stddev(\"sum(amount)\"))\\\n",
    "    .first()[0]\n",
    "\n",
    "df_receipt.where(~col(\"customer_id\").rlike(\"^Z\"))\\\n",
    "    .select(\n",
    "    \"customer_id\",\n",
    "    \"amount\"\n",
    "    ).groupby(\"customer_id\")\\\n",
    "    .sum()\\\n",
    "    .withColumn(\"sum(amount)_scaled\",(col(\"sum(amount)\")-avg)/std)\\\n",
    "    .show(10)"
   ]
  },
  {
   "cell_type": "markdown",
   "metadata": {},
   "source": [
    "---\n",
    "> P-060: レシート明細データフレーム（df_receipt）の売上金額（amount）を顧客ID（customer_id）ごとに合計し、合計した売上金額を最小値0、最大値1に正規化して顧客ID、売上金額合計とともに表示せよ。ただし、顧客IDが\"Z\"から始まるのものは非会員を表すため、除外して計算すること。結果は10件表示させれば良い。"
   ]
  },
  {
   "cell_type": "code",
   "execution_count": 63,
   "metadata": {},
   "outputs": [
    {
     "name": "stdout",
     "output_type": "stream",
     "text": [
      "+--------------+-----------+--------------------+\n",
      "|   customer_id|sum(amount)|  sum(amount)_scaled|\n",
      "+--------------+-----------+--------------------+\n",
      "|CS024415000195|       4638| 0.19847062912756344|\n",
      "|CS011515000044|       2533| 0.10701251303441084|\n",
      "|CS017415000245|       1289|0.052963156065345844|\n",
      "|CS011512000113|        686|  0.0267639902676399|\n",
      "|CS025414000093|       3929|  0.1676659714980883|\n",
      "|CS010605000007|       6420|  0.2758950295446646|\n",
      "|CS011415000097|       3462| 0.14737573861661452|\n",
      "|CS018515000090|       3756| 0.16014946124435175|\n",
      "|CS015415000222|      11472|  0.4953945081682308|\n",
      "|CS038605000003|       2833| 0.12004692387904067|\n",
      "+--------------+-----------+--------------------+\n",
      "only showing top 10 rows\n",
      "\n"
     ]
    }
   ],
   "source": [
    "max_amount = df_receipt.where(~col(\"customer_id\").rlike(\"^Z\"))\\\n",
    "    .select(\n",
    "    \"customer_id\",\n",
    "    \"amount\"\n",
    "    ).groupby(\"customer_id\")\\\n",
    "    .sum()\\\n",
    "    .groupby()\\\n",
    "    .max()\\\n",
    "    .first()[0]\n",
    "\n",
    "min_amount = df_receipt.where(~col(\"customer_id\").rlike(\"^Z\"))\\\n",
    "    .select(\n",
    "    \"customer_id\",\n",
    "    \"amount\"\n",
    "    ).groupby(\"customer_id\")\\\n",
    "    .sum()\\\n",
    "    .groupby()\\\n",
    "    .min()\\\n",
    "    .first()[0]\n",
    "\n",
    "df_receipt.where(~col(\"customer_id\").rlike(\"^Z\"))\\\n",
    "    .select(\n",
    "    \"customer_id\",\n",
    "    \"amount\"\n",
    "    ).groupby(\"customer_id\")\\\n",
    "    .sum()\\\n",
    "    .withColumn(\"sum(amount)_scaled\",(col(\"sum(amount)\")-min_amount)/(max_amount-min_amount))\\\n",
    "    .show(10)"
   ]
  },
  {
   "cell_type": "markdown",
   "metadata": {},
   "source": [
    "---\n",
    "> P-061: レシート明細データフレーム（df_receipt）の売上金額（amount）を顧客ID（customer_id）ごとに合計し、合計した売上金額を常用対数化（底=10）して顧客ID、売上金額合計とともに表示せよ。ただし、顧客IDが\"Z\"から始まるのものは非会員を表すため、除外して計算すること。結果は10件表示させれば良い。"
   ]
  },
  {
   "cell_type": "code",
   "execution_count": 64,
   "metadata": {},
   "outputs": [
    {
     "name": "stdout",
     "output_type": "stream",
     "text": [
      "+--------------+-----------+------------------+\n",
      "|   customer_id|sum(amount)| sum(amount)_log10|\n",
      "+--------------+-----------+------------------+\n",
      "|CS024415000195|       4638|3.6663307443019684|\n",
      "|CS011515000044|       2533| 3.403635189790548|\n",
      "|CS017415000245|       1289| 3.110252917353403|\n",
      "|CS011512000113|        686|2.8363241157067516|\n",
      "|CS025414000093|       3929| 3.594282028811806|\n",
      "|CS010605000007|       6420| 3.807535028068853|\n",
      "|CS011415000097|       3462| 3.539327063539375|\n",
      "|CS018515000090|       3756|3.5747255835940734|\n",
      "|CS015415000222|      11472| 4.059639138323725|\n",
      "|CS038605000003|       2833| 3.452246574520437|\n",
      "+--------------+-----------+------------------+\n",
      "only showing top 10 rows\n",
      "\n"
     ]
    }
   ],
   "source": [
    "from pyspark.sql.functions import log10\n",
    "\n",
    "df_receipt.where(~col(\"customer_id\").rlike(\"^Z\"))\\\n",
    "    .select(\n",
    "    \"customer_id\",\n",
    "    \"amount\"\n",
    "    ).groupby(\"customer_id\")\\\n",
    "    .sum()\\\n",
    "    .withColumn(\"sum(amount)_log10\",log10(col(\"sum(amount)\")))\\\n",
    "    .show(10)"
   ]
  },
  {
   "cell_type": "markdown",
   "metadata": {},
   "source": [
    "---\n",
    "> P-062: レシート明細データフレーム（df_receipt）の売上金額（amount）を顧客ID（customer_id）ごとに合計し、合計した売上金額を自然対数化(底=e）して顧客ID、売上金額合計とともに表示せよ。ただし、顧客IDが\"Z\"から始まるのものは非会員を表すため、除外して計算すること。結果は10件表示させれば良い。"
   ]
  },
  {
   "cell_type": "code",
   "execution_count": 65,
   "metadata": {},
   "outputs": [
    {
     "name": "stdout",
     "output_type": "stream",
     "text": [
      "+--------------+-----------+-----------------+\n",
      "|   customer_id|sum(amount)|  sum(amount)_log|\n",
      "+--------------+-----------+-----------------+\n",
      "|CS024415000195|       4638|8.442038517815478|\n",
      "|CS011515000044|       2533|7.837159650001675|\n",
      "|CS017415000245|       1289|7.161622002939187|\n",
      "|CS011512000113|        686|6.530877627725885|\n",
      "|CS025414000093|       3929| 8.27614021955846|\n",
      "|CS010605000007|       6420|8.767173396684006|\n",
      "|CS011415000097|       3462|8.149601735736155|\n",
      "|CS018515000090|       3756|8.231109840328154|\n",
      "|CS015415000222|      11472|9.347664562839402|\n",
      "|CS038605000003|       2833|7.949091499830517|\n",
      "+--------------+-----------+-----------------+\n",
      "only showing top 10 rows\n",
      "\n"
     ]
    }
   ],
   "source": [
    "from pyspark.sql.functions import log\n",
    "\n",
    "df_receipt.where(~col(\"customer_id\").rlike(\"^Z\"))\\\n",
    "    .select(\n",
    "    \"customer_id\",\n",
    "    \"amount\"\n",
    "    ).groupby(\"customer_id\")\\\n",
    "    .sum()\\\n",
    "    .withColumn(\"sum(amount)_log\",log(col(\"sum(amount)\")))\\\n",
    "    .show(10)"
   ]
  },
  {
   "cell_type": "markdown",
   "metadata": {},
   "source": [
    "---\n",
    "> P-063: 商品データフレーム（df_product）の単価（unit_price）と原価（unit_cost）から、各商品の利益額を算出せよ。結果は10件表示させれば良い。"
   ]
  },
  {
   "cell_type": "code",
   "execution_count": 66,
   "metadata": {},
   "outputs": [
    {
     "name": "stdout",
     "output_type": "stream",
     "text": [
      "+----------+----------+---------+------+\n",
      "|product_cd|unit_price|unit_cost|profit|\n",
      "+----------+----------+---------+------+\n",
      "|P040101001|       198|      149|    49|\n",
      "|P040101002|       218|      164|    54|\n",
      "|P040101003|       230|      173|    57|\n",
      "|P040101004|       248|      186|    62|\n",
      "|P040101005|       268|      201|    67|\n",
      "|P040101006|       298|      224|    74|\n",
      "|P040101007|       338|      254|    84|\n",
      "|P040101008|       420|      315|   105|\n",
      "|P040101009|       498|      374|   124|\n",
      "|P040101010|       580|      435|   145|\n",
      "+----------+----------+---------+------+\n",
      "only showing top 10 rows\n",
      "\n"
     ]
    }
   ],
   "source": [
    "df_product.select(\n",
    "    \"product_cd\",\n",
    "    \"unit_price\",\n",
    "    \"unit_cost\",\n",
    "    (col(\"unit_price\")-col(\"unit_cost\")).alias(\"profit\")\n",
    "    ).show(10)"
   ]
  },
  {
   "cell_type": "markdown",
   "metadata": {},
   "source": [
    "---\n",
    "> P-064: 商品データフレーム（df_product）の単価（unit_price）と原価（unit_cost）から、各商品の利益率の全体平均を算出せよ。\n",
    "ただし、単価と原価にはNULLが存在することに注意せよ。"
   ]
  },
  {
   "cell_type": "code",
   "execution_count": 67,
   "metadata": {},
   "outputs": [
    {
     "name": "stdout",
     "output_type": "stream",
     "text": [
      "+------------------+-----------------+-------------------+\n",
      "|   avg(unit_price)|   avg(unit_cost)|   avg(profit_rate)|\n",
      "+------------------+-----------------+-------------------+\n",
      "|402.57557617479796|302.1894642322658|0.24911389885176904|\n",
      "+------------------+-----------------+-------------------+\n",
      "\n"
     ]
    }
   ],
   "source": [
    "df_product.select(\n",
    "    \"product_cd\",\n",
    "    \"unit_price\",\n",
    "    \"unit_cost\"\n",
    "    ).na.drop(\"any\", subset=[\"unit_price\",\"unit_cost\"])\\\n",
    "    .withColumn(\"profit_rate\", (col(\"unit_price\")-col(\"unit_cost\"))/col(\"unit_price\"))\\\n",
    "    .groupby()\\\n",
    "    .avg()\\\n",
    "    .show()"
   ]
  },
  {
   "cell_type": "markdown",
   "metadata": {},
   "source": [
    "---\n",
    "> P-065: 商品データフレーム（df_product）の各商品について、利益率が30%となる新たな単価を求めよ。ただし、1円未満は切り捨てること。そして結果を10件表示させ、利益率がおよそ30％付近であることを確認せよ。ただし、単価（unit_price）と原価（unit_cost）にはNULLが存在することに注意せよ。"
   ]
  },
  {
   "cell_type": "code",
   "execution_count": 68,
   "metadata": {},
   "outputs": [
    {
     "name": "stdout",
     "output_type": "stream",
     "text": [
      "+----------+----------+---------+-----------+\n",
      "|product_cd|unit_price|unit_cost|valid_price|\n",
      "+----------+----------+---------+-----------+\n",
      "|P040101001|       198|      149|        212|\n",
      "|P040101002|       218|      164|        234|\n",
      "|P040101003|       230|      173|        247|\n",
      "|P040101004|       248|      186|        265|\n",
      "|P040101005|       268|      201|        287|\n",
      "|P040101006|       298|      224|        320|\n",
      "|P040101007|       338|      254|        362|\n",
      "|P040101008|       420|      315|        450|\n",
      "|P040101009|       498|      374|        534|\n",
      "|P040101010|       580|      435|        621|\n",
      "+----------+----------+---------+-----------+\n",
      "only showing top 10 rows\n",
      "\n"
     ]
    }
   ],
   "source": [
    "import numpy as np\n",
    "\n",
    "def my_floor(x):\n",
    "    return int(np.floor(x)) #udfでnumpy型の返り値はサポートされていない\n",
    "\n",
    "floor_udf = udf(my_floor)\n",
    "df_product.select(\n",
    "    \"product_cd\",\n",
    "    \"unit_price\",\n",
    "    \"unit_cost\",\n",
    "    floor_udf(col(\"unit_cost\")/0.7).alias(\"valid_price\")\n",
    ").show(10)"
   ]
  },
  {
   "cell_type": "markdown",
   "metadata": {},
   "source": [
    "---\n",
    "> P-066: 商品データフレーム（df_product）の各商品について、利益率が30%となる新たな単価を求めよ。今回は、1円未満を四捨五入すること（0.5については偶数方向の丸めで良い）。そして結果を10件表示させ、利益率がおよそ30％付近であることを確認せよ。ただし、単価（unit_price）と原価（unit_cost）にはNULLが存在することに注意せよ。"
   ]
  },
  {
   "cell_type": "code",
   "execution_count": 69,
   "metadata": {},
   "outputs": [
    {
     "name": "stdout",
     "output_type": "stream",
     "text": [
      "+----------+----------+---------+-----------+\n",
      "|product_cd|unit_price|unit_cost|valid_price|\n",
      "+----------+----------+---------+-----------+\n",
      "|P040101001|       198|      149|        213|\n",
      "|P040101002|       218|      164|        234|\n",
      "|P040101003|       230|      173|        247|\n",
      "|P040101004|       248|      186|        266|\n",
      "|P040101005|       268|      201|        287|\n",
      "|P040101006|       298|      224|        320|\n",
      "|P040101007|       338|      254|        363|\n",
      "|P040101008|       420|      315|        450|\n",
      "|P040101009|       498|      374|        534|\n",
      "|P040101010|       580|      435|        621|\n",
      "+----------+----------+---------+-----------+\n",
      "only showing top 10 rows\n",
      "\n"
     ]
    }
   ],
   "source": [
    "def my_round(x):\n",
    "    return int(np.round(x))\n",
    "\n",
    "round_udf = udf(my_round)\n",
    "df_product.select(\n",
    "    \"product_cd\",\n",
    "    \"unit_price\",\n",
    "    \"unit_cost\",\n",
    "    round_udf(col(\"unit_cost\")/0.7).alias(\"valid_price\")\n",
    ").show(10)"
   ]
  },
  {
   "cell_type": "markdown",
   "metadata": {},
   "source": [
    "---\n",
    "> P-067: 商品データフレーム（df_product）の各商品について、利益率が30%となる新たな単価を求めよ。今回は、1円未満を切り上げること。そして結果を10件表示させ、利益率がおよそ30％付近であることを確認せよ。ただし、単価（unit_price）と原価（unit_cost）にはNULLが存在することに注意せよ。"
   ]
  },
  {
   "cell_type": "code",
   "execution_count": 70,
   "metadata": {},
   "outputs": [
    {
     "name": "stdout",
     "output_type": "stream",
     "text": [
      "+----------+----------+---------+-----------+\n",
      "|product_cd|unit_price|unit_cost|valid_price|\n",
      "+----------+----------+---------+-----------+\n",
      "|P040101001|       198|      149|        213|\n",
      "|P040101002|       218|      164|        235|\n",
      "|P040101003|       230|      173|        248|\n",
      "|P040101004|       248|      186|        266|\n",
      "|P040101005|       268|      201|        288|\n",
      "|P040101006|       298|      224|        320|\n",
      "|P040101007|       338|      254|        363|\n",
      "|P040101008|       420|      315|        451|\n",
      "|P040101009|       498|      374|        535|\n",
      "|P040101010|       580|      435|        622|\n",
      "+----------+----------+---------+-----------+\n",
      "only showing top 10 rows\n",
      "\n"
     ]
    }
   ],
   "source": [
    "def my_ceil(x):\n",
    "    return int(np.ceil(x))\n",
    "\n",
    "ceil_udf = udf(my_ceil)\n",
    "df_product.select(\n",
    "    \"product_cd\",\n",
    "    \"unit_price\",\n",
    "    \"unit_cost\",\n",
    "    ceil_udf(col(\"unit_cost\")/0.7).alias(\"valid_price\")\n",
    ").show(10)"
   ]
  },
  {
   "cell_type": "markdown",
   "metadata": {},
   "source": [
    "---\n",
    "> P-068: 商品データフレーム（df_product）の各商品について、消費税率10%の税込み金額を求めよ。 1円未満の端数は切り捨てとし、結果は10件表示すれば良い。ただし、単価（unit_price）にはNULLが存在することに注意せよ。"
   ]
  },
  {
   "cell_type": "code",
   "execution_count": 71,
   "metadata": {},
   "outputs": [
    {
     "name": "stdout",
     "output_type": "stream",
     "text": [
      "+----------+----------+---------+-------------+\n",
      "|product_cd|unit_price|unit_cost|price_add_tax|\n",
      "+----------+----------+---------+-------------+\n",
      "|P040101001|       198|      149|          163|\n",
      "|P040101002|       218|      164|          180|\n",
      "|P040101003|       230|      173|          190|\n",
      "|P040101004|       248|      186|          204|\n",
      "|P040101005|       268|      201|          221|\n",
      "|P040101006|       298|      224|          246|\n",
      "|P040101007|       338|      254|          279|\n",
      "|P040101008|       420|      315|          346|\n",
      "|P040101009|       498|      374|          411|\n",
      "|P040101010|       580|      435|          478|\n",
      "+----------+----------+---------+-------------+\n",
      "only showing top 10 rows\n",
      "\n"
     ]
    }
   ],
   "source": [
    "def my_floor(x):\n",
    "    return int(np.floor(x))\n",
    "\n",
    "floor_udf = udf(my_floor)\n",
    "df_product.select(\n",
    "    \"product_cd\",\n",
    "    \"unit_price\",\n",
    "    \"unit_cost\",\n",
    "    floor_udf(col(\"unit_cost\")*1.1).alias(\"price_add_tax\")\n",
    ").show(10)"
   ]
  },
  {
   "cell_type": "markdown",
   "metadata": {},
   "source": [
    "---\n",
    "> P-069: レシート明細データフレーム（df_receipt）と商品データフレーム（df_product）を結合し、顧客毎に全商品の売上金額合計と、カテゴリ大区分（category_major_cd）が\"07\"（瓶詰缶詰）の売上金額合計を計算の上、両者の比率を求めよ。抽出対象はカテゴリ大区分\"07\"（瓶詰缶詰）の購入実績がある顧客のみとし、結果は10件表示させればよい。"
   ]
  },
  {
   "cell_type": "code",
   "execution_count": 72,
   "metadata": {},
   "outputs": [
    {
     "name": "stdout",
     "output_type": "stream",
     "text": [
      "+--------------+----------+---------+-------------------+\n",
      "|   customer_id|amount_all|amount_07|           ratio_07|\n",
      "+--------------+----------+---------+-------------------+\n",
      "|CS001415000301|       188|      188|                1.0|\n",
      "|CS002411000018|      1054|      326| 0.3092979127134725|\n",
      "|CS010605000007|      6420|     3946| 0.6146417445482866|\n",
      "|CS011415000097|      3462|     1436|  0.414789139225881|\n",
      "|CS011515000044|      2533|     1064|0.42005527043031976|\n",
      "|CS015415000222|     11472|     9314| 0.8118898186889819|\n",
      "|CS017415000245|      1289|      607| 0.4709076803723817|\n",
      "|CS017514000012|      4699|      196| 0.0417110023409236|\n",
      "|CS017514000103|       348|       50|0.14367816091954022|\n",
      "|CS018515000090|      3756|     1594|0.42438764643237487|\n",
      "+--------------+----------+---------+-------------------+\n",
      "only showing top 10 rows\n",
      "\n"
     ]
    }
   ],
   "source": [
    "df_all = df_receipt.join(df_product, \"product_cd\", \"inner\")\\\n",
    "    .groupby(\"customer_id\")\\\n",
    "    .sum()\\\n",
    "    .select(\n",
    "        \"customer_id\",\n",
    "        col(\"sum(amount)\").alias(\"amount_all\")\n",
    "    )\n",
    "\n",
    "df_07 = df_receipt.join(df_product.where(\"category_major_cd == '07'\"), \"product_cd\", \"inner\")\\\n",
    "    .groupby(\"customer_id\")\\\n",
    "    .sum()\\\n",
    "    .select(\n",
    "        \"customer_id\",\n",
    "        col(\"sum(amount)\").alias(\"amount_07\")\n",
    "    )\n",
    "\n",
    "df_all.join(df_07, \"customer_id\", \"inner\")\\\n",
    "    .withColumn(\"ratio_07\", col(\"amount_07\")/col(\"amount_all\"))\\\n",
    "    .show(10)"
   ]
  },
  {
   "cell_type": "markdown",
   "metadata": {},
   "source": [
    "---\n",
    "> P-070: レシート明細データフレーム（df_receipt）の売上日（sales_ymd）に対し、顧客データフレーム（df_customer）の会員申込日（application_date）からの経過日数を計算し、顧客ID（customer_id）、売上日、会員申込日とともに表示せよ。結果は10件表示させれば良い。"
   ]
  },
  {
   "cell_type": "code",
   "execution_count": 73,
   "metadata": {},
   "outputs": [
    {
     "name": "stdout",
     "output_type": "stream",
     "text": [
      "+--------------+----------+----------------+------------+\n",
      "|   customer_id| sales_ymd|application_date|elapsed_date|\n",
      "+--------------+----------+----------------+------------+\n",
      "|CS019514000062|2018-12-30|      2015-02-18|        1411|\n",
      "|CS035515000170|2019-05-09|      2015-04-01|        1499|\n",
      "|CS034412000216|2018-06-21|      2016-05-16|         766|\n",
      "|CS024314000023|2019-09-17|      2015-05-20|        1581|\n",
      "|CS032515000080|2018-11-15|      2015-09-26|        1146|\n",
      "|CS026314000055|2017-02-22|      2015-10-11|         500|\n",
      "|CS015414000100|2017-06-06|      2015-05-06|         762|\n",
      "|CS008415000059|2017-10-12|      2015-10-01|         742|\n",
      "|CS034513000219|2019-01-11|      2015-05-20|        1332|\n",
      "|CS024414000101|2019-01-14|      2015-09-07|        1225|\n",
      "+--------------+----------+----------------+------------+\n",
      "only showing top 10 rows\n",
      "\n"
     ]
    }
   ],
   "source": [
    "from pyspark.sql.functions import datediff\n",
    "df_receipt.join(df_customer, \"customer_id\", \"inner\")\\\n",
    "    .select(\"customer_id\",\"sales_ymd\",\"application_date\")\\\n",
    "    .distinct()\\\n",
    "    .select(\n",
    "        \"customer_id\",\n",
    "        to_date(col(\"sales_ymd\").cast(StringType()),\"yyyyMMdd\").alias(\"sales_ymd\"),\n",
    "        to_date(col(\"application_date\").cast(StringType()), \"yyyyMMdd\").alias(\"application_date\")\n",
    "    ).withColumn(\"elapsed_date\",datediff(col(\"sales_ymd\"),col(\"application_date\")))\\\n",
    "    .show(10)"
   ]
  },
  {
   "cell_type": "markdown",
   "metadata": {},
   "source": [
    "---\n",
    "> P-071: レシート明細データフレーム（df_receipt）の売上日（sales_ymd）に対し、顧客データフレーム（df_customer）の会員申込日（application_date）からの経過月数を計算し、顧客ID（customer_id）、売上日、会員申込日とともに表示せよ。結果は10件表示させれば良い。1ヶ月未満は切り捨てること。"
   ]
  },
  {
   "cell_type": "code",
   "execution_count": 74,
   "metadata": {},
   "outputs": [
    {
     "name": "stdout",
     "output_type": "stream",
     "text": [
      "+--------------+----------+----------------+-------------+\n",
      "|   customer_id| sales_ymd|application_date|elapsed_month|\n",
      "+--------------+----------+----------------+-------------+\n",
      "|CS019514000062|2018-12-30|      2015-02-18|           46|\n",
      "|CS035515000170|2019-05-09|      2015-04-01|           49|\n",
      "|CS034412000216|2018-06-21|      2016-05-16|           25|\n",
      "|CS024314000023|2019-09-17|      2015-05-20|           51|\n",
      "|CS032515000080|2018-11-15|      2015-09-26|           37|\n",
      "|CS026314000055|2017-02-22|      2015-10-11|           16|\n",
      "|CS015414000100|2017-06-06|      2015-05-06|           25|\n",
      "|CS008415000059|2017-10-12|      2015-10-01|           24|\n",
      "|CS034513000219|2019-01-11|      2015-05-20|           43|\n",
      "|CS024414000101|2019-01-14|      2015-09-07|           40|\n",
      "+--------------+----------+----------------+-------------+\n",
      "only showing top 10 rows\n",
      "\n"
     ]
    }
   ],
   "source": [
    "from pyspark.sql.functions import months_between\n",
    "from pyspark.sql.types import IntegerType\n",
    "\n",
    "df_receipt.join(df_customer, \"customer_id\", \"inner\")\\\n",
    "    .select(\"customer_id\",\"sales_ymd\",\"application_date\")\\\n",
    "    .distinct()\\\n",
    "    .select(\n",
    "        \"customer_id\",\n",
    "        to_date(col(\"sales_ymd\").cast(StringType()),\"yyyyMMdd\").alias(\"sales_ymd\"),\n",
    "        to_date(col(\"application_date\").cast(StringType()), \"yyyyMMdd\").alias(\"application_date\")\n",
    "    ).withColumn(\"elapsed_month\", months_between(col(\"sales_ymd\"),col(\"application_date\")).cast(IntegerType()))\\\n",
    "    .show(10)"
   ]
  },
  {
   "cell_type": "markdown",
   "metadata": {},
   "source": [
    "---\n",
    "> P-072: レシート明細データフレーム（df_receipt）の売上日（sales_ymd）に対し、顧客データフレーム（df_customer）の会員申込日（application_date）からの経過年数を計算し、顧客ID（customer_id）、売上日、会員申込日とともに表示せよ。結果は10件表示させれば良い。1年未満は切り捨てること。"
   ]
  },
  {
   "cell_type": "code",
   "execution_count": 75,
   "metadata": {},
   "outputs": [
    {
     "name": "stdout",
     "output_type": "stream",
     "text": [
      "+--------------+----------+----------------+------------+\n",
      "|   customer_id| sales_ymd|application_date|elapsed_year|\n",
      "+--------------+----------+----------------+------------+\n",
      "|CS019514000062|2018-12-30|      2015-02-18|           3|\n",
      "|CS035515000170|2019-05-09|      2015-04-01|           4|\n",
      "|CS034412000216|2018-06-21|      2016-05-16|           2|\n",
      "|CS024314000023|2019-09-17|      2015-05-20|           4|\n",
      "|CS032515000080|2018-11-15|      2015-09-26|           3|\n",
      "|CS026314000055|2017-02-22|      2015-10-11|           1|\n",
      "|CS015414000100|2017-06-06|      2015-05-06|           2|\n",
      "|CS008415000059|2017-10-12|      2015-10-01|           2|\n",
      "|CS034513000219|2019-01-11|      2015-05-20|           3|\n",
      "|CS024414000101|2019-01-14|      2015-09-07|           3|\n",
      "+--------------+----------+----------------+------------+\n",
      "only showing top 10 rows\n",
      "\n"
     ]
    }
   ],
   "source": [
    "from dateutil.relativedelta import relativedelta\n",
    "\n",
    "def diff_year(x,y):\n",
    "    return relativedelta(x,y).years\n",
    "diff_year_udf = udf(diff_year)\n",
    "\n",
    "df_receipt.join(df_customer, \"customer_id\", \"inner\")\\\n",
    "    .select(\"customer_id\",\"sales_ymd\",\"application_date\")\\\n",
    "    .distinct()\\\n",
    "    .select(\n",
    "        \"customer_id\",\n",
    "        to_date(col(\"sales_ymd\").cast(StringType()),\"yyyyMMdd\").alias(\"sales_ymd\"),\n",
    "        to_date(col(\"application_date\").cast(StringType()), \"yyyyMMdd\").alias(\"application_date\")\n",
    "    ).withColumn(\"elapsed_year\", diff_year_udf(col(\"sales_ymd\"),col(\"application_date\")))\\\n",
    "    .show(10)"
   ]
  },
  {
   "cell_type": "markdown",
   "metadata": {},
   "source": [
    "---\n",
    "> P-073: レシート明細データフレーム（df_receipt）の売上日（sales_ymd）に対し、顧客データフレーム（df_customer）の会員申込日（application_date）からのエポック秒による経過時間を計算し、顧客ID（customer_id）、売上日、会員申込日とともに表示せよ。結果は10件表示させれば良い（なお、sales_ymdは数値、application_dateは文字列でデータを保持している点に注意）。なお、時間情報は保有していないため各日付は0時0分0秒を表すものとする。"
   ]
  },
  {
   "cell_type": "code",
   "execution_count": 76,
   "metadata": {},
   "outputs": [
    {
     "name": "stdout",
     "output_type": "stream",
     "text": [
      "+--------------+----------+----------------+---------------+\n",
      "|   customer_id| sales_ymd|application_date|elapsed_seconds|\n",
      "+--------------+----------+----------------+---------------+\n",
      "|CS019514000062|2018-12-30|      2015-02-18|      121910400|\n",
      "|CS035515000170|2019-05-09|      2015-04-01|      129513600|\n",
      "|CS034412000216|2018-06-21|      2016-05-16|       66182400|\n",
      "|CS024314000023|2019-09-17|      2015-05-20|      136598400|\n",
      "|CS032515000080|2018-11-15|      2015-09-26|       99014400|\n",
      "|CS026314000055|2017-02-22|      2015-10-11|       43200000|\n",
      "|CS015414000100|2017-06-06|      2015-05-06|       65836800|\n",
      "|CS008415000059|2017-10-12|      2015-10-01|       64108800|\n",
      "|CS034513000219|2019-01-11|      2015-05-20|      115084800|\n",
      "|CS024414000101|2019-01-14|      2015-09-07|      105840000|\n",
      "+--------------+----------+----------------+---------------+\n",
      "only showing top 10 rows\n",
      "\n"
     ]
    }
   ],
   "source": [
    "from pyspark.sql.functions import unix_timestamp\n",
    "\n",
    "df_receipt.join(df_customer, \"customer_id\", \"inner\")\\\n",
    "    .select(\"customer_id\",\"sales_ymd\",\"application_date\")\\\n",
    "    .distinct()\\\n",
    "    .select(\n",
    "        \"customer_id\",\n",
    "        to_date(col(\"sales_ymd\").cast(StringType()),\"yyyyMMdd\").alias(\"sales_ymd\"),\n",
    "        to_date(col(\"application_date\").cast(StringType()), \"yyyyMMdd\").alias(\"application_date\")\n",
    "    ).withColumn(\"elapsed_seconds\", unix_timestamp(\"sales_ymd\") - unix_timestamp(\"application_date\"))\\\n",
    "    .show(10)"
   ]
  },
  {
   "cell_type": "markdown",
   "metadata": {},
   "source": [
    "---\n",
    "> P-074: レシート明細データフレーム（df_receipt）の売上日（sales_ymd）に対し、当該週の月曜日からの経過日数を計算し、売上日、当該週の月曜日付とともに表示せよ。結果は10件表示させれば良い（なお、sales_ymdは数値でデータを保持している点に注意）。"
   ]
  },
  {
   "cell_type": "code",
   "execution_count": 77,
   "metadata": {},
   "outputs": [
    {
     "name": "stdout",
     "output_type": "stream",
     "text": [
      "+--------------+----------+----------+---------+\n",
      "|   customer_id| sales_ymd|    monday|dayofweek|\n",
      "+--------------+----------+----------+---------+\n",
      "|CS019514000062|2018-12-30|2018-12-24|        6|\n",
      "|CS035515000170|2019-05-09|2019-05-06|        3|\n",
      "|CS034412000216|2018-06-21|2018-06-18|        3|\n",
      "|CS024314000023|2019-09-17|2019-09-16|        1|\n",
      "|CS032515000080|2018-11-15|2018-11-12|        3|\n",
      "|CS026314000055|2017-02-22|2017-02-20|        2|\n",
      "|CS015414000100|2017-06-06|2017-06-05|        1|\n",
      "|CS008415000059|2017-10-12|2017-10-09|        3|\n",
      "|CS034513000219|2019-01-11|2019-01-07|        4|\n",
      "|CS024414000101|2019-01-14|2019-01-14|        0|\n",
      "+--------------+----------+----------+---------+\n",
      "only showing top 10 rows\n",
      "\n"
     ]
    }
   ],
   "source": [
    "from pyspark.sql.functions import dayofweek, next_day, date_sub\n",
    "\n",
    "df_receipt.join(df_customer, \"customer_id\", \"inner\")\\\n",
    "    .select(\"customer_id\",\"sales_ymd\",\"application_date\")\\\n",
    "    .distinct()\\\n",
    "    .select(\n",
    "        \"customer_id\",\n",
    "        to_date(col(\"sales_ymd\").cast(StringType()),\"yyyyMMdd\").alias(\"sales_ymd\"),\n",
    "    ).withColumn(\"monday\", date_sub(next_day(col(\"sales_ymd\"),\"Mon\"), 7))\\\n",
    "    .withColumn(\"dayofweek\", (dayofweek(\"sales_ymd\")+5)%7)\\\n",
    "    .show(10)"
   ]
  },
  {
   "cell_type": "markdown",
   "metadata": {},
   "source": [
    "---\n",
    "> P-075: 顧客データフレーム（df_customer）からランダムに1%のデータを抽出し、先頭から10件データを抽出せよ。"
   ]
  },
  {
   "cell_type": "code",
   "execution_count": 78,
   "metadata": {},
   "outputs": [
    {
     "name": "stdout",
     "output_type": "stream",
     "text": [
      "+--------------+-------------+---------+------+----------+---+---------+---------------------------------+--------------------+----------------+------------+\n",
      "|   customer_id|customer_name|gender_cd|gender| birth_day|age|postal_cd|                          address|application_store_cd|application_date|   status_cd|\n",
      "+--------------+-------------+---------+------+----------+---+---------+---------------------------------+--------------------+----------------+------------+\n",
      "|CS022513000105|  島村 貴美子|        1|  女性|1962-03-12| 57| 249-0002|   神奈川県逗子市山の根**********|              S14022|        20150320|A-20091115-7|\n",
      "|CS028415000057|      山内 瞬|        1|  女性|1975-08-26| 43| 246-0035|神奈川県横浜市瀬谷区下瀬谷****...|              S14028|        20150518|F-20100908-F|\n",
      "|CS004215000068|  田辺 みゆき|        1|  女性|1992-07-29| 26| 167-0022|     東京都杉並区下井草**********|              S13004|        20160502|1-20080723-1|\n",
      "|CS015415000209|    大谷 倫子|        1|  女性|1970-11-25| 48| 136-0076|       東京都江東区南砂**********|              S13015|        20150909|B-20090610-C|\n",
      "|CS015415000209|    大谷 倫子|        1|  女性|1970-11-25| 48| 136-0076|       東京都江東区南砂**********|              S13015|        20150909|B-20090610-C|\n",
      "|CS001215000097|  竹中 あさみ|        1|  女性|1990-07-25| 28| 146-0095|     東京都大田区多摩川**********|              S13001|        20170315|A-20100211-2|\n",
      "|CS035615000057|  福士 さやか|        1|  女性|1953-12-14| 65| 158-0095|     東京都世田谷区瀬田**********|              S13035|        20150505|0-00000000-0|\n",
      "|CS018413000124|      宇野 優|        1|  女性|1970-06-20| 48| 203-0041|  東京都東久留米市野火止******...|              S13018|        20150619|0-00000000-0|\n",
      "|CS020714000010|    吉村 美紀|        1|  女性|1945-01-25| 74| 174-0053|     東京都板橋区清水町**********|              S13020|        20150906|0-00000000-0|\n",
      "|CS001312000394|  志水 友以乃|        1|  女性|1980-10-19| 38| 212-0004|神奈川県川崎市幸区小向西町****...|              S13001|        20170309|0-00000000-0|\n",
      "+--------------+-------------+---------+------+----------+---+---------+---------------------------------+--------------------+----------------+------------+\n",
      "only showing top 10 rows\n",
      "\n"
     ]
    }
   ],
   "source": [
    "df_customer.sample(True, 0.01).show(10)"
   ]
  },
  {
   "cell_type": "code",
   "execution_count": 79,
   "metadata": {},
   "outputs": [
    {
     "name": "stdout",
     "output_type": "stream",
     "text": [
      "21971\n",
      "242\n"
     ]
    }
   ],
   "source": [
    "print(df_customer.count())\n",
    "print(df_customer.sample(False, 0.01).count())"
   ]
  },
  {
   "cell_type": "markdown",
   "metadata": {},
   "source": [
    "---\n",
    "> P-076: 顧客データフレーム（df_customer）から性別（gender_cd）の割合に基づきランダムに10%のデータを層化抽出データし、性別ごとに件数を集計せよ。"
   ]
  },
  {
   "cell_type": "code",
   "execution_count": 80,
   "metadata": {},
   "outputs": [
    {
     "name": "stdout",
     "output_type": "stream",
     "text": [
      "+---------+-----+-------------------+\n",
      "|gender_cd|count|              rario|\n",
      "+---------+-----+-------------------+\n",
      "|        1|17918| 0.8155295616949615|\n",
      "|        9| 1072|0.04879158891265759|\n",
      "|        0| 2981|0.13567884939238087|\n",
      "+---------+-----+-------------------+\n",
      "\n"
     ]
    }
   ],
   "source": [
    "df_customer.groupby(\"gender_cd\")\\\n",
    "    .count()\\\n",
    "    .withColumn(\"rario\", col(\"count\")/df_customer.count())\\\n",
    "    .show()"
   ]
  },
  {
   "cell_type": "code",
   "execution_count": 270,
   "metadata": {
    "scrolled": false
   },
   "outputs": [
    {
     "name": "stdout",
     "output_type": "stream",
     "text": [
      "+---------+-----+\n",
      "|gender_cd|count|\n",
      "+---------+-----+\n",
      "|        1| 1828|\n",
      "|        9|   93|\n",
      "|        0|  319|\n",
      "+---------+-----+\n",
      "\n"
     ]
    }
   ],
   "source": [
    "columns = df_customer.columns\n",
    "fraction = {1:0.1, 9:0.1, 0:0.1}\n",
    "\n",
    "sample = df_customer.sampleBy(\"gender_cd\",fraction)\n",
    "    \n",
    "sample.groupby(\"gender_cd\")\\\n",
    "    .count()\\\n",
    "    .show()"
   ]
  },
  {
   "cell_type": "markdown",
   "metadata": {},
   "source": [
    "---\n",
    "> P-077: レシート明細データフレーム（df_receipt）の売上金額（amount）を顧客単位に合計し、合計した売上金額の外れ値を抽出せよ。ただし、顧客IDが\"Z\"から始まるのものは非会員を表すため、除外して計算すること。なお、ここでは外れ値を平均から3σ以上離れたものとする。結果は10件表示させれば良い。"
   ]
  },
  {
   "cell_type": "code",
   "execution_count": 82,
   "metadata": {},
   "outputs": [
    {
     "name": "stdout",
     "output_type": "stream",
     "text": [
      "+--------------+-----------+------------------+\n",
      "|   customer_id|sum(amount)|sum(amount)_scaled|\n",
      "+--------------+-----------+------------------+\n",
      "|CS015415000222|      11472| 3.280164267986318|\n",
      "|CS038415000071|      12696|3.7300527819140052|\n",
      "|CS026515000201|      11144|3.1596059080449117|\n",
      "|CS006515000023|      18372| 5.816300498461024|\n",
      "|CS013415000176|      12383|3.6150077616040655|\n",
      "|CS010415000121|      11761| 3.386387944885911|\n",
      "|CS015515000034|      15300| 4.687168541936633|\n",
      "|CS032414000072|      16563| 5.151391738906134|\n",
      "|CS008414000053|      12276| 3.575679272232936|\n",
      "|CS009415000214|      13742| 4.114516332214953|\n",
      "+--------------+-----------+------------------+\n",
      "only showing top 10 rows\n",
      "\n"
     ]
    }
   ],
   "source": [
    "avg = df_receipt.where(~col(\"customer_id\").rlike(\"^Z\"))\\\n",
    "    .select(\n",
    "    \"customer_id\",\n",
    "    \"amount\"\n",
    "    ).groupby(\"customer_id\")\\\n",
    "    .sum()\\\n",
    "    .groupby()\\\n",
    "    .avg()\\\n",
    "    .first()[0]\n",
    "\n",
    "std = df_receipt.where(~col(\"customer_id\").rlike(\"^Z\"))\\\n",
    "    .select(\n",
    "    \"customer_id\",\n",
    "    \"amount\"\n",
    "    ).groupby(\"customer_id\")\\\n",
    "    .sum()\\\n",
    "    .groupby()\\\n",
    "    .agg(stddev(\"sum(amount)\"))\\\n",
    "    .first()[0]\n",
    "\n",
    "df_receipt.where(~col(\"customer_id\").rlike(\"^Z\"))\\\n",
    "    .select(\n",
    "    \"customer_id\",\n",
    "    \"amount\"\n",
    "    ).groupby(\"customer_id\")\\\n",
    "    .sum()\\\n",
    "    .withColumn(\"sum(amount)_scaled\",(col(\"sum(amount)\")-avg)/std)\\\n",
    "    .where(\"abs(`sum(amount)_scaled`) >= 3\")\\\n",
    "    .show(10)"
   ]
  },
  {
   "cell_type": "markdown",
   "metadata": {},
   "source": [
    "---\n",
    "> P-078: レシート明細データフレーム（df_receipt）の売上金額（amount）を顧客単位に合計し、合計した売上金額の外れ値を抽出せよ。ただし、顧客IDが\"Z\"から始まるのものは非会員を表すため、除外して計算すること。なお、ここでは外れ値を第一四分位と第三四分位の差であるIQRを用いて、「第一四分位数-1.5×IQR」よりも下回るもの、または「第三四分位数+1.5×IQR」を超えるものとする。結果は10件表示させれば良い。"
   ]
  },
  {
   "cell_type": "code",
   "execution_count": 83,
   "metadata": {},
   "outputs": [
    {
     "name": "stdout",
     "output_type": "stream",
     "text": [
      "+--------------+-----------+\n",
      "|   customer_id|sum(amount)|\n",
      "+--------------+-----------+\n",
      "|CS015415000222|      11472|\n",
      "|CS038415000071|      12696|\n",
      "|CS021514000045|       9741|\n",
      "|CS026515000201|      11144|\n",
      "|CS006515000023|      18372|\n",
      "|CS013214000003|       8589|\n",
      "|CS034415000196|       8656|\n",
      "|CS023414000057|      10075|\n",
      "|CS031414000048|      10538|\n",
      "|CS018205000001|       8739|\n",
      "+--------------+-----------+\n",
      "only showing top 10 rows\n",
      "\n"
     ]
    }
   ],
   "source": [
    "percentile = df_receipt.where(~col(\"customer_id\").rlike(\"^Z\"))\\\n",
    "    .select(\n",
    "    \"customer_id\",\n",
    "    \"amount\"\n",
    "    ).groupby(\"customer_id\")\\\n",
    "    .sum()\\\n",
    "    .stat.approxQuantile(\"sum(amount)\", [0.25,0.5,0.75], 0)\n",
    "iqr = percentile[2] - percentile[0]\n",
    "lower_bound = percentile[0] - iqr*1.5\n",
    "upper_bound = percentile[2] + iqr*1.5\n",
    "\n",
    "df_receipt.where(~col(\"customer_id\").rlike(\"^Z\"))\\\n",
    "    .select(\n",
    "    \"customer_id\",\n",
    "    \"amount\"\n",
    "    ).groupby(\"customer_id\")\\\n",
    "    .sum()\\\n",
    "    .where((col(\"sum(amount)\") < lower_bound) | (upper_bound < col(\"sum(amount)\")))\\\n",
    "    .show(10)"
   ]
  },
  {
   "cell_type": "markdown",
   "metadata": {},
   "source": [
    "---\n",
    "> P-079: 商品データフレーム（df_product）の各項目に対し、欠損数を確認せよ。"
   ]
  },
  {
   "cell_type": "code",
   "execution_count": 84,
   "metadata": {},
   "outputs": [
    {
     "name": "stdout",
     "output_type": "stream",
     "text": [
      "product_cd:0\n",
      "category_major_cd:0\n",
      "category_medium_cd:0\n",
      "category_small_cd:0\n",
      "unit_price:7\n",
      "unit_cost:7\n"
     ]
    }
   ],
   "source": [
    "for c in df_product.columns:\n",
    "    print(f\"{c}:{df_product.where(df_product[c].isNull()).count()}\")"
   ]
  },
  {
   "cell_type": "markdown",
   "metadata": {},
   "source": [
    "---\n",
    "> P-080: 商品データフレーム（df_product）のいずれかの項目に欠損が発生しているレコードを全て削除した新たなdf_product_1を作成せよ。なお、削除前後の件数を表示させ、前設問で確認した件数だけ減少していることも確認すること。"
   ]
  },
  {
   "cell_type": "code",
   "execution_count": 85,
   "metadata": {},
   "outputs": [
    {
     "name": "stdout",
     "output_type": "stream",
     "text": [
      "10030\n",
      "10023\n"
     ]
    }
   ],
   "source": [
    "print(df_product.count())\n",
    "print(df_product.na.drop(\"any\").count())"
   ]
  },
  {
   "cell_type": "markdown",
   "metadata": {},
   "source": [
    "---\n",
    "> P-081: 単価（unit_price）と原価（unit_cost）の欠損値について、それぞれの平均値で補完した新たなdf_product_2を作成せよ。なお、平均値について1円未満は四捨五入とし、0.5については偶数寄せでかまわない。補完実施後、各項目について欠損が生じていないことも確認すること。"
   ]
  },
  {
   "cell_type": "code",
   "execution_count": 94,
   "metadata": {},
   "outputs": [
    {
     "name": "stdout",
     "output_type": "stream",
     "text": [
      "product_cd:0\n",
      "category_major_cd:0\n",
      "category_medium_cd:0\n",
      "category_small_cd:0\n",
      "unit_price:0\n",
      "unit_cost:0\n"
     ]
    }
   ],
   "source": [
    "mean = df_product.select(\"unit_price\", \"unit_cost\")\\\n",
    "    .groupby()\\\n",
    "    .avg()\\\n",
    "    .first()\n",
    "\n",
    "fill_values = {\"unit_price\":int(np.round(mean[0])), \n",
    "               \"unit_cost\":int(np.round(mean[1]))}\n",
    "\n",
    "filled = df_product.na.fill(fill_values)\n",
    "\n",
    "for c in filled.columns:\n",
    "    print(f\"{c}:{filled.where(filled[c].isNull()).count()}\")"
   ]
  },
  {
   "cell_type": "markdown",
   "metadata": {},
   "source": [
    "---\n",
    "> P-082: 単価（unit_price）と原価（unit_cost）の欠損値について、それぞれの中央値で補完した新たなdf_product_3を作成せよ。なお、中央値について1円未満は四捨五入とし、0.5については偶数寄せでかまわない。補完実施後、各項目について欠損が生じていないことも確認すること。"
   ]
  },
  {
   "cell_type": "code",
   "execution_count": 101,
   "metadata": {},
   "outputs": [
    {
     "name": "stdout",
     "output_type": "stream",
     "text": [
      "product_cd:0\n",
      "category_major_cd:0\n",
      "category_medium_cd:0\n",
      "category_small_cd:0\n",
      "unit_price:0\n",
      "unit_cost:0\n"
     ]
    }
   ],
   "source": [
    "fill_values = {\"unit_price\":int(np.round(df_product.stat.approxQuantile(\"unit_price\", [0.5], 0)[0])), \n",
    "               \"unit_cost\":int(np.round(df_product.stat.approxQuantile(\"unit_cost\", [0.5], 0)[0]))}\n",
    "\n",
    "filled = df_product.na.fill(fill_values)\n",
    "\n",
    "for c in filled.columns:\n",
    "    print(f\"{c}:{filled.where(filled[c].isNull()).count()}\")"
   ]
  },
  {
   "cell_type": "markdown",
   "metadata": {},
   "source": [
    "---\n",
    "> P-083: 単価（unit_price）と原価（unit_cost）の欠損値について、各商品の小区分（category_small_cd）ごとに算出した中央値で補完した新たなdf_product_4を作成せよ。なお、中央値について1円未満は四捨五入とし、0.5については偶数寄せでかまわない。補完実施後、各項目について欠損が生じていないことも確認すること。"
   ]
  },
  {
   "cell_type": "code",
   "execution_count": 110,
   "metadata": {},
   "outputs": [
    {
     "name": "stdout",
     "output_type": "stream",
     "text": [
      "product_cd:0\n",
      "category_major_cd:0\n",
      "category_medium_cd:0\n",
      "category_small_cd:0\n",
      "unit_price:7\n",
      "unit_cost:7\n",
      "median_price:0\n",
      "median_cost:0\n",
      "filled_price:0\n",
      "filled_cost:0\n"
     ]
    }
   ],
   "source": [
    "import pyspark.sql.functions as F\n",
    "from pyspark.sql.functions import when\n",
    "median_price = F.expr('percentile_approx(unit_price, 0.5)')\n",
    "median_cost = F.expr('percentile_approx(unit_cost, 0.5)')\n",
    "window = Window.partitionBy(df_product.category_small_cd)\n",
    "\n",
    "filled = df_product.withColumn(\"median_price\", median_price.over(window))\\\n",
    "    .withColumn(\"median_cost\", median_price.over(window))\\\n",
    "    .withColumn(\"filled_price\", when(col(\"unit_price\").isNull(), \n",
    "                                     col(\"median_price\")).otherwise(col(\"unit_price\")))\\\n",
    "    .withColumn(\"filled_cost\", when(col(\"unit_cost\").isNull(), \n",
    "                                     col(\"median_cost\")).otherwise(col(\"unit_price\")))\\\n",
    "\n",
    "for c in filled.columns:\n",
    "    print(f\"{c}:{filled.where(filled[c].isNull()).count()}\")"
   ]
  },
  {
   "cell_type": "markdown",
   "metadata": {},
   "source": [
    "---\n",
    "> P-084: 顧客データフレーム（df_customer）の全顧客に対し、全期間の売上金額に占める2019年売上金額の割合を計算せよ。ただし、販売実績のない場合は0として扱うこと。そして計算した割合が0超のものを抽出せよ。 結果は10件表示させれば良い。また、作成したデータにNAやNANが存在しないことを確認せよ。"
   ]
  },
  {
   "cell_type": "code",
   "execution_count": 125,
   "metadata": {},
   "outputs": [
    {
     "name": "stdout",
     "output_type": "stream",
     "text": [
      "+--------------+------+-----------+--------------------+\n",
      "|   customer_id|amount|amount_2019|         amount_rate|\n",
      "+--------------+------+-----------+--------------------+\n",
      "|CS049513000008|  4450|       3320|  0.7460674157303371|\n",
      "|CS024415000195|  4638|        894|  0.1927554980595084|\n",
      "|CS017514000012|  4699|        273|0.058097467546286446|\n",
      "|CS020515000105|  5283|       1302| 0.24645088018171493|\n",
      "|CS017415000245|  1289|        970|   0.752521334367727|\n",
      "|CS038605000003|  2833|       1878|  0.6629015178256266|\n",
      "|CS015415000222| 11472|       4486|  0.3910390516039052|\n",
      "|CS025414000093|  3929|       1595|  0.4059557139221176|\n",
      "|CS002513000664|   398|        398|                 1.0|\n",
      "|CS034515000045|  1105|        416|  0.3764705882352941|\n",
      "+--------------+------+-----------+--------------------+\n",
      "only showing top 10 rows\n",
      "\n"
     ]
    }
   ],
   "source": [
    "df_sales_2019 = df_receipt.where(\"(20190101 <= sales_ymd) AND (sales_ymd <= 20191231)\")\\\n",
    "    .groupby(\"customer_id\")\\\n",
    "    .sum()\\\n",
    "    .select(\n",
    "    \"customer_id\",\n",
    "    col(\"sum(amount)\").alias(\"amount_2019\")\n",
    "    )\n",
    "\n",
    "df_sales_all = df_customer.join(df_receipt, \"customer_id\", \"left\")\\\n",
    "    .groupby(\"customer_id\")\\\n",
    "    .sum()\\\n",
    "    .select(\n",
    "    \"customer_id\",\n",
    "    col(\"sum(amount)\").alias(\"amount\")\n",
    "    )\n",
    "\n",
    "rate = df_sales_all.join(df_sales_2019, \"customer_id\", \"left\")\\\n",
    "    .select(\n",
    "    \"*\",\n",
    "    (col(\"amount_2019\")/col(\"amount\")).alias(\"amount_rate\")\n",
    "    ).na.fill(0)\n",
    "\n",
    "rate.where(\"amount_rate > 0\").show(10)"
   ]
  },
  {
   "cell_type": "code",
   "execution_count": 126,
   "metadata": {},
   "outputs": [
    {
     "name": "stdout",
     "output_type": "stream",
     "text": [
      "customer_id:0\n",
      "amount:0\n",
      "amount_2019:0\n",
      "amount_rate:0\n"
     ]
    }
   ],
   "source": [
    "for c in rate.columns:\n",
    "    print(f\"{c}:{rate.where(rate[c].isNull()).count()}\")"
   ]
  },
  {
   "cell_type": "markdown",
   "metadata": {},
   "source": [
    "---\n",
    "> P-085: 顧客データフレーム（df_customer）の全顧客に対し、郵便番号（postal_cd）を用いて経度緯度変換用データフレーム（df_geocode）を紐付け、新たなdf_customer_1を作成せよ。ただし、複数紐づく場合は経度（longitude）、緯度（latitude）それぞれ平均を算出すること。\n"
   ]
  },
  {
   "cell_type": "code",
   "execution_count": 153,
   "metadata": {},
   "outputs": [
    {
     "name": "stdout",
     "output_type": "stream",
     "text": [
      "+--------------+-------------+---------+------+----------+---+---------+----------------------------+--------------------+----------------+------------+---------+--------+\n",
      "|   customer_id|customer_name|gender_cd|gender| birth_day|age|postal_cd|                     address|application_store_cd|application_date|   status_cd|longitude|latitude|\n",
      "+--------------+-------------+---------+------+----------+---+---------+----------------------------+--------------------+----------------+------------+---------+--------+\n",
      "|CS030612000044|    矢沢 夏希|        1|  女性|1955-04-10| 63| 273-0033|千葉県船橋市本郷町**********|              S12030|        20141022|0-00000000-0|139.95209|35.70791|\n",
      "|CS030412000172|    戸田 美紀|        1|  女性|1973-04-26| 45| 273-0033|千葉県船橋市本郷町**********|              S12030|        20160319|5-20091018-6|139.95209|35.70791|\n",
      "|CS007503000041|  綾小路 高史|        0|  男性|1964-04-20| 54| 285-0854|  千葉県佐倉市上座**********|              S12007|        20160214|0-00000000-0|140.16283|35.72408|\n",
      "|CS029413000181|  役所 ひろ子|        1|  女性|1970-01-02| 49| 279-0003|  千葉県浦安市海楽**********|              S12029|        20150326|5-20081020-6|139.90469|35.65422|\n",
      "|CS029613000024|    宇野 美菜|        1|  女性|1952-05-30| 66| 279-0002|  千葉県浦安市北栄**********|              S12029|        20150815|0-00000000-0|139.89549|35.66601|\n",
      "+--------------+-------------+---------+------+----------+---+---------+----------------------------+--------------------+----------------+------------+---------+--------+\n",
      "only showing top 5 rows\n",
      "\n"
     ]
    }
   ],
   "source": [
    "df_tmp = df_customer.join(df_geocode.select(\"postal_cd\", \"longitude\", \"latitude\"), \"postal_cd\", \"inner\")\\\n",
    "    .groupby(\"customer_id\")\\\n",
    "    .avg()\\\n",
    "    .select(\n",
    "    \"customer_id\",\n",
    "    col(\"avg(longitude)\").alias(\"longitude\"),\n",
    "    col(\"avg(latitude)\").alias(\"latitude\")\n",
    "    )\n",
    "\n",
    "df_customer_1 = df_customer.join(df_tmp, \"customer_id\", \"inner\")\n",
    "df_customer_1.show(5)"
   ]
  },
  {
   "cell_type": "markdown",
   "metadata": {},
   "source": [
    "---\n",
    "> P-086: 前設問で作成した緯度経度つき顧客データフレーム（df_customer_1）に対し、申込み店舗コード（application_store_cd）をキーに店舗データフレーム（df_store）と結合せよ。そして申込み店舗の緯度（latitude）・経度情報（longitude)と顧客の緯度・経度を用いて距離（km）を求め、顧客ID（customer_id）、顧客住所（address）、店舗住所（address）とともに表示せよ。計算式は簡易式で良いものとするが、その他精度の高い方式を利用したライブラリを利用してもかまわない。結果は10件表示すれば良い。"
   ]
  },
  {
   "cell_type": "markdown",
   "metadata": {},
   "source": [
    "$$\n",
    "緯度（ラジアン）：\\phi \\\\\n",
    "経度（ラジアン）：\\lambda \\\\\n",
    "距離L = 6371 * arccos(sin \\phi_1 * sin \\phi_2\n",
    "+ cos \\phi_1 * cos \\phi_2 * cos(\\lambda_1 − \\lambda_2))\n",
    "$$"
   ]
  },
  {
   "cell_type": "code",
   "execution_count": 155,
   "metadata": {},
   "outputs": [
    {
     "data": {
      "text/plain": [
       "['store_cd',\n",
       " 'store_name',\n",
       " 'prefecture_cd',\n",
       " 'prefecture',\n",
       " 'address',\n",
       " 'address_kana',\n",
       " 'tel_no',\n",
       " 'longitude',\n",
       " 'latitude',\n",
       " 'floor_area']"
      ]
     },
     "execution_count": 155,
     "metadata": {},
     "output_type": "execute_result"
    }
   ],
   "source": [
    "df_store.columns"
   ]
  },
  {
   "cell_type": "code",
   "execution_count": 162,
   "metadata": {},
   "outputs": [
    {
     "name": "stdout",
     "output_type": "stream",
     "text": [
      "+--------------+----------------------------+--------------------------+------------------+\n",
      "|   customer_id|            customer_address|             store_address|          distence|\n",
      "+--------------+----------------------------+--------------------------+------------------+\n",
      "|CS030612000044|千葉県船橋市本郷町**********|    千葉県市川市八幡三丁目|3.0519536466934833|\n",
      "|CS030412000172|千葉県船橋市本郷町**********|    千葉県市川市八幡三丁目|3.0519536466934833|\n",
      "|CS007503000041|  千葉県佐倉市上座**********|        千葉県佐倉市上志津|1.6994898888167103|\n",
      "|CS029413000181|  千葉県浦安市海楽**********|    千葉県浦安市東野一丁目| 0.804858125326335|\n",
      "|CS029613000024|  千葉県浦安市北栄**********|    千葉県浦安市東野一丁目|1.6887555834989676|\n",
      "|CS038605000003|  千葉県浦安市堀江**********|東京都江戸川区東葛西九丁目| 1.392726722198207|\n",
      "|CS037412000177|  東京都江東区亀戸**********|    東京都江東区南砂一丁目|1.8500720271507314|\n",
      "|CS015415000222|  東京都江東区千石**********|    東京都江東区南砂二丁目|   1.0363274460445|\n",
      "|CS043413000039|東京都品川区北品川**********|  東京都品川区南品川三丁目| 1.190854249536111|\n",
      "|CS032613000113|東京都大田区新蒲田**********|  東京都大田区仲六郷三丁目|1.1990433571364574|\n",
      "+--------------+----------------------------+--------------------------+------------------+\n",
      "only showing top 10 rows\n",
      "\n"
     ]
    }
   ],
   "source": [
    "import math\n",
    "def calc_distance(x1, y1, x2, y2):\n",
    "    distance = 6371 * math.acos(math.sin(math.radians(y1)) * math.sin(math.radians(y2)) \n",
    "                       + math.cos(math.radians(y1)) * math.cos(math.radians(y2)) \n",
    "                            * math.cos(math.radians(x1) - math.radians(x2)))\n",
    "    return distance\n",
    "\n",
    "distance_udf = udf(calc_distance)\n",
    "\n",
    "df_customer_1.join(df_store, df_customer_1[\"application_store_cd\"] == df_store[\"store_cd\"], \"inner\")\\\n",
    "    .select(\n",
    "    \"customer_id\",\n",
    "    df_customer_1[\"address\"].alias(\"customer_address\"),\n",
    "    df_store[\"address\"].alias(\"store_address\"),\n",
    "    (distance_udf(df_store[\"longitude\"],df_store[\"latitude\"],\n",
    "                  df_customer_1[\"longitude\"],df_customer_1[\"latitude\"])).alias(\"distence\")\n",
    "    ).show(10)"
   ]
  },
  {
   "cell_type": "markdown",
   "metadata": {},
   "source": [
    "---\n",
    "> P-087:  顧客データフレーム（df_customer）では、異なる店舗での申込みなどにより同一顧客が複数登録されている。名前（customer_name）と郵便番号（postal_cd）が同じ顧客は同一顧客とみなし、1顧客1レコードとなるように名寄せした名寄顧客データフレーム（df_customer_u）を作成せよ。ただし、同一顧客に対しては売上金額合計が最も高いものを残すものとし、売上金額合計が同一もしくは売上実績の無い顧客については顧客ID（customer_id）の番号が小さいものを残すこととする。"
   ]
  },
  {
   "cell_type": "code",
   "execution_count": 193,
   "metadata": {},
   "outputs": [
    {
     "name": "stdout",
     "output_type": "stream",
     "text": [
      "21971\n",
      "21941\n"
     ]
    }
   ],
   "source": [
    "w = Window().partitionBy(\"customer_name\",\"postal_cd\").orderBy(col(\"sum(amount)\").desc(), col(\"customer_id\"))\n",
    "\n",
    "df_customer_u = df_receipt.groupby(\"customer_id\")\\\n",
    "    .sum()\\\n",
    "    .join(df_customer, \"customer_id\", \"right\")\\\n",
    "    .withColumn(\"rn\", row_number().over(w))\\\n",
    "    .where(col(\"rn\") == 1)\n",
    "\n",
    "print(df_customer.count())\n",
    "print(df_customer_u.count())"
   ]
  },
  {
   "cell_type": "markdown",
   "metadata": {},
   "source": [
    "---\n",
    "> P-088: 前設問で作成したデータを元に、顧客データフレームに統合名寄IDを付与したデータフレーム（df_customer_n）を作成せよ。ただし、統合名寄IDは以下の仕様で付与するものとする。\n",
    ">\n",
    "> - 重複していない顧客：顧客ID（customer_id）を設定\n",
    "> - 重複している顧客：前設問で抽出したレコードの顧客IDを設定"
   ]
  },
  {
   "cell_type": "code",
   "execution_count": 207,
   "metadata": {},
   "outputs": [
    {
     "name": "stdout",
     "output_type": "stream",
     "text": [
      "21971\n",
      "21941\n"
     ]
    }
   ],
   "source": [
    "df_customer_n = df_customer.join(df_customer_u.withColumnRenamed(\"customer_id\",\"integrated_id\"), \n",
    "                                 [\"customer_name\", \"postal_cd\"], \"inner\")\\\n",
    "    .select(\n",
    "    \"customer_id\",\n",
    "    \"integrated_id\"\n",
    "    )\n",
    "\n",
    "print(df_customer_n.select(\"customer_id\").distinct().count())\n",
    "print(df_customer_n.select(\"integrated_id\").distinct().count())"
   ]
  },
  {
   "cell_type": "markdown",
   "metadata": {},
   "source": [
    "---\n",
    "> P-閑話: df_customer_1, df_customer_nは使わないので削除する。"
   ]
  },
  {
   "cell_type": "code",
   "execution_count": 217,
   "metadata": {},
   "outputs": [
    {
     "ename": "NameError",
     "evalue": "name 'df_customer_1' is not defined",
     "output_type": "error",
     "traceback": [
      "\u001b[0;31m---------------------------------------------------------------------------\u001b[0m",
      "\u001b[0;31mNameError\u001b[0m                                 Traceback (most recent call last)",
      "\u001b[0;32m<ipython-input-217-0e1ecf7f5236>\u001b[0m in \u001b[0;36m<module>\u001b[0;34m\u001b[0m\n\u001b[0;32m----> 1\u001b[0;31m \u001b[0;32mdel\u001b[0m \u001b[0mdf_customer_1\u001b[0m\u001b[0;34m\u001b[0m\u001b[0;34m\u001b[0m\u001b[0m\n\u001b[0m\u001b[1;32m      2\u001b[0m \u001b[0;32mdel\u001b[0m \u001b[0mdf_customer_n\u001b[0m\u001b[0;34m\u001b[0m\u001b[0;34m\u001b[0m\u001b[0m\n",
      "\u001b[0;31mNameError\u001b[0m: name 'df_customer_1' is not defined"
     ]
    }
   ],
   "source": [
    "del df_customer_1\n",
    "del df_customer_n"
   ]
  },
  {
   "cell_type": "markdown",
   "metadata": {},
   "source": [
    "---\n",
    "> P-089: 売上実績のある顧客に対し、予測モデル構築のため学習用データとテスト用データに分割したい。それぞれ8:2の割合でランダムにデータを分割せよ。"
   ]
  },
  {
   "cell_type": "code",
   "execution_count": 220,
   "metadata": {},
   "outputs": [
    {
     "name": "stdout",
     "output_type": "stream",
     "text": [
      "52523\n",
      "13159\n"
     ]
    }
   ],
   "source": [
    "df_tmp = df_customer.join(df_receipt, \"customer_id\", \"inner\")\n",
    "split = df_tmp.randomSplit([0.8,0.2],seed=24)\n",
    "\n",
    "print(split[0].count())\n",
    "print(split[1].count())"
   ]
  },
  {
   "cell_type": "markdown",
   "metadata": {},
   "source": [
    "---\n",
    "> P-090: レシート明細データフレーム（df_receipt）は2017年1月1日〜2019年10月31日までのデータを有している。売上金額（amount）を月次で集計し、学習用に12ヶ月、テスト用に6ヶ月のモデル構築用データを3セット作成せよ。"
   ]
  },
  {
   "cell_type": "code",
   "execution_count": 229,
   "metadata": {},
   "outputs": [
    {
     "name": "stdout",
     "output_type": "stream",
     "text": [
      "root\n",
      " |-- sales_ymd: integer (nullable = true)\n",
      " |-- sales_epoch: integer (nullable = true)\n",
      " |-- store_cd: string (nullable = true)\n",
      " |-- receipt_no: integer (nullable = true)\n",
      " |-- receipt_sub_no: integer (nullable = true)\n",
      " |-- customer_id: string (nullable = true)\n",
      " |-- product_cd: string (nullable = true)\n",
      " |-- quantity: integer (nullable = true)\n",
      " |-- amount: integer (nullable = true)\n",
      "\n"
     ]
    }
   ],
   "source": [
    "df_receipt.printSchema()"
   ]
  },
  {
   "cell_type": "code",
   "execution_count": 256,
   "metadata": {},
   "outputs": [],
   "source": [
    "import pyspark.sql.functions as F\n",
    "df_sales_month = df_receipt.select(\n",
    "    \"amount\",\n",
    "    year(to_date(col(\"sales_ymd\").cast(StringType()),\"yyyyMMdd\")).alias(\"year\"),\n",
    "    month(to_date(col(\"sales_ymd\").cast(StringType()),\"yyyyMMdd\")).alias(\"month\"),\n",
    "    ).groupby(\"year\",\"month\")\\\n",
    "    .sum()\\\n",
    "    .sort(\"year\",\"month\")\\\n",
    "    .select(\"year\", \"month\", \"sum(amount)\")\n",
    "\n",
    "def split_df(df, train_size, test_size, slide_window, start_point):\n",
    "    w = Window.orderBy(\"year\",\"month\")\n",
    "    train_start = start_point * slide_window\n",
    "    test_start = train_start + train_size + 1\n",
    "    \n",
    "    return_df = df.withColumn(\"index\", F.row_number().over(w))\n",
    "    train_df = return_df.where(col(\"index\").between(train_start, test_start-1)).drop(\"index\")\n",
    "    test_df = return_df.where(col(\"index\").between(test_start, test_start+test_size-1)).drop(\"index\")\n",
    "    return train_df, test_df\n",
    "\n",
    "\n",
    "df_train_1, df_test_1 = split_df(df_sales_month, train_size=12, test_size=6, slide_window=6, start_point=0)\n",
    "df_train_2, df_test_2 = split_df(df_sales_month, train_size=12, test_size=6, slide_window=6, start_point=1)\n",
    "df_train_3, df_test_3 = split_df(df_sales_month, train_size=12, test_size=6, slide_window=6, start_point=2)"
   ]
  },
  {
   "cell_type": "code",
   "execution_count": 257,
   "metadata": {},
   "outputs": [
    {
     "name": "stdout",
     "output_type": "stream",
     "text": [
      "+----+-----+-----------+\n",
      "|year|month|sum(amount)|\n",
      "+----+-----+-----------+\n",
      "|2017|    1|     902056|\n",
      "|2017|    2|     764413|\n",
      "|2017|    3|     962945|\n",
      "|2017|    4|     847566|\n",
      "|2017|    5|     884010|\n",
      "|2017|    6|     894242|\n",
      "|2017|    7|     959205|\n",
      "|2017|    8|     954836|\n",
      "|2017|    9|     902037|\n",
      "|2017|   10|     905739|\n",
      "|2017|   11|     932157|\n",
      "|2017|   12|     939654|\n",
      "+----+-----+-----------+\n",
      "\n"
     ]
    }
   ],
   "source": [
    "df_train_1.show()"
   ]
  },
  {
   "cell_type": "code",
   "execution_count": 258,
   "metadata": {},
   "outputs": [
    {
     "name": "stdout",
     "output_type": "stream",
     "text": [
      "+----+-----+-----------+\n",
      "|year|month|sum(amount)|\n",
      "+----+-----+-----------+\n",
      "|2018|    1|     944509|\n",
      "|2018|    2|     864128|\n",
      "|2018|    3|     946588|\n",
      "|2018|    4|     937099|\n",
      "|2018|    5|    1004438|\n",
      "|2018|    6|    1012329|\n",
      "+----+-----+-----------+\n",
      "\n"
     ]
    }
   ],
   "source": [
    "df_test_1.show()"
   ]
  },
  {
   "cell_type": "markdown",
   "metadata": {},
   "source": [
    "---\n",
    "> P-091: 顧客データフレーム（df_customer）の各顧客に対し、売上実績のある顧客数と売上実績のない顧客数が1:1となるようにアンダーサンプリングで抽出せよ。"
   ]
  },
  {
   "cell_type": "code",
   "execution_count": 283,
   "metadata": {},
   "outputs": [
    {
     "name": "stdout",
     "output_type": "stream",
     "text": [
      "purchase:8306, \n",
      "not purchase:13665\n",
      "+-------------+-----+\n",
      "|does_purchase|count|\n",
      "+-------------+-----+\n",
      "|         true| 8306|\n",
      "|        false| 8273|\n",
      "+-------------+-----+\n",
      "\n"
     ]
    }
   ],
   "source": [
    "purchase = df_customer.join(df_receipt.groupby(\"customer_id\").sum(),\n",
    "                            \"customer_id\", \"inner\").count()\n",
    "\n",
    "all_customer = df_customer.count() \n",
    "print(f\"purchase:{purchase}, \\nnot purchase:{all_customer-purchase}\")\n",
    "\n",
    "fraction = {True:1, False:purchase/(all_customer-purchase)}\n",
    "\n",
    "sample = df_customer.join(df_receipt.groupby(\"customer_id\").sum(),\n",
    "                          \"customer_id\", \"left\")\\\n",
    "    .withColumn(\"does_purchase\", ~col(\"sum(amount)\").isNull())\\\n",
    "    .sampleBy(\"does_purchase\", fraction)\n",
    "    \n",
    "sample.groupby(\"does_purchase\")\\\n",
    "    .count()\\\n",
    "    .show(10)"
   ]
  },
  {
   "cell_type": "markdown",
   "metadata": {},
   "source": [
    "---\n",
    "> P-092: 顧客データフレーム（df_customer）では、性別に関する情報が非正規化の状態で保持されている。これを第三正規化せよ。"
   ]
  },
  {
   "cell_type": "code",
   "execution_count": 284,
   "metadata": {},
   "outputs": [],
   "source": [
    "df_gender = df_customer.select(\"gender_cd\",\"gender\").distinct()\n",
    "df_customer_s = df_customer.drop(\"gender\")"
   ]
  },
  {
   "cell_type": "code",
   "execution_count": 285,
   "metadata": {},
   "outputs": [
    {
     "name": "stdout",
     "output_type": "stream",
     "text": [
      "+---------+------+\n",
      "|gender_cd|gender|\n",
      "+---------+------+\n",
      "|        9|  不明|\n",
      "|        0|  男性|\n",
      "|        1|  女性|\n",
      "+---------+------+\n",
      "\n",
      "+--------------+-------------+---------+----------+---+---------+--------------------------------+--------------------+----------------+------------+\n",
      "|   customer_id|customer_name|gender_cd| birth_day|age|postal_cd|                         address|application_store_cd|application_date|   status_cd|\n",
      "+--------------+-------------+---------+----------+---+---------+--------------------------------+--------------------+----------------+------------+\n",
      "|CS021313000114|  大野 あや子|        1|1981-04-29| 37| 259-1113|  神奈川県伊勢原市粟窪**********|              S14021|        20150905|0-00000000-0|\n",
      "|CS037613000071|    六角 雅彦|        9|1952-04-01| 66| 136-0076|      東京都江東区南砂**********|              S13037|        20150414|0-00000000-0|\n",
      "|CS031415000172|宇多田 貴美子|        1|1976-10-04| 42| 151-0053|    東京都渋谷区代々木**********|              S13031|        20150529|D-20100325-C|\n",
      "|CS028811000001|  堀井 かおり|        1|1933-03-27| 86| 245-0016|神奈川県横浜市泉区和泉町*****...|              S14028|        20160115|0-00000000-0|\n",
      "|CS001215000145|    田崎 美紀|        1|1995-03-29| 24| 144-0055|    東京都大田区仲六郷**********|              S13001|        20170605|6-20090929-2|\n",
      "+--------------+-------------+---------+----------+---+---------+--------------------------------+--------------------+----------------+------------+\n",
      "only showing top 5 rows\n",
      "\n"
     ]
    }
   ],
   "source": [
    "df_gender.show(5)\n",
    "df_customer_s.show(5)"
   ]
  },
  {
   "cell_type": "markdown",
   "metadata": {},
   "source": [
    "---\n",
    "> P-093: 商品データフレーム（df_product）では各カテゴリのコード値だけを保有し、カテゴリ名は保有していない。カテゴリデータフレーム（df_category）と組み合わせて非正規化し、カテゴリ名を保有した新たな商品データフレームを作成せよ。"
   ]
  },
  {
   "cell_type": "code",
   "execution_count": null,
   "metadata": {},
   "outputs": [],
   "source": []
  },
  {
   "cell_type": "markdown",
   "metadata": {},
   "source": [
    "---\n",
    "> P-094: 先に作成したカテゴリ名付き商品データを以下の仕様でファイル出力せよ。なお、出力先のパスはdata配下とする。\n",
    ">\n",
    "> - ファイル形式はCSV（カンマ区切り）\n",
    "> - ヘッダ有り\n",
    "> - 文字コードはUTF-8"
   ]
  },
  {
   "cell_type": "code",
   "execution_count": null,
   "metadata": {},
   "outputs": [],
   "source": []
  },
  {
   "cell_type": "markdown",
   "metadata": {},
   "source": [
    "---\n",
    "> P-095: 先に作成したカテゴリ名付き商品データを以下の仕様でファイル出力せよ。なお、出力先のパスはdata配下とする。\n",
    ">\n",
    "> - ファイル形式はCSV（カンマ区切り）\n",
    "> - ヘッダ有り\n",
    "> - 文字コードはCP932"
   ]
  },
  {
   "cell_type": "code",
   "execution_count": null,
   "metadata": {},
   "outputs": [],
   "source": []
  },
  {
   "cell_type": "markdown",
   "metadata": {},
   "source": [
    "---\n",
    "> P-096: 先に作成したカテゴリ名付き商品データを以下の仕様でファイル出力せよ。なお、出力先のパスはdata配下とする。\n",
    ">\n",
    "> - ファイル形式はCSV（カンマ区切り）\n",
    "> - ヘッダ無し\n",
    "> - 文字コードはUTF-8"
   ]
  },
  {
   "cell_type": "code",
   "execution_count": null,
   "metadata": {},
   "outputs": [],
   "source": []
  },
  {
   "cell_type": "markdown",
   "metadata": {},
   "source": [
    "---\n",
    "> P-097: 先に作成した以下形式のファイルを読み込み、データフレームを作成せよ。また、先頭10件を表示させ、正しくとりまれていることを確認せよ。\n",
    ">\n",
    "> - ファイル形式はCSV（カンマ区切り）\n",
    "> - ヘッダ有り\n",
    "> - 文字コードはUTF-8"
   ]
  },
  {
   "cell_type": "code",
   "execution_count": null,
   "metadata": {},
   "outputs": [],
   "source": []
  },
  {
   "cell_type": "markdown",
   "metadata": {},
   "source": [
    "---\n",
    "> P-098: 先に作成した以下形式のファイルを読み込み、データフレームを作成せよ。また、先頭10件を表示させ、正しくとりまれていることを確認せよ。\n",
    ">\n",
    "> - ファイル形式はCSV（カンマ区切り）\n",
    "> - ヘッダ無し\n",
    "> - 文字コードはUTF-8"
   ]
  },
  {
   "cell_type": "code",
   "execution_count": null,
   "metadata": {},
   "outputs": [],
   "source": []
  },
  {
   "cell_type": "markdown",
   "metadata": {},
   "source": [
    "---\n",
    "> P-099: 先に作成したカテゴリ名付き商品データを以下の仕様でファイル出力せよ。なお、出力先のパスはdata配下とする。\n",
    ">\n",
    "> - ファイル形式はTSV（タブ区切り）\n",
    "> - ヘッダ有り\n",
    "> - 文字コードはUTF-8"
   ]
  },
  {
   "cell_type": "code",
   "execution_count": null,
   "metadata": {},
   "outputs": [],
   "source": []
  },
  {
   "cell_type": "markdown",
   "metadata": {},
   "source": [
    "---\n",
    "> P-100: 先に作成した以下形式のファイルを読み込み、データフレームを作成せよ。また、先頭10件を表示させ、正しくとりまれていることを確認せよ。\n",
    ">\n",
    "> - ファイル形式はTSV（タブ区切り）\n",
    "> - ヘッダ有り\n",
    "> - 文字コードはUTF-8"
   ]
  },
  {
   "cell_type": "code",
   "execution_count": null,
   "metadata": {},
   "outputs": [],
   "source": []
  },
  {
   "cell_type": "markdown",
   "metadata": {},
   "source": [
    "# これで１００本終わりです。おつかれさまでした！"
   ]
  }
 ],
 "metadata": {
  "kernelspec": {
   "display_name": "Python 3",
   "language": "python",
   "name": "python3"
  },
  "language_info": {
   "codemirror_mode": {
    "name": "ipython",
    "version": 3
   },
   "file_extension": ".py",
   "mimetype": "text/x-python",
   "name": "python",
   "nbconvert_exporter": "python",
   "pygments_lexer": "ipython3",
   "version": "3.8.4"
  }
 },
 "nbformat": 4,
 "nbformat_minor": 4
}

{
 "cells": [
  {
   "cell_type": "code",
   "execution_count": 11,
   "metadata": {},
   "outputs": [],
   "source": [
    "#データ読み込み\n",
    "from pyspark.sql import SparkSession\n",
    "from pyspark.context import SparkContext\n",
    "\n",
    "sc = SparkContext.getOrCreate()\n",
    "spark = SparkSession(sc)\n",
    "\n",
    "df_customer = spark.read.option(\"header\",\"True\").csv(\"./data/customer.csv\")\n",
    "df_category = spark.read.option(\"header\",\"True\").csv(\"./data/category.csv\")\n",
    "df_product = spark.read.option(\"header\",\"True\").csv(\"./data/product.csv\")\n",
    "df_receipt = spark.read.option(\"header\",\"True\").csv(\"./data/receipt.csv\")\n",
    "df_store = spark.read.option(\"header\",\"True\").csv(\"./data/cus.csv\")\n",
    "df_geocode = spark.read.option(\"header\",\"True\").csv(\"./data/customer.csv\")"
   ]
  },
  {
   "cell_type": "code",
   "execution_count": 13,
   "metadata": {},
   "outputs": [
    {
     "data": {
      "text/plain": [
       "Row(customer_id='CS021313000114', customer_name='大野 あや子', gender_cd='1', gender='女性', birth_day='1981-04-29', age='37', postal_cd='259-1113', address='神奈川県伊勢原市粟窪**********', application_store_cd='S14021', application_date='20150905', status_cd='0-00000000-0')"
      ]
     },
     "execution_count": 13,
     "metadata": {},
     "output_type": "execute_result"
    }
   ],
   "source": [
    "df_customer.first()"
   ]
  }
 ],
 "metadata": {
  "kernelspec": {
   "display_name": "Python 3",
   "language": "python",
   "name": "python3"
  },
  "language_info": {
   "codemirror_mode": {
    "name": "ipython",
    "version": 3
   },
   "file_extension": ".py",
   "mimetype": "text/x-python",
   "name": "python",
   "nbconvert_exporter": "python",
   "pygments_lexer": "ipython3",
   "version": "3.8.4"
  }
 },
 "nbformat": 4,
 "nbformat_minor": 4
}
